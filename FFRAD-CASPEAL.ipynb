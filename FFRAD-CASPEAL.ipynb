{
 "cells": [
  {
   "cell_type": "code",
   "execution_count": 1,
   "id": "3c028a8c-5deb-4664-a3ba-8560a3f31ac6",
   "metadata": {},
   "outputs": [
    {
     "name": "stdout",
     "output_type": "stream",
     "text": [
      "Using device: cuda\n",
      "NVIDIA GeForce RTX 2070 SUPER\n"
     ]
    }
   ],
   "source": [
    "import torch\n",
    "\n",
    "device = torch.device('cuda' if torch.cuda.is_available() else 'cpu')\n",
    "print('Using device:', device)\n",
    "\n",
    "# Additional information about the CUDA device\n",
    "if device.type == 'cuda':\n",
    "    print(torch.cuda.get_device_name(0))\n"
   ]
  },
  {
   "cell_type": "markdown",
   "id": "40bf0142-7c0d-4a68-b3ac-f88a1e7e9899",
   "metadata": {},
   "source": [
    "**For merging frontal and pose images with the same folder**"
   ]
  },
  {
   "cell_type": "code",
   "execution_count": 2,
   "id": "8eb3349f-9535-49aa-8e8c-c2880076dd54",
   "metadata": {},
   "outputs": [],
   "source": [
    "import os\n",
    "import numpy as np\n",
    "from PIL import Image\n",
    "\n",
    "def is_jpeg(filename):\n",
    "    return any(filename.endswith(extension) for extension in [\".jpg\", \".jpeg\", \".png\"])\n",
    "\n",
    "class ExternalInputIterator:\n",
    "    def __init__(self, imageset_dir, batch_size, random_shuffle=False):\n",
    "        self.imageset_dir = imageset_dir\n",
    "        self.batch_size = batch_size\n",
    "\n",
    "        # Set pose directory\n",
    "        self.pose_dir = os.path.join(imageset_dir, \"pose\")\n",
    "        print(self.pose_dir)\n",
    "\n",
    "        # Collect profile image paths\n",
    "        self.profile_files = [os.path.join(self.pose_dir, file) for file in sorted(os.listdir(self.pose_dir)) if is_jpeg(file)]\n",
    "        print(len(self.profile_files))\n",
    "\n",
    "        # Shuffle if necessary\n",
    "        if random_shuffle:\n",
    "            np.random.shuffle(self.profile_files)\n",
    "\n",
    "        self.i = 0\n",
    "        self.n = len(self.profile_files)\n",
    "\n",
    "    def __iter__(self):\n",
    "        return self\n",
    "\n",
    "    def __next__(self):\n",
    "        profiles = []\n",
    "        frontals = []\n",
    "\n",
    "        for _ in range(self.batch_size):\n",
    "            profile_filename = self.profile_files[self.i]\n",
    "            frontal_filename = self.match_frontal_image(profile_filename)\n",
    "\n",
    "            with Image.open(profile_filename) as profile_img:\n",
    "                profiles.append(np.array(profile_img))\n",
    "            with Image.open(frontal_filename) as frontal_img:\n",
    "                frontals.append(np.array(frontal_img))\n",
    "\n",
    "            self.i = (self.i + 1) % self.n\n",
    "\n",
    "        return (profiles, frontals)\n",
    "\n",
    "    def match_frontal_image(self, profile_filename):\n",
    "        profile_name = os.path.basename(profile_filename).split(\"_\")[0]\n",
    "        for frontal_file in self.profile_files:\n",
    "            if profile_name in frontal_file and \"051\" in frontal_file:\n",
    "                return frontal_file\n",
    "        return None\n",
    "\n",
    "class ImagePipeline:\n",
    "    def __init__(self, imageset_dir, image_size=128, random_shuffle=False, batch_size=64, device_id=0):\n",
    "        self.eii = ExternalInputIterator(imageset_dir, batch_size, random_shuffle)\n",
    "        self.iterator = iter(self.eii)\n",
    "        self.num_inputs = len(self.eii.profile_files)\n",
    "        self.image_size = image_size\n",
    "\n",
    "    def epoch_size(self, name=None):\n",
    "        return self.num_inputs\n",
    "\n",
    "    def __len__(self):\n",
    "        return self.num_inputs\n",
    "\n",
    "    def __iter__(self):\n",
    "        return self\n",
    "\n",
    "    def __next__(self):\n",
    "        (images, targets) = next(self.iterator)\n",
    "\n",
    "        # Perform resizing and normalization using NumPy\n",
    "        resized_images = np.array([np.array(Image.fromarray(img).resize((self.image_size, self.image_size))) for img in images])\n",
    "        resized_targets = np.array([np.array(Image.fromarray(target).resize((self.image_size, self.image_size))) for target in targets])\n",
    "\n",
    "        # Normalize using mean and standard deviation\n",
    "        normalized_images = (resized_images - 128.0) / 128.0\n",
    "        normalized_targets = (resized_targets - 128.0) / 128.0\n",
    "\n",
    "        return (normalized_images, normalized_targets)\n",
    "\n",
    "    def __getitem__(self, index):\n",
    "        # Advance the iterator to the desired index\n",
    "        for _ in range(index):\n",
    "            next(self.iterator)\n",
    "\n",
    "        # Return the next batch\n",
    "        return next(self)\n"
   ]
  },
  {
   "cell_type": "code",
   "execution_count": 4,
   "id": "dd9ce9a9-7af9-4659-ba01-0a0c0dc6dfd8",
   "metadata": {},
   "outputs": [],
   "source": [
    "import torch\n",
    "import torch.nn as nn\n",
    "import torch.nn.functional as F\n",
    "\n",
    "def weights_init(m):\n",
    "    classname = m.__class__.__name__\n",
    "    \n",
    "    if classname.find('Conv') != -1:\n",
    "        m.weight.data.normal_(0.0, 0.02)\n",
    "    \n",
    "    elif classname.find('BatchNorm') != -1:\n",
    "        m.weight.data.normal_(1.0, 0.02)\n",
    "        m.bias.data.fill_(0)"
   ]
  },
  {
   "cell_type": "code",
   "execution_count": 5,
   "id": "ac6d076f-1943-49b9-9033-1eee001812b6",
   "metadata": {},
   "outputs": [],
   "source": [
    "import torch\n",
    "import torch.nn as nn\n",
    "import torch.nn.functional as F\n",
    "\n",
    "class SelfAttention(nn.Module):\n",
    "    def __init__(self, in_dim):\n",
    "        super(SelfAttention, self).__init__()\n",
    "        self.query_conv = nn.Conv2d(in_channels=in_dim, out_channels=in_dim//8, kernel_size=1)\n",
    "        self.key_conv = nn.Conv2d(in_channels=in_dim, out_channels=in_dim//8, kernel_size=1)\n",
    "        self.value_conv = nn.Conv2d(in_channels=in_dim, out_channels=in_dim, kernel_size=1)\n",
    "        self.gamma = nn.Parameter(torch.zeros(1))\n",
    "\n",
    "    def forward(self, x):\n",
    "        m_batchsize, C, width, height = x.size()\n",
    "        proj_query = self.query_conv(x).view(m_batchsize, -1, width*height).permute(0, 2, 1)\n",
    "        proj_key = self.key_conv(x).view(m_batchsize, -1, width*height)\n",
    "        energy = torch.bmm(proj_query, proj_key)\n",
    "        attention = F.softmax(energy, dim=-1)\n",
    "        proj_value = self.value_conv(x).view(m_batchsize, -1, width*height)\n",
    "\n",
    "        out = torch.bmm(proj_value, attention.permute(0, 2, 1))\n",
    "        out = out.view(m_batchsize, C, width, height)\n",
    "\n",
    "        out = self.gamma * out + x\n",
    "        return out"
   ]
  },
  {
   "cell_type": "code",
   "execution_count": 6,
   "id": "946f6b02-7412-4761-b5e6-fc828b0bff52",
   "metadata": {},
   "outputs": [],
   "source": [
    "class ChannelAttention(nn.Module):\n",
    "    def __init__(self, in_channels, reduction_ratio=16):\n",
    "        super(ChannelAttention, self).__init__()\n",
    "        self.avg_pool = nn.AdaptiveAvgPool2d(1)\n",
    "        self.max_pool = nn.AdaptiveMaxPool2d(1)\n",
    "        self.fc = nn.Sequential(\n",
    "            nn.Conv2d(in_channels, in_channels // reduction_ratio, 1, bias=False),\n",
    "            nn.ReLU(inplace=True),\n",
    "            nn.Conv2d(in_channels // reduction_ratio, in_channels, 1, bias=False),\n",
    "            nn.Sigmoid()\n",
    "        )\n",
    "\n",
    "    def forward(self, x):\n",
    "        avg_pool = self.avg_pool(x)\n",
    "        max_pool = self.max_pool(x)\n",
    "        avg_out = self.fc(avg_pool)\n",
    "        max_out = self.fc(max_pool)\n",
    "        out = avg_out + max_out\n",
    "        return out * x\n"
   ]
  },
  {
   "cell_type": "code",
   "execution_count": 7,
   "id": "55a79352-07fb-459d-a8a3-2fe6139146d8",
   "metadata": {},
   "outputs": [],
   "source": [
    "class G(nn.Module):\n",
    "    def __init__(self):\n",
    "        super(G, self).__init__()\n",
    "        # Encoder\n",
    "        self.encoder1 = nn.Sequential(\n",
    "            nn.Conv2d(1, 64, 4, 2, 1),  # 64x64\n",
    "            nn.BatchNorm2d(64),\n",
    "            nn.ReLU(True),\n",
    "            ChannelAttention(64)  # Add channel attention\n",
    "        )\n",
    "        self.encoder2 = nn.Sequential(\n",
    "            nn.Conv2d(64, 128, 4, 2, 1),         # 32x32\n",
    "            nn.BatchNorm2d(128),\n",
    "            nn.ReLU(True),\n",
    "            ChannelAttention(128)  # Add channel attention\n",
    "        )\n",
    "        self.encoder3 = nn.Sequential(\n",
    "            nn.Conv2d(128, 256, 4, 2, 1),        # 16x16\n",
    "            nn.BatchNorm2d(256),\n",
    "            nn.ReLU(True),\n",
    "            ChannelAttention(256)  # Add channel attention\n",
    "        )\n",
    "        self.encoder4 = nn.Sequential(\n",
    "            nn.Conv2d(256, 512, 4, 2, 1),        # 8x8\n",
    "            nn.BatchNorm2d(512),\n",
    "            nn.ReLU(True),\n",
    "            ChannelAttention(512)  # Add channel attention\n",
    "        )\n",
    "        self.encoder5 = nn.Sequential(\n",
    "            nn.Conv2d(512, 512, 4, 2, 1),        # 4x4\n",
    "            nn.BatchNorm2d(512),\n",
    "            nn.ReLU(True),\n",
    "            ChannelAttention(512)  # Add channel attention\n",
    "        )\n",
    "        self.encoder6 = nn.Sequential(\n",
    "            nn.Conv2d(512, 512, 4, 2, 1),        # 2x2\n",
    "            nn.BatchNorm2d(512),\n",
    "            nn.ReLU(True),\n",
    "            ChannelAttention(512)  # Add channel attention\n",
    "        )\n",
    "\n",
    "        # Bottleneck\n",
    "        self.bottleneck = nn.Sequential(\n",
    "            nn.Conv2d(512, 1024, 4, 2, 1),       # 1x1\n",
    "            nn.BatchNorm2d(1024),\n",
    "            nn.ReLU(True),\n",
    "            nn.ConvTranspose2d(1024, 512, 4, 2, 1),  # 2x2\n",
    "            nn.BatchNorm2d(512),\n",
    "            nn.ReLU(True)\n",
    "        )\n",
    "\n",
    "        # Decoder\n",
    "        self.decoder1 = nn.Sequential(\n",
    "            nn.ConvTranspose2d(1024, 512, 4, 2, 1),   # 4x4\n",
    "            nn.BatchNorm2d(512),\n",
    "            nn.ReLU(True)\n",
    "        )\n",
    "        self.decoder2 = nn.Sequential(\n",
    "            nn.ConvTranspose2d(1024, 512, 4, 2, 1),  # 8x8\n",
    "            nn.BatchNorm2d(512),\n",
    "            nn.ReLU(True)\n",
    "        )\n",
    "        self.decoder3 = nn.Sequential(\n",
    "            nn.ConvTranspose2d(1024, 256, 4, 2, 1),   # 16x16\n",
    "            nn.BatchNorm2d(256),\n",
    "            nn.ReLU(True),\n",
    "            SelfAttention(256)  # Add self-attention\n",
    "        )\n",
    "        self.decoder4 = nn.Sequential(\n",
    "            nn.ConvTranspose2d(512, 128, 4, 2, 1),   # 32x32\n",
    "            nn.BatchNorm2d(128),\n",
    "            nn.ReLU(True),\n",
    "            SelfAttention(128)  # Add self-attention\n",
    "        )\n",
    "        self.decoder5 = nn.Sequential(\n",
    "            nn.ConvTranspose2d(256, 64, 4, 2, 1),    # 64x64\n",
    "            nn.BatchNorm2d(64),\n",
    "            nn.ReLU(True)\n",
    "        )\n",
    "        self.decoder6 = nn.Sequential(\n",
    "            nn.ConvTranspose2d(128, 1, 4, 2, 1),  # 128x128\n",
    "            nn.Tanh()\n",
    "        )\n",
    "\n",
    "    def forward(self, x):\n",
    "        # Encoding\n",
    "        enc1 = self.encoder1(x)\n",
    "        enc2 = self.encoder2(enc1)\n",
    "        enc3 = self.encoder3(enc2)\n",
    "        enc4 = self.encoder4(enc3)\n",
    "        enc5 = self.encoder5(enc4)\n",
    "        enc6 = self.encoder6(enc5)\n",
    "\n",
    "        # Bottleneck\n",
    "        bottleneck = self.bottleneck(enc6)\n",
    "\n",
    "        # Decoding and adding skip connection\n",
    "        dec1 = self.decoder1(torch.cat([bottleneck, enc6], dim=1))\n",
    "        dec2 = self.decoder2(torch.cat([dec1, enc5], dim=1))\n",
    "        dec3 = self.decoder3(torch.cat([dec2, enc4], dim=1))\n",
    "        dec4 = self.decoder4(torch.cat([dec3, enc3], dim=1))\n",
    "        dec5 = self.decoder5(torch.cat([dec4, enc2], dim=1))\n",
    "        decoded = self.decoder6(torch.cat([dec5, enc1], dim=1))\n",
    "\n",
    "        return decoded\n",
    "\n",
    "# Example usage:\n",
    "# generator = G()\n",
    "# generator.apply(weights_init)\n",
    "# print(generator)\n"
   ]
  },
  {
   "cell_type": "code",
   "execution_count": 8,
   "id": "419dc538-007b-4158-8937-8aec153ca19c",
   "metadata": {},
   "outputs": [],
   "source": [
    "import torch\n",
    "from torch import nn\n",
    "\n",
    "class RelativeAvgDiscriminator(nn.Module):\n",
    "  def __init__(self):\n",
    "    super(RelativeAvgDiscriminator, self).__init__()\n",
    "\n",
    "    # Separate feature extraction for real and generated data\n",
    "    self.conv_real = nn.Sequential(\n",
    "        nn.Conv2d(1, 16, 4, 2, 1),\n",
    "        nn.LeakyReLU(0.2, inplace=True),\n",
    "        nn.Conv2d(16, 32, 4, 2, 1),\n",
    "        nn.BatchNorm2d(32),\n",
    "        nn.LeakyReLU(0.2, inplace=True),\n",
    "        nn.Conv2d(32, 64, 4, 2, 1),\n",
    "        nn.BatchNorm2d(64),\n",
    "        nn.LeakyReLU(0.2, inplace=True),\n",
    "    )\n",
    "    self.conv_generated = nn.Sequential(\n",
    "        nn.Conv2d(1, 16, 4, 2, 1),\n",
    "        nn.LeakyReLU(0.2, inplace=True),\n",
    "        nn.Conv2d(16, 32, 4, 2, 1),\n",
    "        nn.BatchNorm2d(32),\n",
    "        nn.LeakyReLU(0.2, inplace=True),\n",
    "        nn.Conv2d(32, 64, 4, 2, 1),\n",
    "        nn.BatchNorm2d(64),\n",
    "        nn.LeakyReLU(0.2, inplace=True),\n",
    "    )\n",
    "\n",
    "    # Relative Average Pooling\n",
    "    self.avgpool = nn.AvgPool2d(kernel_size=2, stride=2)\n",
    "\n",
    "    # Remaining convolutional layers (modified for combined features)\n",
    "    self.post_pool = nn.Sequential(\n",
    "        nn.Conv2d(128, 128, 4, 2, 1),  # Input channels changed to 128\n",
    "        nn.BatchNorm2d(128),\n",
    "        nn.LeakyReLU(0.2, inplace=True),\n",
    "        nn.Conv2d(128, 256, 4, 2, 1),\n",
    "        nn.BatchNorm2d(256),\n",
    "        nn.LeakyReLU(0.2, inplace=True),\n",
    "       \n",
    "    )\n",
    "\n",
    "    # Output layer with sigmoid activation\n",
    "    self.output = nn.Sigmoid()\n",
    "\n",
    "  def forward(self, real, fake):\n",
    "    # Extract features from real and generated data\n",
    "    real_features = self.conv_real(real)\n",
    "    generated_features = self.conv_generated(fake)\n",
    "\n",
    "    # Concatenate features before pooling\n",
    "    combined_features = torch.cat([real_features, generated_features], dim=1)\n",
    "\n",
    "    # Relative Average Pooling\n",
    "    features = self.avgpool(combined_features)\n",
    "\n",
    "    # Process features with remaining layers\n",
    "    output = self.post_pool(features)\n",
    "\n",
    "    # Probability score\n",
    "    #probability = self.output(logits)\n",
    "\n",
    "    return output\n"
   ]
  },
  {
   "cell_type": "code",
   "execution_count": 32,
   "id": "cd799826-fbe1-481e-b76f-98fc413e9649",
   "metadata": {},
   "outputs": [
    {
     "name": "stdout",
     "output_type": "stream",
     "text": [
      "D:\\All_image_in_one\\pose\n",
      "288\n"
     ]
    }
   ],
   "source": [
    "from __future__ import print_function\n",
    "import time\n",
    "import math\n",
    "import random\n",
    "import os\n",
    "from os import listdir\n",
    "from os.path import join\n",
    "from PIL import Image\n",
    "\n",
    "import numpy as np\n",
    "import torch\n",
    "import torch.nn as nn\n",
    "import torch.nn.parallel\n",
    "import torch.optim as optim\n",
    "import torchvision.utils as vutils\n",
    "from torch.autograd import Variable\n",
    "import torch\n",
    "from torch.utils.data import DataLoader\n",
    "from tqdm import tqdm\n",
    "\n",
    "#from nvidia.dali.plugin.pytorch import DALIGenericIterator\n",
    "\n",
    "#from data import ImagePipeline\n",
    "#import network\n",
    "\n",
    "np.random.seed(42)\n",
    "random.seed(10)\n",
    "torch.backends.cudnn.deterministic = True\n",
    "torch.backends.cudnn.benchmark = False\n",
    "torch.manual_seed(999)\n",
    "torch.cuda.manual_seed(999)\n",
    "# Where is your training dataset at?\n",
    "datapath =r\"D:\\All_image_in_one\"\n",
    "\n",
    "# You can also choose which GPU you want your model to be trained on below:\n",
    "gpu_id = 0\n",
    "device = torch.device(\"cuda\", gpu_id)\n",
    "\n",
    "#checkpoint_dir = \"checkpoints\"\n",
    "\n",
    "\"\"\"train_pipe = ImagePipeline(datapath, image_size=128, random_shuffle=True, batch_size=30, device_id=gpu_id)\n",
    "train_pipe.build()\n",
    "m_train = train_pipe.epoch_size()\n",
    "print(\"Size of the training set: \", m_train)\n",
    "train_pipe_loader = DALIGenericIterator(train_pipe, [\"profiles\", \"frontals\"], m_train)\"\"\"\n",
    "# Assuming you have the modified ImagePipeline class from the previous responses\n",
    "train_pipe = ImagePipeline(datapath, image_size=64, random_shuffle=True, batch_size=4, device_id=gpu_id)\n",
    "# No need to call build() without DALI\n",
    "\n",
    "# Use a standard PyTorch DataLoader instead of DALIGenericIterator\n",
    "#train_pipe_loader = DataLoader(train_pipe, batch_size=train_pipe.batch_size)\n",
    "m_train = train_pipe.epoch_size()\n",
    "#train_pipe_loader = DataLoader(train_pipe, batch_size=32,)\n",
    "train_pipe_loader = DataLoader(train_pipe,batch_size=32)\n",
    "\n",
    "criterion = nn.BCEWithLogitsLoss()"
   ]
  },
  {
   "cell_type": "code",
   "execution_count": 10,
   "id": "b18b2e45-dd17-4268-848f-62c823bc5af4",
   "metadata": {},
   "outputs": [],
   "source": [
    "import torch\n",
    "import torch.nn.functional as F\n",
    "import torchvision.utils as vutils\n",
    "from tqdm import tqdm\n",
    "from torch.autograd import Variable\n",
    "from skimage.metrics import structural_similarity as ssim\n",
    "\n",
    "# Define a function to calculate PSNR\n",
    "def calculate_psnr(img1, img2):\n",
    "    mse = F.mse_loss(img1, img2)\n",
    "    psnr = 20 * torch.log10(1.0 / torch.sqrt(mse))\n",
    "    return psnr.item()\n",
    "\n",
    "# Define a function to calculate SSIM\n",
    "# Define a function to calculate SSIM\n",
    "def calculate_ssim(img1, img2):\n",
    "    # Ensure tensors are on the same device\n",
    "    if img1.device != img2.device:\n",
    "        raise ValueError(\"Input tensors must be on the same device\")\n",
    "\n",
    "    # Calculate SSIM directly on GPU tensors\n",
    "    img1 = img1.detach().squeeze().clamp(0, 1).cpu().numpy()  # Ensure pixel values are in [0, 1] range\n",
    "    img2 = img2.detach().squeeze().clamp(0, 1).cpu().numpy()  # Ensure pixel values are in [0, 1] range\n",
    "    return ssim(img1.transpose(1, 2, 0), img2.transpose(1, 2, 0), multichannel=True, data_range=1)\n",
    "\n",
    "\n",
    "# Define lists to store PSNR and SSIM values for each epoch\n",
    "psnr_values = []\n",
    "ssim_values = []"
   ]
  },
  {
   "cell_type": "code",
   "execution_count": 11,
   "id": "8c5feeca-453f-40c5-bcc0-fecb59470d48",
   "metadata": {},
   "outputs": [],
   "source": [
    "import torch\n",
    "import torch.nn as nn\n",
    "import torch.optim as optim\n",
    "from torch.autograd import Variable\n",
    "import torchvision.utils as vutils\n",
    "from tqdm import tqdm\n",
    "import os\n",
    "import time\n",
    "\n",
    "#gpu_id = 0\n",
    "#device = torch.device(\"cuda\", gpu_id)\n",
    "\n",
    "netG = G().to(device)\n",
    "netG.apply(weights_init)\n",
    "\n",
    "netD = RelativeAvgDiscriminator().to(device)\n",
    "netD.apply(weights_init)\n",
    "\n",
    "L1_factor = 1\n",
    "L2_factor = 1\n",
    "GAN_factor = 0.005\n",
    "\n",
    "#criterion = nn.BCEWithLogitsLoss()\n",
    "\n",
    "optimizerD = optim.Adam(netD.parameters(), lr=0.0002, betas=(0.5, 0.999))\n",
    "optimizerG = optim.Adam(netG.parameters(), lr=0.0002, betas=(0.5, 0.999), eps=1e-8)\n",
    "\n",
    "\n"
   ]
  },
  {
   "cell_type": "code",
   "execution_count": 12,
   "id": "426e49f0-257e-431e-a368-f3ade74cc014",
   "metadata": {},
   "outputs": [],
   "source": [
    "# Lists to store the losses\n",
    "losses_L1 = []\n",
    "losses_L2 = []\n",
    "losses_gan = []\n"
   ]
  },
  {
   "cell_type": "code",
   "execution_count": 13,
   "id": "a87de561-eb5c-4b08-a038-035ecc114b78",
   "metadata": {},
   "outputs": [],
   "source": [
    "import torch\n",
    "import torch.nn.functional as F\n",
    "\n",
    "def multi_scale_pixelwise_loss(fake_images, real_images, num_scales=3):\n",
    "    loss = 0.0\n",
    "    for scale in range(num_scales):\n",
    "        fake_scaled = F.interpolate(fake_images, scale_factor=1 / (2 ** scale), mode='bilinear', align_corners=False)\n",
    "        real_scaled = F.interpolate(real_images, scale_factor=1 / (2 ** scale), mode='bilinear', align_corners=False)\n",
    "        pixel_loss = F.l1_loss(fake_scaled, real_scaled)\n",
    "        loss += pixel_loss / (2 ** scale)\n",
    "    return loss\n"
   ]
  },
  {
   "cell_type": "code",
   "execution_count": 14,
   "id": "2c13f799-d937-4338-a717-45bd80a87cee",
   "metadata": {},
   "outputs": [],
   "source": [
    "# Initialize lists to store losses\n",
    "generator_losses = []\n",
    "discriminator_losses = []\n",
    "multi_scale_losses = []\n",
    "\n",
    "avg_generator_losses = []\n",
    "avg_discriminator_losses = []\n",
    "avg_multi_scale_losses = []"
   ]
  },
  {
   "cell_type": "code",
   "execution_count": 15,
   "id": "e2e96e6c-b47f-4519-b677-a4593a6d7bfb",
   "metadata": {},
   "outputs": [],
   "source": [
    "start_time = time.time()"
   ]
  },
  {
   "cell_type": "code",
   "execution_count": 48,
   "id": "6bd5fc16-01ee-4687-9b65-b03de582087e",
   "metadata": {},
   "outputs": [],
   "source": [
    "import os\n",
    "import numpy as np\n",
    "from PIL import Image\n",
    "\n",
    "def is_jpeg(filename):\n",
    "    return any(filename.endswith(extension) for extension in [\".jpg\", \".jpeg\", \".png\"])\n",
    "\n",
    "def get_subdirs(directory):\n",
    "    subdirs = sorted([os.path.join(directory, name) for name in sorted(os.listdir(directory)) if os.path.isdir(os.path.join(directory, name))])\n",
    "    return subdirs\n",
    "\n",
    "class ExternalInputIterator:\n",
    "    def __init__(self, imageset_dir, batch_size, random_shuffle=False):\n",
    "        self.imageset_dir = imageset_dir\n",
    "        self.batch_size = batch_size\n",
    "\n",
    "        # Get subdirectories (assuming \"pose\" and \"frontal\" folders exist)\n",
    "        #self.pose_dirs = get_subdirs(os.path.join(imageset_dir, \"pose\"))\n",
    "        self.pose_dirs = os.path.join(imageset_dir, \"pose\")\n",
    "        self.frontal_dir = os.path.join(imageset_dir, \"frontal\")\n",
    "        print(self.frontal_dir)\n",
    "        print(self.pose_dirs)\n",
    "\n",
    "        # Collect profile image paths\n",
    "        self.profile_files = []\n",
    "        #for pose_dir in self.pose_dirs:\n",
    "        profile_files = [os.path.join(self.pose_dirs, file) for file in sorted(os.listdir(self.pose_dirs)) if is_jpeg(file)]\n",
    "        self.profile_files.extend(profile_files)\n",
    "        print(len(self.profile_files))\n",
    "\n",
    "        # Collect frontal image paths\n",
    "        self.frontal_files = [os.path.join(self.frontal_dir, file) for file in sorted(os.listdir(self.frontal_dir)) if is_jpeg(file)]\n",
    "        print(len(self.frontal_files))\n",
    "\n",
    "        # Shuffle if necessary\n",
    "        if random_shuffle:\n",
    "            np.random.shuffle(self.profile_files)\n",
    "            np.random.shuffle(self.frontal_files)\n",
    "\n",
    "        self.i = 0\n",
    "        self.n = len(self.profile_files)\n",
    "\n",
    "    def __iter__(self):\n",
    "        return self\n",
    "\n",
    "    def __next__(self):\n",
    "        profiles = []\n",
    "        frontals = []\n",
    "\n",
    "        for _ in range(self.batch_size):\n",
    "            profile_filename = self.profile_files[self.i]\n",
    "            frontal_filename = self.match_frontal_image(profile_filename)\n",
    "\n",
    "            with Image.open(profile_filename) as profile_img:\n",
    "                profiles.append(np.array(profile_img))\n",
    "            with Image.open(frontal_filename) as frontal_img:\n",
    "                frontals.append(np.array(frontal_img))\n",
    "\n",
    "            self.i = (self.i + 1) % self.n\n",
    "\n",
    "        return (profiles, frontals)\n",
    "\n",
    "    def match_frontal_image(self, profile_filename):\n",
    "        profile_name = os.path.basename(profile_filename).split(\"_\")[1]\n",
    "        for frontal_file in self.frontal_files:\n",
    "            if profile_name in frontal_file:\n",
    "                return frontal_file\n",
    "        return None\n",
    "\n",
    "class ImagePipeline:\n",
    "    def __init__(self, imageset_dir, image_size=128, random_shuffle=False, batch_size=64,device=device):\n",
    "        self.eii = ExternalInputIterator(imageset_dir, batch_size, random_shuffle)\n",
    "        self.iterator = iter(self.eii)\n",
    "        self.num_inputs = len(self.eii.profile_files)\n",
    "        self.image_size = image_size\n",
    "\n",
    "    def epoch_size(self, name=None):\n",
    "        return self.num_inputs\n",
    "\n",
    "    def __len__(self):\n",
    "        return self.num_inputs\n",
    "\n",
    "    def __iter__(self):\n",
    "        return self\n",
    "\n",
    "    def __next__(self):\n",
    "        (images, targets) = next(self.iterator)\n",
    "\n",
    "        # Perform resizing and normalization using NumPy\n",
    "        resized_images = np.array([np.array(Image.fromarray(img).resize((self.image_size, self.image_size))) for img in images])\n",
    "        resized_targets = np.array([np.array(Image.fromarray(target).resize((self.image_size, self.image_size))) for target in targets])\n",
    "\n",
    "        # Calculate mean and standard deviation for each channel separately\n",
    "        #mean = np.array([0.5, 0.5, 0.5])  # Assuming RGB images have pixel values in [0, 255] range\n",
    "        #std = np.array([0.5, 0.5, 0.5])   # Assuming RGB images have pixel values in [0, 255] range\n",
    "        \n",
    "        # Normalize each channel independently\n",
    "        #normalized_images = (resized_images / 255.0 - mean) / std\n",
    "        #normalized_targets = (resized_targets / 255.0 - mean) / std\n",
    "\n",
    "\n",
    "        # Normalize using mean and standard deviation\n",
    "        normalized_images = (resized_images - 128.0) / 128.0\n",
    "        normalized_targets = (resized_targets - 128.0) / 128.0\n",
    "\n",
    "        return (normalized_images, normalized_targets)\n",
    "\n",
    "    def __getitem__(self, index):\n",
    "        # Advance the iterator to the desired index\n",
    "        for _ in range(index):\n",
    "            next(self.iterator)\n",
    "\n",
    "        # Return the next batch\n",
    "        return next(self)\n"
   ]
  },
  {
   "cell_type": "code",
   "execution_count": null,
   "id": "169c570a-639f-4899-ac6e-0cd07b848f0f",
   "metadata": {},
   "outputs": [],
   "source": []
  },
  {
   "cell_type": "markdown",
   "id": "125c4df3-f0fd-4740-9673-a938790ecd4e",
   "metadata": {},
   "source": [
    "**Solving error if the file is not found**"
   ]
  },
  {
   "cell_type": "code",
   "execution_count": null,
   "id": "5c738b87-a37b-4d6a-a995-2e95e40df849",
   "metadata": {},
   "outputs": [],
   "source": []
  },
  {
   "cell_type": "code",
   "execution_count": 16,
   "id": "d51c8092-8667-4be5-8c5f-a4df419a5a88",
   "metadata": {},
   "outputs": [],
   "source": [
    "import os\n",
    "import numpy as np\n",
    "from PIL import Image\n",
    "import logging\n",
    "\n",
    "# Set up logging\n",
    "logging.basicConfig(filename='missing_files.log', level=logging.ERROR, format='%(asctime)s - %(levelname)s - %(message)s')\n",
    "\n",
    "def is_jpeg(filename):\n",
    "    return any(filename.endswith(extension) for extension in [\".jpg\", \".jpeg\", \".png\"])\n",
    "\n",
    "def get_subdirs(directory):\n",
    "    subdirs = sorted([os.path.join(directory, name) for name in sorted(os.listdir(directory)) if os.path.isdir(os.path.join(directory, name))])\n",
    "    return subdirs\n",
    "\n",
    "class ExternalInputIterator:\n",
    "    def __init__(self, imageset_dir, batch_size, random_shuffle=False):\n",
    "        self.imageset_dir = imageset_dir\n",
    "        self.batch_size = batch_size\n",
    "\n",
    "        # Get subdirectories (assuming \"pose\" and \"frontal\" folders exist)\n",
    "        self.pose_dirs = os.path.join(imageset_dir, \"pose\")\n",
    "        self.frontal_dir = os.path.join(imageset_dir, \"frontal\")\n",
    "        print(self.frontal_dir)\n",
    "        print(self.pose_dirs)\n",
    "\n",
    "        # Collect profile image paths\n",
    "        self.profile_files = [os.path.join(self.pose_dirs, file) for file in sorted(os.listdir(self.pose_dirs)) if is_jpeg(file)]\n",
    "        print(len(self.profile_files))\n",
    "\n",
    "        # Collect frontal image paths\n",
    "        self.frontal_files = [os.path.join(self.frontal_dir, file) for file in sorted(os.listdir(self.frontal_dir)) if is_jpeg(file)]\n",
    "        print(len(self.frontal_files))\n",
    "\n",
    "        # Shuffle if necessary\n",
    "        if random_shuffle:\n",
    "            np.random.shuffle(self.profile_files)\n",
    "            np.random.shuffle(self.frontal_files)\n",
    "\n",
    "        self.i = 0\n",
    "        self.n = len(self.profile_files)\n",
    "\n",
    "    def __iter__(self):\n",
    "        return self\n",
    "\n",
    "    def __next__(self):\n",
    "        profiles = []\n",
    "        frontals = []\n",
    "\n",
    "        for _ in range(self.batch_size):\n",
    "            profile_filename = self.profile_files[self.i]\n",
    "            frontal_filename = self.match_frontal_image(profile_filename)\n",
    "\n",
    "            try:\n",
    "                with Image.open(profile_filename) as profile_img:\n",
    "                    profiles.append(np.array(profile_img))\n",
    "            except FileNotFoundError:\n",
    "                logging.error(f'Profile image not found: {profile_filename}')\n",
    "                raise\n",
    "            except Exception as e:\n",
    "                logging.error(f'Error opening profile image {profile_filename}: {e}')\n",
    "                raise\n",
    "\n",
    "            if frontal_filename is None:\n",
    "                logging.error(f'Matching frontal image not found for: {profile_filename}')\n",
    "                raise FileNotFoundError(f'Matching frontal image not found for: {profile_filename}')\n",
    "            try:\n",
    "                with Image.open(frontal_filename) as frontal_img:\n",
    "                    frontals.append(np.array(frontal_img))\n",
    "            except FileNotFoundError:\n",
    "                logging.error(f'Frontal image not found: {frontal_filename}')\n",
    "                raise\n",
    "            except Exception as e:\n",
    "                logging.error(f'Error opening frontal image {frontal_filename}: {e}')\n",
    "                raise\n",
    "\n",
    "            self.i = (self.i + 1) % self.n\n",
    "\n",
    "        return (profiles, frontals)\n",
    "\n",
    "    def match_frontal_image(self, profile_filename):\n",
    "        profile_name = os.path.basename(profile_filename).split(\"_\")[1]\n",
    "        for frontal_file in self.frontal_files:\n",
    "            if profile_name in frontal_file:\n",
    "                return frontal_file\n",
    "        return None\n",
    "\n",
    "class ImagePipeline:\n",
    "    def __init__(self, imageset_dir, image_size=128, random_shuffle=False, batch_size=64, device=device):\n",
    "        self.eii = ExternalInputIterator(imageset_dir, batch_size, random_shuffle)\n",
    "        self.iterator = iter(self.eii)\n",
    "        self.num_inputs = len(self.eii.profile_files)\n",
    "        self.image_size = image_size\n",
    "\n",
    "    def epoch_size(self, name=None):\n",
    "        return self.num_inputs\n",
    "\n",
    "    def __len__(self):\n",
    "        return self.num_inputs\n",
    "\n",
    "    def __iter__(self):\n",
    "        return self\n",
    "\n",
    "    def __next__(self):\n",
    "        (images, targets) = next(self.iterator)\n",
    "\n",
    "        # Perform resizing and normalization using NumPy\n",
    "        resized_images = np.array([np.array(Image.fromarray(img).resize((self.image_size, self.image_size))) for img in images])\n",
    "        resized_targets = np.array([np.array(Image.fromarray(target).resize((self.image_size, self.image_size))) for target in targets])\n",
    "\n",
    "        # Normalize using mean and standard deviation\n",
    "        normalized_images = (resized_images - 128.0) / 128.0\n",
    "        normalized_targets = (resized_targets - 128.0) / 128.0\n",
    "\n",
    "        return (normalized_images, normalized_targets)\n",
    "\n",
    "    def __getitem__(self, index):\n",
    "        # Advance the iterator to the desired index\n",
    "        for _ in range(index):\n",
    "            next(self.iterator)\n",
    "\n",
    "        # Return the next batch\n",
    "        return next(self)\n"
   ]
  },
  {
   "cell_type": "code",
   "execution_count": null,
   "id": "67bc0a9e-76dc-40a4-a811-c7a500d3a8fc",
   "metadata": {},
   "outputs": [],
   "source": []
  },
  {
   "cell_type": "markdown",
   "id": "4b1ea34e-d4ed-4381-bc97-12a72978001a",
   "metadata": {},
   "source": [
    "**For training on CAS-PEAL-R1 dataset**"
   ]
  },
  {
   "cell_type": "code",
   "execution_count": null,
   "id": "afb58065-040c-4e2f-a71c-82648bcbe73e",
   "metadata": {},
   "outputs": [],
   "source": []
  },
  {
   "cell_type": "code",
   "execution_count": 17,
   "id": "a3adda57-fa25-4de9-bd6c-2b5d3ea88af8",
   "metadata": {},
   "outputs": [
    {
     "name": "stdout",
     "output_type": "stream",
     "text": [
      "C:\\Users\\zed\\Dataset\\CAS_5000\\frontal\n",
      "C:\\Users\\zed\\Dataset\\CAS_5000\\pose\n",
      "5055\n",
      "253\n"
     ]
    }
   ],
   "source": [
    "from __future__ import print_function\n",
    "import time\n",
    "import math\n",
    "import random\n",
    "import os\n",
    "from os import listdir\n",
    "from os.path import join\n",
    "from PIL import Image\n",
    "\n",
    "import numpy as np\n",
    "import torch\n",
    "import torch.nn as nn\n",
    "import torch.nn.parallel\n",
    "import torch.optim as optim\n",
    "import torchvision.utils as vutils\n",
    "from torch.autograd import Variable\n",
    "import torch\n",
    "from torch.utils.data import DataLoader\n",
    "from tqdm import tqdm\n",
    "\n",
    "#from nvidia.dali.plugin.pytorch import DALIGenericIterator\n",
    "\n",
    "#from data import ImagePipeline\n",
    "#import network\n",
    "\n",
    "np.random.seed(42)\n",
    "random.seed(10)\n",
    "torch.backends.cudnn.deterministic = True\n",
    "torch.backends.cudnn.benchmark = False\n",
    "torch.manual_seed(999)\n",
    "torch.cuda.manual_seed(999)\n",
    "# Where is your training dataset at?\n",
    "datapath =r\"C:\\Users\\zed\\Dataset\\CAS_5000\"\n",
    "\n",
    "# You can also choose which GPU you want your model to be trained on below:\n",
    "#gpu_id = 0\n",
    "#device = torch.device(\"cuda\", gpu_id)\n",
    "\n",
    "#checkpoint_dir = \"checkpoints\"\n",
    "\n",
    "\"\"\"train_pipe = ImagePipeline(datapath, image_size=128, random_shuffle=True, batch_size=30, device_id=gpu_id)\n",
    "train_pipe.build()\n",
    "m_train = train_pipe.epoch_size()\n",
    "print(\"Size of the training set: \", m_train)\n",
    "train_pipe_loader = DALIGenericIterator(train_pipe, [\"profiles\", \"frontals\"], m_train)\"\"\"\n",
    "# Assuming you have the modified ImagePipeline class from the previous responses\n",
    "train_pipe = ImagePipeline(datapath, image_size=128, random_shuffle=True, batch_size=1, device=device)\n",
    "# No need to call build() without DALI\n",
    "\n",
    "# Use a standard PyTorch DataLoader instead of DALIGenericIterator\n",
    "#train_pipe_loader = DataLoader(train_pipe, batch_size=train_pipe.batch_size)\n",
    "m_train = train_pipe.epoch_size()\n",
    "#train_pipe_loader = DataLoader(train_pipe, batch_size=32,)\n",
    "train_pipe_loader = DataLoader(train_pipe,batch_size=128,drop_last=True)\n",
    "\n",
    "criterion = nn.BCEWithLogitsLoss().to(device)"
   ]
  },
  {
   "cell_type": "code",
   "execution_count": null,
   "id": "0525aaa5-cb3c-4aac-a704-e779443a42f0",
   "metadata": {},
   "outputs": [],
   "source": []
  },
  {
   "cell_type": "code",
   "execution_count": null,
   "id": "25faf311-0746-46d6-ae15-5fa357249545",
   "metadata": {},
   "outputs": [],
   "source": []
  },
  {
   "cell_type": "code",
   "execution_count": 25,
   "id": "46835aec-84c7-470a-8e87-9205b58f2dc9",
   "metadata": {},
   "outputs": [
    {
     "name": "stderr",
     "output_type": "stream",
     "text": [
      "Epoch 0: 100%|███████████████████████████████████████████████████████████████████████████| 6/6 [01:04<00:00, 10.72s/it]\n"
     ]
    },
    {
     "name": "stdout",
     "output_type": "stream",
     "text": [
      "First training epoch completed in  772.8737080097198  seconds\n",
      "[1/30] Training absolute losses: L1 0.0126016 ; L2 0.0037668 BCE 0.0162341; Average PSNR: 8.90; Average SSIM: 0.3002\n"
     ]
    },
    {
     "name": "stderr",
     "output_type": "stream",
     "text": [
      "Epoch 1: 100%|███████████████████████████████████████████████████████████████████████████| 6/6 [01:03<00:00, 10.60s/it]\n"
     ]
    },
    {
     "name": "stdout",
     "output_type": "stream",
     "text": [
      "[2/30] Training absolute losses: L1 0.0084249 ; L2 0.0018818 BCE 0.0168373; Average PSNR: 11.69; Average SSIM: 0.5204\n"
     ]
    },
    {
     "name": "stderr",
     "output_type": "stream",
     "text": [
      "Epoch 2: 100%|███████████████████████████████████████████████████████████████████████████| 6/6 [01:03<00:00, 10.63s/it]\n"
     ]
    },
    {
     "name": "stdout",
     "output_type": "stream",
     "text": [
      "[3/30] Training absolute losses: L1 0.0074788 ; L2 0.0015516 BCE 0.0171350; Average PSNR: 12.51; Average SSIM: 0.5808\n"
     ]
    },
    {
     "name": "stderr",
     "output_type": "stream",
     "text": [
      "Epoch 3: 100%|███████████████████████████████████████████████████████████████████████████| 6/6 [01:03<00:00, 10.59s/it]\n"
     ]
    },
    {
     "name": "stdout",
     "output_type": "stream",
     "text": [
      "[4/30] Training absolute losses: L1 0.0070122 ; L2 0.0013533 BCE 0.0167902; Average PSNR: 13.10; Average SSIM: 0.6135\n"
     ]
    },
    {
     "name": "stderr",
     "output_type": "stream",
     "text": [
      "Epoch 4: 100%|███████████████████████████████████████████████████████████████████████████| 6/6 [01:03<00:00, 10.50s/it]\n"
     ]
    },
    {
     "name": "stdout",
     "output_type": "stream",
     "text": [
      "[5/30] Training absolute losses: L1 0.0064149 ; L2 0.0011841 BCE 0.0169770; Average PSNR: 13.66; Average SSIM: 0.6351\n"
     ]
    },
    {
     "name": "stderr",
     "output_type": "stream",
     "text": [
      "Epoch 5: 100%|███████████████████████████████████████████████████████████████████████████| 6/6 [01:03<00:00, 10.59s/it]\n"
     ]
    },
    {
     "name": "stdout",
     "output_type": "stream",
     "text": [
      "[6/30] Training absolute losses: L1 0.0057405 ; L2 0.0009902 BCE 0.0168366; Average PSNR: 14.42; Average SSIM: 0.6947\n"
     ]
    },
    {
     "name": "stderr",
     "output_type": "stream",
     "text": [
      "Epoch 6: 100%|███████████████████████████████████████████████████████████████████████████| 6/6 [01:03<00:00, 10.55s/it]\n"
     ]
    },
    {
     "name": "stdout",
     "output_type": "stream",
     "text": [
      "[7/30] Training absolute losses: L1 0.0052923 ; L2 0.0008535 BCE 0.0176959; Average PSNR: 15.06; Average SSIM: 0.7135\n"
     ]
    },
    {
     "name": "stderr",
     "output_type": "stream",
     "text": [
      "Epoch 7: 100%|███████████████████████████████████████████████████████████████████████████| 6/6 [01:03<00:00, 10.63s/it]\n"
     ]
    },
    {
     "name": "stdout",
     "output_type": "stream",
     "text": [
      "[8/30] Training absolute losses: L1 0.0050238 ; L2 0.0007756 BCE 0.0172082; Average PSNR: 15.48; Average SSIM: 0.7335\n"
     ]
    },
    {
     "name": "stderr",
     "output_type": "stream",
     "text": [
      "Epoch 8: 100%|███████████████████████████████████████████████████████████████████████████| 6/6 [01:04<00:00, 10.77s/it]\n"
     ]
    },
    {
     "name": "stdout",
     "output_type": "stream",
     "text": [
      "[9/30] Training absolute losses: L1 0.0050184 ; L2 0.0007992 BCE 0.0177462; Average PSNR: 15.34; Average SSIM: 0.7259\n"
     ]
    },
    {
     "name": "stderr",
     "output_type": "stream",
     "text": [
      "Epoch 9: 100%|███████████████████████████████████████████████████████████████████████████| 6/6 [01:04<00:00, 10.74s/it]\n"
     ]
    },
    {
     "name": "stdout",
     "output_type": "stream",
     "text": [
      "[10/30] Training absolute losses: L1 0.0045527 ; L2 0.0006608 BCE 0.0173684; Average PSNR: 16.16; Average SSIM: 0.7548\n"
     ]
    }
   ],
   "source": [
    "\n",
    "for epoch in range(10):  # Assuming 3 epochs for demonstration\n",
    "    \n",
    "    # Track loss values for each epoch\n",
    "    loss_L1 = 0\n",
    "    loss_L2 = 0\n",
    "    loss_gan = 0\n",
    "    total_psnr = 0\n",
    "    total_ssim = 0\n",
    "    \n",
    "   \n",
    "    with tqdm(total=len(train_pipe_loader), desc=f\"Epoch {epoch}\") as pbar:\n",
    "        \n",
    "        for i, data in enumerate(train_pipe_loader, 0):\n",
    "            profile = data[0].view(32, 1, 128, 128).to(device)  # Reshape and move to device\n",
    "            frontal = data[1].view(32, 1, 128, 128).to(device)  # Reshape and move to device\n",
    "\n",
    "            # TRAINING THE DISCRIMINATOR\n",
    "            netD.zero_grad()\n",
    "            optimizerD.zero_grad()\n",
    "\n",
    "            real = Variable(frontal).type('torch.FloatTensor').to(device)\n",
    "            target = Variable(torch.ones(real.size()[0])).to(device)\n",
    "            profile = Variable(profile).type('torch.FloatTensor').to(device)\n",
    "            \n",
    "            real_output = netD(real,real)  # Discriminator output for real images\n",
    "            generated = netG(profile)  # Generate images from profile\n",
    "            fake_output = netD(profile, generated.detach())  # Discriminator output for fake images\n",
    "\n",
    "            # Concatenate real and fake outputs along a new dimension\n",
    "            concatenated = torch.cat((real_output, fake_output), dim=0)\n",
    "\n",
    "            # Create labels for real and fake images\n",
    "            target_real = torch.ones_like(real_output)\n",
    "            target_fake = torch.zeros_like(fake_output)\n",
    "            targets = torch.cat((target_real, target_fake), dim=0)\n",
    "\n",
    "            # Calculate BCE loss for the concatenated outputs\n",
    "            #errD = F.binary_cross_entropy_with_logits(concatenated, targets)\n",
    "\n",
    "            errD = criterion(concatenated, targets.float())\n",
    "            errD.backward()\n",
    "            optimizerD.step()\n",
    "             # Accumulate discriminator loss\n",
    "            discriminator_losses.append(errD.item())\n",
    "\n",
    "            # TRAINING THE GENERATOR\n",
    "            netG.zero_grad()\n",
    "            optimizerG.zero_grad()\n",
    "            generated = netG(profile)\n",
    "            output = netD(profile, generated)\n",
    "\n",
    "            # G wants to have the synthetic images be accepted by D\n",
    "            errG_GAN = criterion(output, torch.ones_like(output).float())\n",
    "\n",
    "            # Calculate L1 and L2 loss between generated and real images\n",
    "            #errG_L1 = F.l1_loss(generated, frontal.float())\n",
    "            errG_L2 = F.mse_loss(generated, frontal.float())\n",
    "            errG_L1 = multi_scale_pixelwise_loss(generated, real)  # Multi-scale pixel-wise loss\n",
    "           \n",
    "            #errG_L1 = torch.mean(torch.abs(real - generated))\n",
    "            #errG_L2 = torch.mean(torch.pow((real - generated), 2))\n",
    "            \n",
    "            # Total generator loss\n",
    "            errG = GAN_factor * errG_GAN + L1_factor * errG_L1 + L2_factor * errG_L2\n",
    "            errG.backward()\n",
    "            optimizerG.step()\n",
    "\n",
    "             #Accumulate generator loss\n",
    "            generator_losses.append(errG.item())\n",
    "\n",
    "            #Accumulate multi-scale pixel-wise loss\n",
    "            multi_scale_losses.append(errG_L1.item())\n",
    "\n",
    "            # Update loss values\n",
    "            loss_L1 += errG_L1.item()\n",
    "            loss_L2 += errG_L2.item()\n",
    "            loss_gan += errG_GAN.item()\n",
    "\n",
    "            # Calculate PSNR for each generated image and accumulate\n",
    "            psnr = calculate_psnr(generated, frontal)\n",
    "            total_psnr += psnr\n",
    "\n",
    "            # Calculate SSIM for each generated image and accumulate\n",
    "            ssim_val = calculate_ssim(generated, frontal)\n",
    "            total_ssim += ssim_val\n",
    "\n",
    "            pbar.update(1)\n",
    "         \n",
    "            #pbar.set_postfix(batch_size=batch_size)  # Display batch size in the progress bar\n",
    "    \n",
    "\n",
    "   # Append the average losses to the respective lists\n",
    "\n",
    "\n",
    "    avg_gen_loss = sum(generator_losses[epoch * len(train_pipe_loader):(epoch + 1) * len(train_pipe_loader)]) / len(train_pipe_loader)\n",
    "    avg_disc_loss = sum(discriminator_losses[epoch * len(train_pipe_loader):(epoch + 1) * len(train_pipe_loader)]) / len(train_pipe_loader)\n",
    "    avg_multi_loss = sum(multi_scale_losses[epoch * len(train_pipe_loader):(epoch + 1) * len(train_pipe_loader)]) / len(train_pipe_loader)\n",
    "\n",
    "    avg_generator_losses.append(avg_gen_loss)\n",
    "    avg_discriminator_losses.append(avg_disc_loss)\n",
    "    avg_multi_scale_losses.append(avg_multi_loss)\n",
    "    \n",
    "    \n",
    "    # Calculate average PSNR and SSIM for this epoch\n",
    "    avg_psnr = total_psnr / len(train_pipe_loader)\n",
    "    avg_ssim = total_ssim / len(train_pipe_loader)\n",
    "\n",
    "    # Append the average PSNR and SSIM for this epoch to the respective lists\n",
    "    psnr_values.append(avg_psnr)\n",
    "    ssim_values.append(avg_ssim)\n",
    "    \n",
    "    if epoch == 0:\n",
    "        print('First training epoch completed in ',(time.time() - start_time),' seconds')\n",
    "    #if epoch > 0:\n",
    "        #print(f\"Epoch: {epoch} is starting..\")\n",
    "    # reset the DALI iterator\n",
    "    #train_pipe_loader.reset()\n",
    "\n",
    "    losses_L1.append(loss_L1 / m_train)\n",
    "    losses_L2.append(loss_L2 / m_train)\n",
    "    losses_gan.append(loss_gan / m_train)\n",
    "\n",
    "    \n",
    "\n",
    "    \n",
    "\n",
    "    # Print the absolute values of three losses to screen:\n",
    "    print('[%d/30] Training absolute losses: L1 %.7f ; L2 %.7f BCE %.7f; Average PSNR: %.2f; Average SSIM: %.4f' % ((epoch + 1), loss_L1/m_train, loss_L2/m_train, loss_gan/m_train, avg_psnr, avg_ssim, ))\n",
    "\n",
    "  \n",
    "\n",
    "    \n",
    "    vutils.save_image(profile[1:4].data, 'FFRAD_CAS_output/%03d_input.jpg' % epoch, normalize=True)\n",
    "    vutils.save_image(frontal[1:4].data, 'FFRAD_CAS_output/%03d_real.jpg' % epoch, normalize=True)\n",
    "    vutils.save_image(generated[1:4].data, 'FFRAD_CAS_output/%03d_generated.jpg' % epoch, normalize=True)\n",
    "              \n",
    "\n",
    "    # Save the pre-trained Generator as well\n",
    "    torch.save(netG,'FFRAD_CAS_output/netG_%d.pt' % epoch)"
   ]
  },
  {
   "cell_type": "code",
   "execution_count": null,
   "id": "2c1dc7ed-f0af-41d3-a920-ccd2f02e27f7",
   "metadata": {},
   "outputs": [],
   "source": []
  },
  {
   "cell_type": "code",
   "execution_count": 28,
   "id": "1f9b289a-09eb-4d8e-90c2-04db43693570",
   "metadata": {},
   "outputs": [],
   "source": [
    "try:\n",
    "    os.mkdir('FFRAD_CAS_output')\n",
    "except OSError:\n",
    "    pass\n",
    "\n"
   ]
  },
  {
   "cell_type": "code",
   "execution_count": 19,
   "id": "00be66ea-4bea-4e31-91d9-1db4ceb26262",
   "metadata": {},
   "outputs": [],
   "source": [
    "checkpoint_dir1 = \"FFRAD_CAS_Checkpoint\""
   ]
  },
  {
   "cell_type": "code",
   "execution_count": null,
   "id": "9535d601-6044-4aa2-a859-f827cd8607ec",
   "metadata": {},
   "outputs": [
    {
     "name": "stderr",
     "output_type": "stream",
     "text": [
      "Epoch 0: 100%|██████████████████████████████████████████████████████████████████████| 39/39 [2:54:20<00:00, 268.21s/it]\n"
     ]
    },
    {
     "name": "stdout",
     "output_type": "stream",
     "text": [
      "First training epoch completed in  70951.05814671516  seconds\n",
      "[1/30] Training absolute losses: L1 0.0021888 ; L2 0.0004611 BCE 0.0049742; Average PSNR: 12.25; Average SSIM: 0.5639\n"
     ]
    },
    {
     "name": "stderr",
     "output_type": "stream",
     "text": [
      "Epoch 1:  10%|███████▌                                                                  | 4/39 [01:50<19:31, 33.46s/it]"
     ]
    }
   ],
   "source": [
    "\n",
    "for epoch in range(30):  # Assuming 3 epochs for demonstration\n",
    "    \n",
    "    # Track loss values for each epoch\n",
    "    loss_L1 = 0\n",
    "    loss_L2 = 0\n",
    "    loss_gan = 0\n",
    "    total_psnr = 0\n",
    "    total_ssim = 0\n",
    "    \n",
    "   \n",
    "    with tqdm(total=len(train_pipe_loader), desc=f\"Epoch {epoch}\") as pbar:\n",
    "        for i, data in enumerate(train_pipe_loader, 0):\n",
    "            profile = data[0].view(32, 1, 128, 128).to(device)  # Reshape and move to device\n",
    "            frontal = data[1].view(32, 1, 128, 128).to(device)  # Reshape and move to device\n",
    "\n",
    "            # TRAINING THE DISCRIMINATOR\n",
    "            netD.zero_grad()\n",
    "            optimizerD.zero_grad()\n",
    "\n",
    "            real = Variable(frontal).type('torch.FloatTensor').to(device)\n",
    "            target = Variable(torch.ones(real.size()[0])).to(device)\n",
    "            profile = Variable(profile).type('torch.FloatTensor').to(device)\n",
    "            \n",
    "            real_output = netD(real,real)  # Discriminator output for real images\n",
    "            generated = netG(profile)  # Generate images from profile\n",
    "            fake_output = netD(profile, generated.detach())  # Discriminator output for fake images\n",
    "\n",
    "            # Concatenate real and fake outputs along a new dimension\n",
    "            concatenated = torch.cat((real_output, fake_output), dim=0)\n",
    "\n",
    "            # Create labels for real and fake images\n",
    "            target_real = torch.ones_like(real_output)\n",
    "            target_fake = torch.zeros_like(fake_output)\n",
    "            targets = torch.cat((target_real, target_fake), dim=0)\n",
    "\n",
    "            # Calculate BCE loss for the concatenated outputs\n",
    "            #errD = F.binary_cross_entropy_with_logits(concatenated, targets)\n",
    "\n",
    "            errD = criterion(concatenated, targets.float())\n",
    "            errD.backward()\n",
    "            optimizerD.step()\n",
    "             # Accumulate discriminator loss\n",
    "            discriminator_losses.append(errD.item())\n",
    "\n",
    "            # TRAINING THE GENERATOR\n",
    "            netG.zero_grad()\n",
    "            optimizerG.zero_grad()\n",
    "            generated = netG(profile)\n",
    "            output = netD(profile, generated)\n",
    "\n",
    "            # G wants to have the synthetic images be accepted by D\n",
    "            errG_GAN = criterion(output, torch.ones_like(output).float())\n",
    "\n",
    "            # Calculate L1 and L2 loss between generated and real images\n",
    "            #errG_L1 = F.l1_loss(generated, frontal.float())\n",
    "            #errG_L2 = F.mse_loss(generated, frontal.float())\n",
    "            errG_L1 = multi_scale_pixelwise_loss(generated, real)  # Multi-scale pixel-wise loss\n",
    "           \n",
    "            #errG_L1 = torch.mean(torch.abs(real - generated))\n",
    "            errG_L2 = torch.mean(torch.pow((real - generated), 2))\n",
    "            \n",
    "            # Total generator loss\n",
    "            errG = GAN_factor * errG_GAN + L1_factor * errG_L1 + L2_factor * errG_L2\n",
    "            errG.backward()\n",
    "            optimizerG.step()\n",
    "\n",
    "             #Accumulate generator loss\n",
    "            generator_losses.append(errG.item())\n",
    "\n",
    "            #Accumulate multi-scale pixel-wise loss\n",
    "            multi_scale_losses.append(errG_L1.item())\n",
    "\n",
    "            # Update loss values\n",
    "            loss_L1 += errG_L1.item()\n",
    "            loss_L2 += errG_L2.item()\n",
    "            loss_gan += errG_GAN.item()\n",
    "\n",
    "            # Calculate PSNR for each generated image and accumulate\n",
    "            psnr = calculate_psnr(generated, frontal)\n",
    "            total_psnr += psnr\n",
    "\n",
    "            # Calculate SSIM for each generated image and accumulate\n",
    "            ssim_val = calculate_ssim(generated, frontal)\n",
    "            total_ssim += ssim_val\n",
    "\n",
    "            pbar.update(1)\n",
    "\n",
    "   # Append the average losses to the respective lists\n",
    "\n",
    "\n",
    "    avg_gen_loss = sum(generator_losses[epoch * len(train_pipe_loader):(epoch + 1) * len(train_pipe_loader)]) / len(train_pipe_loader)\n",
    "    avg_disc_loss = sum(discriminator_losses[epoch * len(train_pipe_loader):(epoch + 1) * len(train_pipe_loader)]) / len(train_pipe_loader)\n",
    "    avg_multi_loss = sum(multi_scale_losses[epoch * len(train_pipe_loader):(epoch + 1) * len(train_pipe_loader)]) / len(train_pipe_loader)\n",
    "\n",
    "    avg_generator_losses.append(avg_gen_loss)\n",
    "    avg_discriminator_losses.append(avg_disc_loss)\n",
    "    avg_multi_scale_losses.append(avg_multi_loss)\n",
    "    \n",
    "    \n",
    "    # Calculate average PSNR and SSIM for this epoch\n",
    "    avg_psnr = total_psnr / len(train_pipe_loader)\n",
    "    avg_ssim = total_ssim / len(train_pipe_loader)\n",
    "\n",
    "    # Append the average PSNR and SSIM for this epoch to the respective lists\n",
    "    psnr_values.append(avg_psnr)\n",
    "    ssim_values.append(avg_ssim)\n",
    "    \n",
    "    if epoch == 0:\n",
    "        print('First training epoch completed in ',(time.time() - start_time),' seconds')\n",
    "    #if epoch > 0:\n",
    "        #print(f\"Epoch: {epoch} is starting..\")\n",
    "    # reset the DALI iterator\n",
    "    #train_pipe_loader.reset()\n",
    "\n",
    "    losses_L1.append(loss_L1 / m_train)\n",
    "    losses_L2.append(loss_L2 / m_train)\n",
    "    losses_gan.append(loss_gan / m_train)\n",
    "\n",
    "     # Save checkpoint after each epoch\n",
    "    checkpoint_state = {\n",
    "      'epoch': epoch,\n",
    "      'netG_state_dict': netG.state_dict(),\n",
    "      'netD_state_dict': netD.state_dict(),\n",
    "      'optimizerG_state_dict': optimizerG.state_dict(),\n",
    "      'optimizerD_state_dict': optimizerD.state_dict(),\n",
    "      'loss_L1': loss_L1,\n",
    "      'loss_L2': loss_L2,\n",
    "      'loss_gan': loss_gan,\n",
    "      'psnr_values': psnr_values,\n",
    "      'ssim_values': ssim_values,\n",
    "      'losses_L1': losses_L1,\n",
    "      'losses_L2': losses_L2,\n",
    "      'losses_gan': losses_gan,\n",
    "      'discriminator_losses': discriminator_losses,\n",
    "      'generator_losses': generator_losses,\n",
    "      'multi_scale_losses': multi_scale_losses,\n",
    "      'avg_generator_losses': avg_generator_losses,\n",
    "      'avg_discriminator_losses': avg_discriminator_losses,\n",
    "      'avg_multi_scale_losses': avg_multi_scale_losses,\n",
    "    }\n",
    "    torch.save(checkpoint_state, os.path.join(checkpoint_dir1, f\"checkpoint_{epoch}.pth\"))\n",
    "\n",
    "    \n",
    "\n",
    "    # Print the absolute values of three losses to screen:\n",
    "    print('[%d/30] Training absolute losses: L1 %.7f ; L2 %.7f BCE %.7f; Average PSNR: %.2f; Average SSIM: %.4f' % ((epoch + 1), loss_L1/m_train, loss_L2/m_train, loss_gan/m_train, avg_psnr, avg_ssim, ))\n",
    "\n",
    "    # Print the PSNR and SSIM on each epoch\n",
    "    #print('[%d/30] Average PSNR: %.2f, Average SSIM: %.4f' % (epoch + 1, avg_psnr, avg_ssim))\n",
    "\n",
    "    # Save the inputs, outputs, and ground truth frontals to files:\n",
    "    vutils.save_image(profile[1:4].data, 'FFRAD_CAS_output/%03d_input.jpg' % epoch, normalize=True)\n",
    "    vutils.save_image(real[1:4].data, 'FFRAD_CAS_output/%03d_real.jpg' % epoch, normalize=True)\n",
    "    vutils.save_image(generated[1:4].data, 'FFRAD_CAS_output/%03d_generated.jpg' % epoch, normalize=True)\n",
    "\n",
    "    \n",
    "\n",
    "    # Save the pre-trained Generator as well\n",
    "    torch.save(netG,'FFRAD_CAS_output/netG_%d.pt' % epoch)"
   ]
  },
  {
   "cell_type": "code",
   "execution_count": null,
   "id": "c161519b-3294-4e8c-92f7-b271d87a10a3",
   "metadata": {},
   "outputs": [],
   "source": []
  },
  {
   "cell_type": "code",
   "execution_count": 20,
   "id": "65e580a8-7759-4a9c-8f5e-aef3f877da6f",
   "metadata": {},
   "outputs": [],
   "source": [
    "latest_epoch = 0\n",
    "checkpoint_path = os.path.join(checkpoint_dir1, f\"checkpoint_{latest_epoch}.pth\")\n",
    "checkpoint = torch.load(checkpoint_path)\n",
    "\n",
    "# Load model and optimizer states\n",
    "netG.load_state_dict(checkpoint['netG_state_dict'])\n",
    "netD.load_state_dict(checkpoint['netD_state_dict'])\n",
    "optimizerG.load_state_dict(checkpoint['optimizerG_state_dict'])\n",
    "optimizerD.load_state_dict(checkpoint['optimizerD_state_dict'])\n",
    "\n",
    "# Load training progress\n",
    "loss_L1 = checkpoint['loss_L1']\n",
    "loss_L2 = checkpoint['loss_L2']\n",
    "loss_gan = checkpoint['loss_gan']\n",
    "psnr_values = checkpoint['psnr_values']\n",
    "ssim_values = checkpoint['ssim_values']\n",
    "losses_L1 = checkpoint['losses_L1']\n",
    "losses_L2 = checkpoint['losses_L2']\n",
    "losses_gan = checkpoint['losses_gan']\n",
    "discriminator_losses = checkpoint['discriminator_losses']\n",
    "generator_losses = checkpoint['generator_losses']\n",
    "multi_scale_losses = checkpoint['multi_scale_losses']\n",
    "avg_generator_losses = checkpoint['avg_generator_losses']\n",
    "avg_discriminator_losses = checkpoint['avg_discriminator_losses']\n",
    "avg_multi_scale_losses = checkpoint['avg_multi_scale_losses']\n",
    "\n",
    "# Start training from the loaded epoch\n",
    "start_epoch = checkpoint['epoch'] + 1"
   ]
  },
  {
   "cell_type": "code",
   "execution_count": null,
   "id": "fa157e63-a1e4-4a49-9b4a-57a2ffa2094b",
   "metadata": {},
   "outputs": [],
   "source": []
  },
  {
   "cell_type": "code",
   "execution_count": null,
   "id": "da6a28af-a3dc-44f3-9d89-01aa8ecba6fc",
   "metadata": {},
   "outputs": [
    {
     "name": "stderr",
     "output_type": "stream",
     "text": [
      "Epoch 1: 100%|██████████████████████████████████████████████████████████████████████| 39/39 [2:51:26<00:00, 263.76s/it]\n"
     ]
    },
    {
     "name": "stdout",
     "output_type": "stream",
     "text": [
      "[2/30] Training absolute losses: L1 0.0020503 ; L2 0.0004163 BCE 0.0050338; Average PSNR: 12.69; Average SSIM: 0.5936\n"
     ]
    },
    {
     "name": "stderr",
     "output_type": "stream",
     "text": [
      "Epoch 2: 100%|██████████████████████████████████████████████████████████████████████| 39/39 [2:50:00<00:00, 261.56s/it]\n"
     ]
    },
    {
     "name": "stdout",
     "output_type": "stream",
     "text": [
      "[3/30] Training absolute losses: L1 0.0019713 ; L2 0.0003882 BCE 0.0050295; Average PSNR: 12.99; Average SSIM: 0.6159\n"
     ]
    },
    {
     "name": "stderr",
     "output_type": "stream",
     "text": [
      "Epoch 3: 100%|██████████████████████████████████████████████████████████████████████| 39/39 [2:50:51<00:00, 262.86s/it]\n"
     ]
    },
    {
     "name": "stdout",
     "output_type": "stream",
     "text": [
      "[4/30] Training absolute losses: L1 0.0018753 ; L2 0.0003584 BCE 0.0051132; Average PSNR: 13.34; Average SSIM: 0.6441\n"
     ]
    },
    {
     "name": "stderr",
     "output_type": "stream",
     "text": [
      "Epoch 4: 100%|██████████████████████████████████████████████████████████████████████| 39/39 [2:50:32<00:00, 262.38s/it]\n"
     ]
    },
    {
     "name": "stdout",
     "output_type": "stream",
     "text": [
      "[5/30] Training absolute losses: L1 0.0017845 ; L2 0.0003288 BCE 0.0051529; Average PSNR: 13.72; Average SSIM: 0.6638\n"
     ]
    },
    {
     "name": "stderr",
     "output_type": "stream",
     "text": [
      "Epoch 5:  59%|█████████████████████████████████████████▎                            | 23/39 [59:07<1:11:58, 269.90s/it]"
     ]
    }
   ],
   "source": [
    "\n",
    "for epoch in range(start_epoch,30):  # Assuming 3 epochs for demonstration\n",
    "    \n",
    "    # Track loss values for each epoch\n",
    "    loss_L1 = 0\n",
    "    loss_L2 = 0\n",
    "    loss_gan = 0\n",
    "    total_psnr = 0\n",
    "    total_ssim = 0\n",
    "    \n",
    "   \n",
    "    with tqdm(total=len(train_pipe_loader), desc=f\"Epoch {epoch}\") as pbar:\n",
    "        for i, data in enumerate(train_pipe_loader, 0):\n",
    "            profile = data[0].view(32, 1, 128, 128).to(device)  # Reshape and move to device\n",
    "            frontal = data[1].view(32, 1, 128, 128).to(device)  # Reshape and move to device\n",
    "\n",
    "            # TRAINING THE DISCRIMINATOR\n",
    "            netD.zero_grad()\n",
    "            optimizerD.zero_grad()\n",
    "\n",
    "            real = Variable(frontal).type('torch.FloatTensor').to(device)\n",
    "            target = Variable(torch.ones(real.size()[0])).to(device)\n",
    "            profile = Variable(profile).type('torch.FloatTensor').to(device)\n",
    "            \n",
    "            real_output = netD(real,real)  # Discriminator output for real images\n",
    "            generated = netG(profile)  # Generate images from profile\n",
    "            fake_output = netD(profile, generated.detach())  # Discriminator output for fake images\n",
    "\n",
    "            # Concatenate real and fake outputs along a new dimension\n",
    "            concatenated = torch.cat((real_output, fake_output), dim=0)\n",
    "\n",
    "            # Create labels for real and fake images\n",
    "            target_real = torch.ones_like(real_output)\n",
    "            target_fake = torch.zeros_like(fake_output)\n",
    "            targets = torch.cat((target_real, target_fake), dim=0)\n",
    "\n",
    "            # Calculate BCE loss for the concatenated outputs\n",
    "            #errD = F.binary_cross_entropy_with_logits(concatenated, targets)\n",
    "\n",
    "            errD = criterion(concatenated, targets.float())\n",
    "            errD.backward()\n",
    "            optimizerD.step()\n",
    "             # Accumulate discriminator loss\n",
    "            discriminator_losses.append(errD.item())\n",
    "\n",
    "            # TRAINING THE GENERATOR\n",
    "            netG.zero_grad()\n",
    "            optimizerG.zero_grad()\n",
    "            generated = netG(profile)\n",
    "            output = netD(profile, generated)\n",
    "\n",
    "            # G wants to have the synthetic images be accepted by D\n",
    "            errG_GAN = criterion(output, torch.ones_like(output).float())\n",
    "\n",
    "            # Calculate L1 and L2 loss between generated and real images\n",
    "            #errG_L1 = F.l1_loss(generated, frontal.float())\n",
    "            #errG_L2 = F.mse_loss(generated, frontal.float())\n",
    "            errG_L1 = multi_scale_pixelwise_loss(generated, real)  # Multi-scale pixel-wise loss\n",
    "           \n",
    "            #errG_L1 = torch.mean(torch.abs(real - generated))\n",
    "            errG_L2 = torch.mean(torch.pow((real - generated), 2))\n",
    "            \n",
    "            # Total generator loss\n",
    "            errG = GAN_factor * errG_GAN + L1_factor * errG_L1 + L2_factor * errG_L2\n",
    "            errG.backward()\n",
    "            optimizerG.step()\n",
    "\n",
    "             #Accumulate generator loss\n",
    "            generator_losses.append(errG.item())\n",
    "\n",
    "            #Accumulate multi-scale pixel-wise loss\n",
    "            multi_scale_losses.append(errG_L1.item())\n",
    "\n",
    "            # Update loss values\n",
    "            loss_L1 += errG_L1.item()\n",
    "            loss_L2 += errG_L2.item()\n",
    "            loss_gan += errG_GAN.item()\n",
    "\n",
    "            # Calculate PSNR for each generated image and accumulate\n",
    "            psnr = calculate_psnr(generated, frontal)\n",
    "            total_psnr += psnr\n",
    "\n",
    "            # Calculate SSIM for each generated image and accumulate\n",
    "            ssim_val = calculate_ssim(generated, frontal)\n",
    "            total_ssim += ssim_val\n",
    "\n",
    "            pbar.update(1)\n",
    "\n",
    "   # Append the average losses to the respective lists\n",
    "\n",
    "\n",
    "    avg_gen_loss = sum(generator_losses[epoch * len(train_pipe_loader):(epoch + 1) * len(train_pipe_loader)]) / len(train_pipe_loader)\n",
    "    avg_disc_loss = sum(discriminator_losses[epoch * len(train_pipe_loader):(epoch + 1) * len(train_pipe_loader)]) / len(train_pipe_loader)\n",
    "    avg_multi_loss = sum(multi_scale_losses[epoch * len(train_pipe_loader):(epoch + 1) * len(train_pipe_loader)]) / len(train_pipe_loader)\n",
    "\n",
    "    avg_generator_losses.append(avg_gen_loss)\n",
    "    avg_discriminator_losses.append(avg_disc_loss)\n",
    "    avg_multi_scale_losses.append(avg_multi_loss)\n",
    "    \n",
    "    \n",
    "    # Calculate average PSNR and SSIM for this epoch\n",
    "    avg_psnr = total_psnr / len(train_pipe_loader)\n",
    "    avg_ssim = total_ssim / len(train_pipe_loader)\n",
    "\n",
    "    # Append the average PSNR and SSIM for this epoch to the respective lists\n",
    "    psnr_values.append(avg_psnr)\n",
    "    ssim_values.append(avg_ssim)\n",
    "    \n",
    "    if epoch == 0:\n",
    "        print('First training epoch completed in ',(time.time() - start_time),' seconds')\n",
    "    #if epoch > 0:\n",
    "        #print(f\"Epoch: {epoch} is starting..\")\n",
    "    # reset the DALI iterator\n",
    "    #train_pipe_loader.reset()\n",
    "\n",
    "    losses_L1.append(loss_L1 / m_train)\n",
    "    losses_L2.append(loss_L2 / m_train)\n",
    "    losses_gan.append(loss_gan / m_train)\n",
    "\n",
    "     # Save checkpoint after each epoch\n",
    "    checkpoint_state = {\n",
    "      'epoch': epoch,\n",
    "      'netG_state_dict': netG.state_dict(),\n",
    "      'netD_state_dict': netD.state_dict(),\n",
    "      'optimizerG_state_dict': optimizerG.state_dict(),\n",
    "      'optimizerD_state_dict': optimizerD.state_dict(),\n",
    "      'loss_L1': loss_L1,\n",
    "      'loss_L2': loss_L2,\n",
    "      'loss_gan': loss_gan,\n",
    "      'psnr_values': psnr_values,\n",
    "      'ssim_values': ssim_values,\n",
    "      'losses_L1': losses_L1,\n",
    "      'losses_L2': losses_L2,\n",
    "      'losses_gan': losses_gan,\n",
    "      'discriminator_losses': discriminator_losses,\n",
    "      'generator_losses': generator_losses,\n",
    "      'multi_scale_losses': multi_scale_losses,\n",
    "      'avg_generator_losses': avg_generator_losses,\n",
    "      'avg_discriminator_losses': avg_discriminator_losses,\n",
    "      'avg_multi_scale_losses': avg_multi_scale_losses,\n",
    "    }\n",
    "    torch.save(checkpoint_state, os.path.join(checkpoint_dir1, f\"checkpoint_{epoch}.pth\"))\n",
    "\n",
    "    \n",
    "\n",
    "    # Print the absolute values of three losses to screen:\n",
    "    print('[%d/30] Training absolute losses: L1 %.7f ; L2 %.7f BCE %.7f; Average PSNR: %.2f; Average SSIM: %.4f' % ((epoch + 1), loss_L1/m_train, loss_L2/m_train, loss_gan/m_train, avg_psnr, avg_ssim, ))\n",
    "\n",
    "    # Print the PSNR and SSIM on each epoch\n",
    "    #print('[%d/30] Average PSNR: %.2f, Average SSIM: %.4f' % (epoch + 1, avg_psnr, avg_ssim))\n",
    "\n",
    "    # Save the inputs, outputs, and ground truth frontals to files:\n",
    "    vutils.save_image(profile[1:6].data, 'FFRAD_CAS_output/%03d_input.jpg' % epoch, normalize=True)\n",
    "    vutils.save_image(real[1:6].data, 'FFRAD_CAS_output/%03d_real.jpg' % epoch, normalize=True)\n",
    "    vutils.save_image(generated[1:6].data, 'FFRAD_CAS_output/%03d_generated.jpg' % epoch, normalize=True)\n",
    "\n",
    "    \n",
    "\n",
    "    # Save the pre-trained Generator as well\n",
    "    torch.save(netG,'FFRAD_CAS_output/netG_%d.pt' % epoch)"
   ]
  },
  {
   "cell_type": "code",
   "execution_count": null,
   "id": "79276ec3-9679-4a4d-9673-45d05ebdcf9d",
   "metadata": {},
   "outputs": [],
   "source": []
  },
  {
   "cell_type": "code",
   "execution_count": 20,
   "id": "d8ad78f5-039e-420c-ac58-fef03f77dba9",
   "metadata": {},
   "outputs": [],
   "source": [
    "latest_epoch = 5\n",
    "checkpoint_path = os.path.join(checkpoint_dir1, f\"checkpoint_{latest_epoch}.pth\")\n",
    "checkpoint = torch.load(checkpoint_path)\n",
    "\n",
    "# Load model and optimizer states\n",
    "netG.load_state_dict(checkpoint['netG_state_dict'])\n",
    "netD.load_state_dict(checkpoint['netD_state_dict'])\n",
    "optimizerG.load_state_dict(checkpoint['optimizerG_state_dict'])\n",
    "optimizerD.load_state_dict(checkpoint['optimizerD_state_dict'])\n",
    "\n",
    "# Load training progress\n",
    "loss_L1 = checkpoint['loss_L1']\n",
    "loss_L2 = checkpoint['loss_L2']\n",
    "loss_gan = checkpoint['loss_gan']\n",
    "psnr_values = checkpoint['psnr_values']\n",
    "ssim_values = checkpoint['ssim_values']\n",
    "losses_L1 = checkpoint['losses_L1']\n",
    "losses_L2 = checkpoint['losses_L2']\n",
    "losses_gan = checkpoint['losses_gan']\n",
    "discriminator_losses = checkpoint['discriminator_losses']\n",
    "generator_losses = checkpoint['generator_losses']\n",
    "multi_scale_losses = checkpoint['multi_scale_losses']\n",
    "avg_generator_losses = checkpoint['avg_generator_losses']\n",
    "avg_discriminator_losses = checkpoint['avg_discriminator_losses']\n",
    "avg_multi_scale_losses = checkpoint['avg_multi_scale_losses']\n",
    "\n",
    "# Start training from the loaded epoch\n",
    "start_epoch = checkpoint['epoch'] + 1"
   ]
  },
  {
   "cell_type": "code",
   "execution_count": null,
   "id": "0b36d35c-9cf2-4589-bbda-1a89742b582c",
   "metadata": {},
   "outputs": [],
   "source": []
  },
  {
   "cell_type": "code",
   "execution_count": null,
   "id": "e67ba986-1869-4b46-a4b1-bcd6fac1bc54",
   "metadata": {},
   "outputs": [
    {
     "name": "stderr",
     "output_type": "stream",
     "text": [
      "Epoch 5: 100%|██████████████████████████████████████████████████████████████████████| 39/39 [2:58:36<00:00, 274.79s/it]\n"
     ]
    },
    {
     "name": "stdout",
     "output_type": "stream",
     "text": [
      "[6/30] Training absolute losses: L1 0.0016526 ; L2 0.0002882 BCE 0.0051534; Average PSNR: 14.29; Average SSIM: 0.6970\n"
     ]
    },
    {
     "name": "stderr",
     "output_type": "stream",
     "text": [
      "Epoch 6:  26%|██████████████████▍                                                     | 10/39 [11:15<48:31, 100.39s/it]"
     ]
    }
   ],
   "source": [
    "\n",
    "for epoch in range(start_epoch,30):  # Assuming 3 epochs for demonstration\n",
    "    \n",
    "    # Track loss values for each epoch\n",
    "    loss_L1 = 0\n",
    "    loss_L2 = 0\n",
    "    loss_gan = 0\n",
    "    total_psnr = 0\n",
    "    total_ssim = 0\n",
    "    \n",
    "   \n",
    "    with tqdm(total=len(train_pipe_loader), desc=f\"Epoch {epoch}\") as pbar:\n",
    "        for i, data in enumerate(train_pipe_loader, 0):\n",
    "            profile = data[0].view(32, 1, 128, 128).to(device)  # Reshape and move to device\n",
    "            frontal = data[1].view(32, 1, 128, 128).to(device)  # Reshape and move to device\n",
    "\n",
    "            # TRAINING THE DISCRIMINATOR\n",
    "            netD.zero_grad()\n",
    "            optimizerD.zero_grad()\n",
    "\n",
    "            real = Variable(frontal).type('torch.FloatTensor').to(device)\n",
    "            target = Variable(torch.ones(real.size()[0])).to(device)\n",
    "            profile = Variable(profile).type('torch.FloatTensor').to(device)\n",
    "            \n",
    "            real_output = netD(real,real)  # Discriminator output for real images\n",
    "            generated = netG(profile)  # Generate images from profile\n",
    "            fake_output = netD(profile, generated.detach())  # Discriminator output for fake images\n",
    "\n",
    "            # Concatenate real and fake outputs along a new dimension\n",
    "            concatenated = torch.cat((real_output, fake_output), dim=0)\n",
    "\n",
    "            # Create labels for real and fake images\n",
    "            target_real = torch.ones_like(real_output)\n",
    "            target_fake = torch.zeros_like(fake_output)\n",
    "            targets = torch.cat((target_real, target_fake), dim=0)\n",
    "\n",
    "            # Calculate BCE loss for the concatenated outputs\n",
    "            #errD = F.binary_cross_entropy_with_logits(concatenated, targets)\n",
    "\n",
    "            errD = criterion(concatenated, targets.float())\n",
    "            errD.backward()\n",
    "            optimizerD.step()\n",
    "             # Accumulate discriminator loss\n",
    "            discriminator_losses.append(errD.item())\n",
    "\n",
    "            # TRAINING THE GENERATOR\n",
    "            netG.zero_grad()\n",
    "            optimizerG.zero_grad()\n",
    "            generated = netG(profile)\n",
    "            output = netD(profile, generated)\n",
    "\n",
    "            # G wants to have the synthetic images be accepted by D\n",
    "            errG_GAN = criterion(output, torch.ones_like(output).float())\n",
    "\n",
    "            # Calculate L1 and L2 loss between generated and real images\n",
    "            #errG_L1 = F.l1_loss(generated, frontal.float())\n",
    "            #errG_L2 = F.mse_loss(generated, frontal.float())\n",
    "            errG_L1 = multi_scale_pixelwise_loss(generated, real)  # Multi-scale pixel-wise loss\n",
    "           \n",
    "            #errG_L1 = torch.mean(torch.abs(real - generated))\n",
    "            errG_L2 = torch.mean(torch.pow((real - generated), 2))\n",
    "            \n",
    "            # Total generator loss\n",
    "            errG = GAN_factor * errG_GAN + L1_factor * errG_L1 + L2_factor * errG_L2\n",
    "            errG.backward()\n",
    "            optimizerG.step()\n",
    "\n",
    "             #Accumulate generator loss\n",
    "            generator_losses.append(errG.item())\n",
    "\n",
    "            #Accumulate multi-scale pixel-wise loss\n",
    "            multi_scale_losses.append(errG_L1.item())\n",
    "\n",
    "            # Update loss values\n",
    "            loss_L1 += errG_L1.item()\n",
    "            loss_L2 += errG_L2.item()\n",
    "            loss_gan += errG_GAN.item()\n",
    "\n",
    "            # Calculate PSNR for each generated image and accumulate\n",
    "            psnr = calculate_psnr(generated, frontal)\n",
    "            total_psnr += psnr\n",
    "\n",
    "            # Calculate SSIM for each generated image and accumulate\n",
    "            ssim_val = calculate_ssim(generated, frontal)\n",
    "            total_ssim += ssim_val\n",
    "\n",
    "            pbar.update(1)\n",
    "\n",
    "   # Append the average losses to the respective lists\n",
    "\n",
    "\n",
    "    avg_gen_loss = sum(generator_losses[epoch * len(train_pipe_loader):(epoch + 1) * len(train_pipe_loader)]) / len(train_pipe_loader)\n",
    "    avg_disc_loss = sum(discriminator_losses[epoch * len(train_pipe_loader):(epoch + 1) * len(train_pipe_loader)]) / len(train_pipe_loader)\n",
    "    avg_multi_loss = sum(multi_scale_losses[epoch * len(train_pipe_loader):(epoch + 1) * len(train_pipe_loader)]) / len(train_pipe_loader)\n",
    "\n",
    "    avg_generator_losses.append(avg_gen_loss)\n",
    "    avg_discriminator_losses.append(avg_disc_loss)\n",
    "    avg_multi_scale_losses.append(avg_multi_loss)\n",
    "    \n",
    "    \n",
    "    # Calculate average PSNR and SSIM for this epoch\n",
    "    avg_psnr = total_psnr / len(train_pipe_loader)\n",
    "    avg_ssim = total_ssim / len(train_pipe_loader)\n",
    "\n",
    "    # Append the average PSNR and SSIM for this epoch to the respective lists\n",
    "    psnr_values.append(avg_psnr)\n",
    "    ssim_values.append(avg_ssim)\n",
    "    \n",
    "    if epoch == 0:\n",
    "        print('First training epoch completed in ',(time.time() - start_time),' seconds')\n",
    "    #if epoch > 0:\n",
    "        #print(f\"Epoch: {epoch} is starting..\")\n",
    "    # reset the DALI iterator\n",
    "    #train_pipe_loader.reset()\n",
    "\n",
    "    losses_L1.append(loss_L1 / m_train)\n",
    "    losses_L2.append(loss_L2 / m_train)\n",
    "    losses_gan.append(loss_gan / m_train)\n",
    "\n",
    "     # Save checkpoint after each epoch\n",
    "    checkpoint_state = {\n",
    "      'epoch': epoch,\n",
    "      'netG_state_dict': netG.state_dict(),\n",
    "      'netD_state_dict': netD.state_dict(),\n",
    "      'optimizerG_state_dict': optimizerG.state_dict(),\n",
    "      'optimizerD_state_dict': optimizerD.state_dict(),\n",
    "      'loss_L1': loss_L1,\n",
    "      'loss_L2': loss_L2,\n",
    "      'loss_gan': loss_gan,\n",
    "      'psnr_values': psnr_values,\n",
    "      'ssim_values': ssim_values,\n",
    "      'losses_L1': losses_L1,\n",
    "      'losses_L2': losses_L2,\n",
    "      'losses_gan': losses_gan,\n",
    "      'discriminator_losses': discriminator_losses,\n",
    "      'generator_losses': generator_losses,\n",
    "      'multi_scale_losses': multi_scale_losses,\n",
    "      'avg_generator_losses': avg_generator_losses,\n",
    "      'avg_discriminator_losses': avg_discriminator_losses,\n",
    "      'avg_multi_scale_losses': avg_multi_scale_losses,\n",
    "    }\n",
    "    torch.save(checkpoint_state, os.path.join(checkpoint_dir1, f\"checkpoint_{epoch}.pth\"))\n",
    "\n",
    "    \n",
    "\n",
    "    # Print the absolute values of three losses to screen:\n",
    "    print('[%d/30] Training absolute losses: L1 %.7f ; L2 %.7f BCE %.7f; Average PSNR: %.2f; Average SSIM: %.4f' % ((epoch + 1), loss_L1/m_train, loss_L2/m_train, loss_gan/m_train, avg_psnr, avg_ssim, ))\n",
    "\n",
    "    # Print the PSNR and SSIM on each epoch\n",
    "    #print('[%d/30] Average PSNR: %.2f, Average SSIM: %.4f' % (epoch + 1, avg_psnr, avg_ssim))\n",
    "\n",
    "    # Save the inputs, outputs, and ground truth frontals to files:\n",
    "    vutils.save_image(profile[1:6].data, 'FFRAD_CAS_output/%03d_input.jpg' % epoch, normalize=True)\n",
    "    vutils.save_image(real[1:6].data, 'FFRAD_CAS_output/%03d_real.jpg' % epoch, normalize=True)\n",
    "    vutils.save_image(generated[1:6].data, 'FFRAD_CAS_output/%03d_generated.jpg' % epoch, normalize=True)\n",
    "\n",
    "    \n",
    "\n",
    "    # Save the pre-trained Generator as well\n",
    "    torch.save(netG,'FFRAD_CAS_output/netG_%d.pt' % epoch)"
   ]
  },
  {
   "cell_type": "code",
   "execution_count": null,
   "id": "77f9b307-ee3c-4916-a6f5-e77f022296fe",
   "metadata": {},
   "outputs": [],
   "source": []
  },
  {
   "cell_type": "code",
   "execution_count": null,
   "id": "5f3a5cd0-1f53-4465-a75e-ec238ebc7997",
   "metadata": {},
   "outputs": [
    {
     "name": "stderr",
     "output_type": "stream",
     "text": [
      "Epoch 6: 100%|██████████████████████████████████████████████████████████████████████| 39/39 [2:57:52<00:00, 273.65s/it]\n"
     ]
    },
    {
     "name": "stdout",
     "output_type": "stream",
     "text": [
      "[7/30] Training absolute losses: L1 0.0014686 ; L2 0.0002341 BCE 0.0051699; Average PSNR: 15.18; Average SSIM: 0.7395\n"
     ]
    },
    {
     "name": "stderr",
     "output_type": "stream",
     "text": [
      "Epoch 7: 100%|██████████████████████████████████████████████████████████████████████| 39/39 [2:51:26<00:00, 263.75s/it]\n"
     ]
    },
    {
     "name": "stdout",
     "output_type": "stream",
     "text": [
      "[8/30] Training absolute losses: L1 0.0016593 ; L2 0.0002905 BCE 0.0052004; Average PSNR: 14.26; Average SSIM: 0.6966\n"
     ]
    },
    {
     "name": "stderr",
     "output_type": "stream",
     "text": [
      "Epoch 8: 100%|██████████████████████████████████████████████████████████████████████| 39/39 [2:51:47<00:00, 264.29s/it]\n"
     ]
    },
    {
     "name": "stdout",
     "output_type": "stream",
     "text": [
      "[9/30] Training absolute losses: L1 0.0015888 ; L2 0.0002678 BCE 0.0052232; Average PSNR: 14.61; Average SSIM: 0.7135\n"
     ]
    },
    {
     "name": "stderr",
     "output_type": "stream",
     "text": [
      "Epoch 9: 100%|██████████████████████████████████████████████████████████████████████| 39/39 [2:51:34<00:00, 263.97s/it]\n"
     ]
    },
    {
     "name": "stdout",
     "output_type": "stream",
     "text": [
      "[10/30] Training absolute losses: L1 0.0015370 ; L2 0.0002562 BCE 0.0052496; Average PSNR: 14.80; Average SSIM: 0.7268\n"
     ]
    },
    {
     "name": "stderr",
     "output_type": "stream",
     "text": [
      "Epoch 10: 100%|█████████████████████████████████████████████████████████████████████| 39/39 [2:51:28<00:00, 263.82s/it]\n"
     ]
    },
    {
     "name": "stdout",
     "output_type": "stream",
     "text": [
      "[11/30] Training absolute losses: L1 0.0014877 ; L2 0.0002420 BCE 0.0052843; Average PSNR: 15.05; Average SSIM: 0.7418\n"
     ]
    },
    {
     "name": "stderr",
     "output_type": "stream",
     "text": [
      "Epoch 11: 100%|█████████████████████████████████████████████████████████████████████| 39/39 [2:51:42<00:00, 264.16s/it]\n"
     ]
    },
    {
     "name": "stdout",
     "output_type": "stream",
     "text": [
      "[12/30] Training absolute losses: L1 0.0014018 ; L2 0.0002172 BCE 0.0052639; Average PSNR: 15.51; Average SSIM: 0.7598\n"
     ]
    },
    {
     "name": "stderr",
     "output_type": "stream",
     "text": [
      "Epoch 12: 100%|█████████████████████████████████████████████████████████████████████| 39/39 [2:53:01<00:00, 266.20s/it]\n"
     ]
    },
    {
     "name": "stdout",
     "output_type": "stream",
     "text": [
      "[13/30] Training absolute losses: L1 0.0014066 ; L2 0.0002175 BCE 0.0052646; Average PSNR: 15.51; Average SSIM: 0.7602\n"
     ]
    },
    {
     "name": "stderr",
     "output_type": "stream",
     "text": [
      "Epoch 13: 100%|█████████████████████████████████████████████████████████████████████| 39/39 [2:52:58<00:00, 266.10s/it]\n"
     ]
    },
    {
     "name": "stdout",
     "output_type": "stream",
     "text": [
      "[14/30] Training absolute losses: L1 0.0013666 ; L2 0.0002078 BCE 0.0053313; Average PSNR: 15.71; Average SSIM: 0.7699\n"
     ]
    },
    {
     "name": "stderr",
     "output_type": "stream",
     "text": [
      "Epoch 14: 100%|█████████████████████████████████████████████████████████████████████| 39/39 [2:55:55<00:00, 270.65s/it]\n"
     ]
    },
    {
     "name": "stdout",
     "output_type": "stream",
     "text": [
      "[15/30] Training absolute losses: L1 0.0013297 ; L2 0.0001968 BCE 0.0053395; Average PSNR: 15.94; Average SSIM: 0.7766\n"
     ]
    },
    {
     "name": "stderr",
     "output_type": "stream",
     "text": [
      "Epoch 15: 100%|█████████████████████████████████████████████████████████████████████| 39/39 [2:52:21<00:00, 265.17s/it]\n"
     ]
    },
    {
     "name": "stdout",
     "output_type": "stream",
     "text": [
      "[16/30] Training absolute losses: L1 0.0013024 ; L2 0.0001899 BCE 0.0053612; Average PSNR: 16.10; Average SSIM: 0.7844\n"
     ]
    },
    {
     "name": "stderr",
     "output_type": "stream",
     "text": [
      "Epoch 16: 100%|█████████████████████████████████████████████████████████████████████| 39/39 [3:19:55<00:00, 307.58s/it]\n"
     ]
    },
    {
     "name": "stdout",
     "output_type": "stream",
     "text": [
      "[17/30] Training absolute losses: L1 0.0012437 ; L2 0.0001759 BCE 0.0053509; Average PSNR: 16.43; Average SSIM: 0.7995\n"
     ]
    },
    {
     "name": "stderr",
     "output_type": "stream",
     "text": [
      "Epoch 17: 100%|█████████████████████████████████████████████████████████████████████| 39/39 [3:12:15<00:00, 295.78s/it]\n"
     ]
    },
    {
     "name": "stdout",
     "output_type": "stream",
     "text": [
      "[18/30] Training absolute losses: L1 0.0012300 ; L2 0.0001718 BCE 0.0053690; Average PSNR: 16.53; Average SSIM: 0.8011\n"
     ]
    },
    {
     "name": "stderr",
     "output_type": "stream",
     "text": [
      "Epoch 18: 100%|█████████████████████████████████████████████████████████████████████| 39/39 [2:55:32<00:00, 270.05s/it]\n"
     ]
    },
    {
     "name": "stdout",
     "output_type": "stream",
     "text": [
      "[19/30] Training absolute losses: L1 0.0012080 ; L2 0.0001662 BCE 0.0053445; Average PSNR: 16.67; Average SSIM: 0.8049\n"
     ]
    },
    {
     "name": "stderr",
     "output_type": "stream",
     "text": [
      "Epoch 19: 100%|█████████████████████████████████████████████████████████████████████| 39/39 [2:51:38<00:00, 264.07s/it]\n"
     ]
    },
    {
     "name": "stdout",
     "output_type": "stream",
     "text": [
      "[20/30] Training absolute losses: L1 0.0011664 ; L2 0.0001566 BCE 0.0053705; Average PSNR: 16.93; Average SSIM: 0.8166\n"
     ]
    },
    {
     "name": "stderr",
     "output_type": "stream",
     "text": [
      "Epoch 20: 100%|█████████████████████████████████████████████████████████████████████| 39/39 [2:51:38<00:00, 264.06s/it]\n"
     ]
    },
    {
     "name": "stdout",
     "output_type": "stream",
     "text": [
      "[21/30] Training absolute losses: L1 0.0011484 ; L2 0.0001521 BCE 0.0054117; Average PSNR: 17.06; Average SSIM: 0.8202\n"
     ]
    },
    {
     "name": "stderr",
     "output_type": "stream",
     "text": [
      "Epoch 21:  69%|██████████████████████████████████████████████▍                    | 27/39 [1:22:17<1:05:21, 326.81s/it]"
     ]
    }
   ],
   "source": [
    "\n",
    "for epoch in range(start_epoch,30):  # Assuming 3 epochs for demonstration\n",
    "    \n",
    "    # Track loss values for each epoch\n",
    "    loss_L1 = 0\n",
    "    loss_L2 = 0\n",
    "    loss_gan = 0\n",
    "    total_psnr = 0\n",
    "    total_ssim = 0\n",
    "    \n",
    "   \n",
    "    with tqdm(total=len(train_pipe_loader), desc=f\"Epoch {epoch}\") as pbar:\n",
    "        for i, data in enumerate(train_pipe_loader, 0):\n",
    "            profile = data[0].view(32, 1, 128, 128).to(device)  # Reshape and move to device\n",
    "            frontal = data[1].view(32, 1, 128, 128).to(device)  # Reshape and move to device\n",
    "\n",
    "            # TRAINING THE DISCRIMINATOR\n",
    "            netD.zero_grad()\n",
    "            optimizerD.zero_grad()\n",
    "\n",
    "            real = Variable(frontal).type('torch.FloatTensor').to(device)\n",
    "            target = Variable(torch.ones(real.size()[0])).to(device)\n",
    "            profile = Variable(profile).type('torch.FloatTensor').to(device)\n",
    "            \n",
    "            real_output = netD(real,real)  # Discriminator output for real images\n",
    "            generated = netG(profile)  # Generate images from profile\n",
    "            fake_output = netD(profile, generated.detach())  # Discriminator output for fake images\n",
    "\n",
    "            # Concatenate real and fake outputs along a new dimension\n",
    "            concatenated = torch.cat((real_output, fake_output), dim=0)\n",
    "\n",
    "            # Create labels for real and fake images\n",
    "            target_real = torch.ones_like(real_output)\n",
    "            target_fake = torch.zeros_like(fake_output)\n",
    "            targets = torch.cat((target_real, target_fake), dim=0)\n",
    "\n",
    "            # Calculate BCE loss for the concatenated outputs\n",
    "            #errD = F.binary_cross_entropy_with_logits(concatenated, targets)\n",
    "\n",
    "            errD = criterion(concatenated, targets.float())\n",
    "            errD.backward()\n",
    "            optimizerD.step()\n",
    "             # Accumulate discriminator loss\n",
    "            discriminator_losses.append(errD.item())\n",
    "\n",
    "            # TRAINING THE GENERATOR\n",
    "            netG.zero_grad()\n",
    "            optimizerG.zero_grad()\n",
    "            generated = netG(profile)\n",
    "            output = netD(profile, generated)\n",
    "\n",
    "            # G wants to have the synthetic images be accepted by D\n",
    "            errG_GAN = criterion(output, torch.ones_like(output).float())\n",
    "\n",
    "            # Calculate L1 and L2 loss between generated and real images\n",
    "            #errG_L1 = F.l1_loss(generated, frontal.float())\n",
    "            #errG_L2 = F.mse_loss(generated, frontal.float())\n",
    "            errG_L1 = multi_scale_pixelwise_loss(generated, real)  # Multi-scale pixel-wise loss\n",
    "           \n",
    "            #errG_L1 = torch.mean(torch.abs(real - generated))\n",
    "            errG_L2 = torch.mean(torch.pow((real - generated), 2))\n",
    "            \n",
    "            # Total generator loss\n",
    "            errG = GAN_factor * errG_GAN + L1_factor * errG_L1 + L2_factor * errG_L2\n",
    "            errG.backward()\n",
    "            optimizerG.step()\n",
    "\n",
    "             #Accumulate generator loss\n",
    "            generator_losses.append(errG.item())\n",
    "\n",
    "            #Accumulate multi-scale pixel-wise loss\n",
    "            multi_scale_losses.append(errG_L1.item())\n",
    "\n",
    "            # Update loss values\n",
    "            loss_L1 += errG_L1.item()\n",
    "            loss_L2 += errG_L2.item()\n",
    "            loss_gan += errG_GAN.item()\n",
    "\n",
    "            # Calculate PSNR for each generated image and accumulate\n",
    "            psnr = calculate_psnr(generated, frontal)\n",
    "            total_psnr += psnr\n",
    "\n",
    "            # Calculate SSIM for each generated image and accumulate\n",
    "            ssim_val = calculate_ssim(generated, frontal)\n",
    "            total_ssim += ssim_val\n",
    "\n",
    "            pbar.update(1)\n",
    "\n",
    "   # Append the average losses to the respective lists\n",
    "\n",
    "\n",
    "    avg_gen_loss = sum(generator_losses[epoch * len(train_pipe_loader):(epoch + 1) * len(train_pipe_loader)]) / len(train_pipe_loader)\n",
    "    avg_disc_loss = sum(discriminator_losses[epoch * len(train_pipe_loader):(epoch + 1) * len(train_pipe_loader)]) / len(train_pipe_loader)\n",
    "    avg_multi_loss = sum(multi_scale_losses[epoch * len(train_pipe_loader):(epoch + 1) * len(train_pipe_loader)]) / len(train_pipe_loader)\n",
    "\n",
    "    avg_generator_losses.append(avg_gen_loss)\n",
    "    avg_discriminator_losses.append(avg_disc_loss)\n",
    "    avg_multi_scale_losses.append(avg_multi_loss)\n",
    "    \n",
    "    \n",
    "    # Calculate average PSNR and SSIM for this epoch\n",
    "    avg_psnr = total_psnr / len(train_pipe_loader)\n",
    "    avg_ssim = total_ssim / len(train_pipe_loader)\n",
    "\n",
    "    # Append the average PSNR and SSIM for this epoch to the respective lists\n",
    "    psnr_values.append(avg_psnr)\n",
    "    ssim_values.append(avg_ssim)\n",
    "    \n",
    "    if epoch == 0:\n",
    "        print('First training epoch completed in ',(time.time() - start_time),' seconds')\n",
    "    #if epoch > 0:\n",
    "        #print(f\"Epoch: {epoch} is starting..\")\n",
    "    # reset the DALI iterator\n",
    "    #train_pipe_loader.reset()\n",
    "\n",
    "    losses_L1.append(loss_L1 / m_train)\n",
    "    losses_L2.append(loss_L2 / m_train)\n",
    "    losses_gan.append(loss_gan / m_train)\n",
    "\n",
    "     # Save checkpoint after each epoch\n",
    "    checkpoint_state = {\n",
    "      'epoch': epoch,\n",
    "      'netG_state_dict': netG.state_dict(),\n",
    "      'netD_state_dict': netD.state_dict(),\n",
    "      'optimizerG_state_dict': optimizerG.state_dict(),\n",
    "      'optimizerD_state_dict': optimizerD.state_dict(),\n",
    "      'loss_L1': loss_L1,\n",
    "      'loss_L2': loss_L2,\n",
    "      'loss_gan': loss_gan,\n",
    "      'psnr_values': psnr_values,\n",
    "      'ssim_values': ssim_values,\n",
    "      'losses_L1': losses_L1,\n",
    "      'losses_L2': losses_L2,\n",
    "      'losses_gan': losses_gan,\n",
    "      'discriminator_losses': discriminator_losses,\n",
    "      'generator_losses': generator_losses,\n",
    "      'multi_scale_losses': multi_scale_losses,\n",
    "      'avg_generator_losses': avg_generator_losses,\n",
    "      'avg_discriminator_losses': avg_discriminator_losses,\n",
    "      'avg_multi_scale_losses': avg_multi_scale_losses,\n",
    "    }\n",
    "    torch.save(checkpoint_state, os.path.join(checkpoint_dir1, f\"checkpoint_{epoch}.pth\"))\n",
    "\n",
    "    \n",
    "\n",
    "    # Print the absolute values of three losses to screen:\n",
    "    print('[%d/30] Training absolute losses: L1 %.7f ; L2 %.7f BCE %.7f; Average PSNR: %.2f; Average SSIM: %.4f' % ((epoch + 1), loss_L1/m_train, loss_L2/m_train, loss_gan/m_train, avg_psnr, avg_ssim, ))\n",
    "\n",
    "    # Print the PSNR and SSIM on each epoch\n",
    "    #print('[%d/30] Average PSNR: %.2f, Average SSIM: %.4f' % (epoch + 1, avg_psnr, avg_ssim))\n",
    "\n",
    "    # Save the inputs, outputs, and ground truth frontals to files:\n",
    "    vutils.save_image(profile[1:6].data, 'FFRAD_CAS_output/%03d_input.jpg' % epoch, normalize=True)\n",
    "    vutils.save_image(real[1:6].data, 'FFRAD_CAS_output/%03d_real.jpg' % epoch, normalize=True)\n",
    "    vutils.save_image(generated[1:6].data, 'FFRAD_CAS_output/%03d_generated.jpg' % epoch, normalize=True)\n",
    "\n",
    "    \n",
    "\n",
    "    # Save the pre-trained Generator as well\n",
    "    torch.save(netG,'FFRAD_CAS_output/netG_%d.pt' % epoch)"
   ]
  },
  {
   "cell_type": "code",
   "execution_count": null,
   "id": "f80958e0-788a-4a16-b201-e592a84ca24b",
   "metadata": {},
   "outputs": [],
   "source": []
  },
  {
   "cell_type": "code",
   "execution_count": 18,
   "id": "760c44c0-a67d-4eaf-8010-1c806364ae40",
   "metadata": {},
   "outputs": [],
   "source": [
    "latest_epoch = 29\n",
    "checkpoint_path = os.path.join(checkpoint_dir1, f\"checkpoint_{latest_epoch}.pth\")\n",
    "checkpoint = torch.load(checkpoint_path)\n",
    "\n",
    "# Load model and optimizer states\n",
    "netG.load_state_dict(checkpoint['netG_state_dict'])\n",
    "netD.load_state_dict(checkpoint['netD_state_dict'])\n",
    "optimizerG.load_state_dict(checkpoint['optimizerG_state_dict'])\n",
    "optimizerD.load_state_dict(checkpoint['optimizerD_state_dict'])\n",
    "\n",
    "# Load training progress\n",
    "loss_L1 = checkpoint['loss_L1']\n",
    "loss_L2 = checkpoint['loss_L2']\n",
    "loss_gan = checkpoint['loss_gan']\n",
    "psnr_values = checkpoint['psnr_values']\n",
    "ssim_values = checkpoint['ssim_values']\n",
    "losses_L1 = checkpoint['losses_L1']\n",
    "losses_L2 = checkpoint['losses_L2']\n",
    "losses_gan = checkpoint['losses_gan']\n",
    "discriminator_losses = checkpoint['discriminator_losses']\n",
    "generator_losses = checkpoint['generator_losses']\n",
    "multi_scale_losses = checkpoint['multi_scale_losses']\n",
    "avg_generator_losses = checkpoint['avg_generator_losses']\n",
    "avg_discriminator_losses = checkpoint['avg_discriminator_losses']\n",
    "avg_multi_scale_losses = checkpoint['avg_multi_scale_losses']\n",
    "\n",
    "# Start training from the loaded epoch\n",
    "start_epoch = checkpoint['epoch'] + 1"
   ]
  },
  {
   "cell_type": "code",
   "execution_count": null,
   "id": "46586fea-b03a-4a48-8e31-c1d35bbd61ef",
   "metadata": {},
   "outputs": [
    {
     "name": "stderr",
     "output_type": "stream",
     "text": [
      "Epoch 21: 100%|█████████████████████████████████████████████████████████████████████| 39/39 [2:52:46<00:00, 265.81s/it]\n"
     ]
    },
    {
     "name": "stdout",
     "output_type": "stream",
     "text": [
      "[22/30] Training absolute losses: L1 0.0010607 ; L2 0.0001330 BCE 0.0054153; Average PSNR: 17.64; Average SSIM: 0.8379\n"
     ]
    },
    {
     "name": "stderr",
     "output_type": "stream",
     "text": [
      "Epoch 22: 100%|█████████████████████████████████████████████████████████████████████| 39/39 [2:50:42<00:00, 262.63s/it]\n"
     ]
    },
    {
     "name": "stdout",
     "output_type": "stream",
     "text": [
      "[23/30] Training absolute losses: L1 0.0010653 ; L2 0.0001343 BCE 0.0053960; Average PSNR: 17.60; Average SSIM: 0.8368\n"
     ]
    },
    {
     "name": "stderr",
     "output_type": "stream",
     "text": [
      "Epoch 23:  67%|████████████████████████████████████████████▋                      | 26/39 [1:14:44<1:06:31, 307.07s/it]"
     ]
    }
   ],
   "source": [
    "\n",
    "for epoch in range(start_epoch,30):  # Assuming 3 epochs for demonstration\n",
    "    \n",
    "    # Track loss values for each epoch\n",
    "    loss_L1 = 0\n",
    "    loss_L2 = 0\n",
    "    loss_gan = 0\n",
    "    total_psnr = 0\n",
    "    total_ssim = 0\n",
    "    \n",
    "   \n",
    "    with tqdm(total=len(train_pipe_loader), desc=f\"Epoch {epoch}\") as pbar:\n",
    "        for i, data in enumerate(train_pipe_loader, 0):\n",
    "            profile = data[0].view(32, 1, 128, 128).to(device)  # Reshape and move to device\n",
    "            frontal = data[1].view(32, 1, 128, 128).to(device)  # Reshape and move to device\n",
    "\n",
    "            # TRAINING THE DISCRIMINATOR\n",
    "            netD.zero_grad()\n",
    "            optimizerD.zero_grad()\n",
    "\n",
    "            real = Variable(frontal).type('torch.FloatTensor').to(device)\n",
    "            target = Variable(torch.ones(real.size()[0])).to(device)\n",
    "            profile = Variable(profile).type('torch.FloatTensor').to(device)\n",
    "            \n",
    "            real_output = netD(real,real)  # Discriminator output for real images\n",
    "            generated = netG(profile)  # Generate images from profile\n",
    "            fake_output = netD(profile, generated.detach())  # Discriminator output for fake images\n",
    "\n",
    "            # Concatenate real and fake outputs along a new dimension\n",
    "            concatenated = torch.cat((real_output, fake_output), dim=0)\n",
    "\n",
    "            # Create labels for real and fake images\n",
    "            target_real = torch.ones_like(real_output)\n",
    "            target_fake = torch.zeros_like(fake_output)\n",
    "            targets = torch.cat((target_real, target_fake), dim=0)\n",
    "\n",
    "            # Calculate BCE loss for the concatenated outputs\n",
    "            #errD = F.binary_cross_entropy_with_logits(concatenated, targets)\n",
    "\n",
    "            errD = criterion(concatenated, targets.float())\n",
    "            errD.backward()\n",
    "            optimizerD.step()\n",
    "             # Accumulate discriminator loss\n",
    "            discriminator_losses.append(errD.item())\n",
    "\n",
    "            # TRAINING THE GENERATOR\n",
    "            netG.zero_grad()\n",
    "            optimizerG.zero_grad()\n",
    "            generated = netG(profile)\n",
    "            output = netD(profile, generated)\n",
    "\n",
    "            # G wants to have the synthetic images be accepted by D\n",
    "            errG_GAN = criterion(output, torch.ones_like(output).float())\n",
    "\n",
    "            # Calculate L1 and L2 loss between generated and real images\n",
    "            #errG_L1 = F.l1_loss(generated, frontal.float())\n",
    "            #errG_L2 = F.mse_loss(generated, frontal.float())\n",
    "            errG_L1 = multi_scale_pixelwise_loss(generated, real)  # Multi-scale pixel-wise loss\n",
    "           \n",
    "            #errG_L1 = torch.mean(torch.abs(real - generated))\n",
    "            errG_L2 = torch.mean(torch.pow((real - generated), 2))\n",
    "            \n",
    "            # Total generator loss\n",
    "            errG = GAN_factor * errG_GAN + L1_factor * errG_L1 + L2_factor * errG_L2\n",
    "            errG.backward()\n",
    "            optimizerG.step()\n",
    "\n",
    "             #Accumulate generator loss\n",
    "            generator_losses.append(errG.item())\n",
    "\n",
    "            #Accumulate multi-scale pixel-wise loss\n",
    "            multi_scale_losses.append(errG_L1.item())\n",
    "\n",
    "            # Update loss values\n",
    "            loss_L1 += errG_L1.item()\n",
    "            loss_L2 += errG_L2.item()\n",
    "            loss_gan += errG_GAN.item()\n",
    "\n",
    "            # Calculate PSNR for each generated image and accumulate\n",
    "            psnr = calculate_psnr(generated, frontal)\n",
    "            total_psnr += psnr\n",
    "\n",
    "            # Calculate SSIM for each generated image and accumulate\n",
    "            ssim_val = calculate_ssim(generated, frontal)\n",
    "            total_ssim += ssim_val\n",
    "\n",
    "            pbar.update(1)\n",
    "\n",
    "   # Append the average losses to the respective lists\n",
    "\n",
    "\n",
    "    avg_gen_loss = sum(generator_losses[epoch * len(train_pipe_loader):(epoch + 1) * len(train_pipe_loader)]) / len(train_pipe_loader)\n",
    "    avg_disc_loss = sum(discriminator_losses[epoch * len(train_pipe_loader):(epoch + 1) * len(train_pipe_loader)]) / len(train_pipe_loader)\n",
    "    avg_multi_loss = sum(multi_scale_losses[epoch * len(train_pipe_loader):(epoch + 1) * len(train_pipe_loader)]) / len(train_pipe_loader)\n",
    "\n",
    "    avg_generator_losses.append(avg_gen_loss)\n",
    "    avg_discriminator_losses.append(avg_disc_loss)\n",
    "    avg_multi_scale_losses.append(avg_multi_loss)\n",
    "    \n",
    "    \n",
    "    # Calculate average PSNR and SSIM for this epoch\n",
    "    avg_psnr = total_psnr / len(train_pipe_loader)\n",
    "    avg_ssim = total_ssim / len(train_pipe_loader)\n",
    "\n",
    "    # Append the average PSNR and SSIM for this epoch to the respective lists\n",
    "    psnr_values.append(avg_psnr)\n",
    "    ssim_values.append(avg_ssim)\n",
    "    \n",
    "    if epoch == 0:\n",
    "        print('First training epoch completed in ',(time.time() - start_time),' seconds')\n",
    "    #if epoch > 0:\n",
    "        #print(f\"Epoch: {epoch} is starting..\")\n",
    "    # reset the DALI iterator\n",
    "    #train_pipe_loader.reset()\n",
    "\n",
    "    losses_L1.append(loss_L1 / m_train)\n",
    "    losses_L2.append(loss_L2 / m_train)\n",
    "    losses_gan.append(loss_gan / m_train)\n",
    "\n",
    "     # Save checkpoint after each epoch\n",
    "    checkpoint_state = {\n",
    "      'epoch': epoch,\n",
    "      'netG_state_dict': netG.state_dict(),\n",
    "      'netD_state_dict': netD.state_dict(),\n",
    "      'optimizerG_state_dict': optimizerG.state_dict(),\n",
    "      'optimizerD_state_dict': optimizerD.state_dict(),\n",
    "      'loss_L1': loss_L1,\n",
    "      'loss_L2': loss_L2,\n",
    "      'loss_gan': loss_gan,\n",
    "      'psnr_values': psnr_values,\n",
    "      'ssim_values': ssim_values,\n",
    "      'losses_L1': losses_L1,\n",
    "      'losses_L2': losses_L2,\n",
    "      'losses_gan': losses_gan,\n",
    "      'discriminator_losses': discriminator_losses,\n",
    "      'generator_losses': generator_losses,\n",
    "      'multi_scale_losses': multi_scale_losses,\n",
    "      'avg_generator_losses': avg_generator_losses,\n",
    "      'avg_discriminator_losses': avg_discriminator_losses,\n",
    "      'avg_multi_scale_losses': avg_multi_scale_losses,\n",
    "    }\n",
    "    torch.save(checkpoint_state, os.path.join(checkpoint_dir1, f\"checkpoint_{epoch}.pth\"))\n",
    "\n",
    "    \n",
    "\n",
    "    # Print the absolute values of three losses to screen:\n",
    "    print('[%d/30] Training absolute losses: L1 %.7f ; L2 %.7f BCE %.7f; Average PSNR: %.2f; Average SSIM: %.4f' % ((epoch + 1), loss_L1/m_train, loss_L2/m_train, loss_gan/m_train, avg_psnr, avg_ssim, ))\n",
    "\n",
    "    # Print the PSNR and SSIM on each epoch\n",
    "    #print('[%d/30] Average PSNR: %.2f, Average SSIM: %.4f' % (epoch + 1, avg_psnr, avg_ssim))\n",
    "\n",
    "    # Save the inputs, outputs, and ground truth frontals to files:\n",
    "    vutils.save_image(profile[1:6].data, 'FFRAD_CAS_output/%03d_input.jpg' % epoch, normalize=True)\n",
    "    vutils.save_image(real[1:6].data, 'FFRAD_CAS_output/%03d_real.jpg' % epoch, normalize=True)\n",
    "    vutils.save_image(generated[1:6].data, 'FFRAD_CAS_output/%03d_generated.jpg' % epoch, normalize=True)\n",
    "\n",
    "    \n",
    "\n",
    "    # Save the pre-trained Generator as well\n",
    "    torch.save(netG,'FFRAD_CAS_output/netG_%d.pt' % epoch)"
   ]
  },
  {
   "cell_type": "code",
   "execution_count": null,
   "id": "93bd0ccf-458a-4f5e-ae88-31e22f018022",
   "metadata": {},
   "outputs": [],
   "source": []
  },
  {
   "cell_type": "code",
   "execution_count": 19,
   "id": "3427d39f-c853-4063-b1f6-ee6a0bd89361",
   "metadata": {},
   "outputs": [
    {
     "name": "stderr",
     "output_type": "stream",
     "text": [
      "Epoch 23: 100%|█████████████████████████████████████████████████████████████████████| 39/39 [2:52:34<00:00, 265.51s/it]\n"
     ]
    },
    {
     "name": "stdout",
     "output_type": "stream",
     "text": [
      "[24/30] Training absolute losses: L1 0.0009600 ; L2 0.0001122 BCE 0.0054506; Average PSNR: 18.38; Average SSIM: 0.8583\n"
     ]
    },
    {
     "name": "stderr",
     "output_type": "stream",
     "text": [
      "Epoch 24: 100%|█████████████████████████████████████████████████████████████████████| 39/39 [2:50:54<00:00, 262.94s/it]\n"
     ]
    },
    {
     "name": "stdout",
     "output_type": "stream",
     "text": [
      "[25/30] Training absolute losses: L1 0.0009559 ; L2 0.0001119 BCE 0.0054192; Average PSNR: 18.39; Average SSIM: 0.8581\n"
     ]
    },
    {
     "name": "stderr",
     "output_type": "stream",
     "text": [
      "Epoch 25: 100%|█████████████████████████████████████████████████████████████████████| 39/39 [2:51:38<00:00, 264.07s/it]\n"
     ]
    },
    {
     "name": "stdout",
     "output_type": "stream",
     "text": [
      "[26/30] Training absolute losses: L1 0.0010240 ; L2 0.0001237 BCE 0.0053920; Average PSNR: 17.96; Average SSIM: 0.8474\n"
     ]
    },
    {
     "name": "stderr",
     "output_type": "stream",
     "text": [
      "Epoch 26: 100%|█████████████████████████████████████████████████████████████████████| 39/39 [2:51:55<00:00, 264.49s/it]\n"
     ]
    },
    {
     "name": "stdout",
     "output_type": "stream",
     "text": [
      "[27/30] Training absolute losses: L1 0.0009964 ; L2 0.0001210 BCE 0.0054171; Average PSNR: 18.05; Average SSIM: 0.8528\n"
     ]
    },
    {
     "name": "stderr",
     "output_type": "stream",
     "text": [
      "Epoch 27: 100%|█████████████████████████████████████████████████████████████████████| 39/39 [2:51:59<00:00, 264.61s/it]\n"
     ]
    },
    {
     "name": "stdout",
     "output_type": "stream",
     "text": [
      "[28/30] Training absolute losses: L1 0.0009775 ; L2 0.0001156 BCE 0.0054288; Average PSNR: 18.25; Average SSIM: 0.8608\n"
     ]
    },
    {
     "name": "stderr",
     "output_type": "stream",
     "text": [
      "Epoch 28: 100%|█████████████████████████████████████████████████████████████████████| 39/39 [2:52:14<00:00, 264.99s/it]\n"
     ]
    },
    {
     "name": "stdout",
     "output_type": "stream",
     "text": [
      "[29/30] Training absolute losses: L1 0.0009367 ; L2 0.0001072 BCE 0.0054065; Average PSNR: 18.58; Average SSIM: 0.8676\n"
     ]
    },
    {
     "name": "stderr",
     "output_type": "stream",
     "text": [
      "Epoch 29: 100%|█████████████████████████████████████████████████████████████████████| 39/39 [2:52:35<00:00, 265.52s/it]\n"
     ]
    },
    {
     "name": "stdout",
     "output_type": "stream",
     "text": [
      "[30/30] Training absolute losses: L1 0.0009454 ; L2 0.0001085 BCE 0.0054033; Average PSNR: 18.52; Average SSIM: 0.8649\n"
     ]
    }
   ],
   "source": [
    "\n",
    "for epoch in range(start_epoch,30):  # Assuming 3 epochs for demonstration\n",
    "    \n",
    "    # Track loss values for each epoch\n",
    "    loss_L1 = 0\n",
    "    loss_L2 = 0\n",
    "    loss_gan = 0\n",
    "    total_psnr = 0\n",
    "    total_ssim = 0\n",
    "    \n",
    "   \n",
    "    with tqdm(total=len(train_pipe_loader), desc=f\"Epoch {epoch}\") as pbar:\n",
    "        for i, data in enumerate(train_pipe_loader, 0):\n",
    "            profile = data[0].view(32, 1, 128, 128).to(device)  # Reshape and move to device\n",
    "            frontal = data[1].view(32, 1, 128, 128).to(device)  # Reshape and move to device\n",
    "\n",
    "            # TRAINING THE DISCRIMINATOR\n",
    "            netD.zero_grad()\n",
    "            optimizerD.zero_grad()\n",
    "\n",
    "            real = Variable(frontal).type('torch.FloatTensor').to(device)\n",
    "            target = Variable(torch.ones(real.size()[0])).to(device)\n",
    "            profile = Variable(profile).type('torch.FloatTensor').to(device)\n",
    "            \n",
    "            real_output = netD(real,real)  # Discriminator output for real images\n",
    "            generated = netG(profile)  # Generate images from profile\n",
    "            fake_output = netD(profile, generated.detach())  # Discriminator output for fake images\n",
    "\n",
    "            # Concatenate real and fake outputs along a new dimension\n",
    "            concatenated = torch.cat((real_output, fake_output), dim=0)\n",
    "\n",
    "            # Create labels for real and fake images\n",
    "            target_real = torch.ones_like(real_output)\n",
    "            target_fake = torch.zeros_like(fake_output)\n",
    "            targets = torch.cat((target_real, target_fake), dim=0)\n",
    "\n",
    "            # Calculate BCE loss for the concatenated outputs\n",
    "            #errD = F.binary_cross_entropy_with_logits(concatenated, targets)\n",
    "\n",
    "            errD = criterion(concatenated, targets.float())\n",
    "            errD.backward()\n",
    "            optimizerD.step()\n",
    "             # Accumulate discriminator loss\n",
    "            discriminator_losses.append(errD.item())\n",
    "\n",
    "            # TRAINING THE GENERATOR\n",
    "            netG.zero_grad()\n",
    "            optimizerG.zero_grad()\n",
    "            generated = netG(profile)\n",
    "            output = netD(profile, generated)\n",
    "\n",
    "            # G wants to have the synthetic images be accepted by D\n",
    "            errG_GAN = criterion(output, torch.ones_like(output).float())\n",
    "\n",
    "            # Calculate L1 and L2 loss between generated and real images\n",
    "            #errG_L1 = F.l1_loss(generated, frontal.float())\n",
    "            #errG_L2 = F.mse_loss(generated, frontal.float())\n",
    "            errG_L1 = multi_scale_pixelwise_loss(generated, real)  # Multi-scale pixel-wise loss\n",
    "           \n",
    "            #errG_L1 = torch.mean(torch.abs(real - generated))\n",
    "            errG_L2 = torch.mean(torch.pow((real - generated), 2))\n",
    "            \n",
    "            # Total generator loss\n",
    "            errG = GAN_factor * errG_GAN + L1_factor * errG_L1 + L2_factor * errG_L2\n",
    "            errG.backward()\n",
    "            optimizerG.step()\n",
    "\n",
    "             #Accumulate generator loss\n",
    "            generator_losses.append(errG.item())\n",
    "\n",
    "            #Accumulate multi-scale pixel-wise loss\n",
    "            multi_scale_losses.append(errG_L1.item())\n",
    "\n",
    "            # Update loss values\n",
    "            loss_L1 += errG_L1.item()\n",
    "            loss_L2 += errG_L2.item()\n",
    "            loss_gan += errG_GAN.item()\n",
    "\n",
    "            # Calculate PSNR for each generated image and accumulate\n",
    "            psnr = calculate_psnr(generated, frontal)\n",
    "            total_psnr += psnr\n",
    "\n",
    "            # Calculate SSIM for each generated image and accumulate\n",
    "            ssim_val = calculate_ssim(generated, frontal)\n",
    "            total_ssim += ssim_val\n",
    "\n",
    "            pbar.update(1)\n",
    "\n",
    "   # Append the average losses to the respective lists\n",
    "\n",
    "\n",
    "    avg_gen_loss = sum(generator_losses[epoch * len(train_pipe_loader):(epoch + 1) * len(train_pipe_loader)]) / len(train_pipe_loader)\n",
    "    avg_disc_loss = sum(discriminator_losses[epoch * len(train_pipe_loader):(epoch + 1) * len(train_pipe_loader)]) / len(train_pipe_loader)\n",
    "    avg_multi_loss = sum(multi_scale_losses[epoch * len(train_pipe_loader):(epoch + 1) * len(train_pipe_loader)]) / len(train_pipe_loader)\n",
    "\n",
    "    avg_generator_losses.append(avg_gen_loss)\n",
    "    avg_discriminator_losses.append(avg_disc_loss)\n",
    "    avg_multi_scale_losses.append(avg_multi_loss)\n",
    "    \n",
    "    \n",
    "    # Calculate average PSNR and SSIM for this epoch\n",
    "    avg_psnr = total_psnr / len(train_pipe_loader)\n",
    "    avg_ssim = total_ssim / len(train_pipe_loader)\n",
    "\n",
    "    # Append the average PSNR and SSIM for this epoch to the respective lists\n",
    "    psnr_values.append(avg_psnr)\n",
    "    ssim_values.append(avg_ssim)\n",
    "    \n",
    "    if epoch == 0:\n",
    "        print('First training epoch completed in ',(time.time() - start_time),' seconds')\n",
    "    #if epoch > 0:\n",
    "        #print(f\"Epoch: {epoch} is starting..\")\n",
    "    # reset the DALI iterator\n",
    "    #train_pipe_loader.reset()\n",
    "\n",
    "    losses_L1.append(loss_L1 / m_train)\n",
    "    losses_L2.append(loss_L2 / m_train)\n",
    "    losses_gan.append(loss_gan / m_train)\n",
    "\n",
    "     # Save checkpoint after each epoch\n",
    "    checkpoint_state = {\n",
    "      'epoch': epoch,\n",
    "      'netG_state_dict': netG.state_dict(),\n",
    "      'netD_state_dict': netD.state_dict(),\n",
    "      'optimizerG_state_dict': optimizerG.state_dict(),\n",
    "      'optimizerD_state_dict': optimizerD.state_dict(),\n",
    "      'loss_L1': loss_L1,\n",
    "      'loss_L2': loss_L2,\n",
    "      'loss_gan': loss_gan,\n",
    "      'psnr_values': psnr_values,\n",
    "      'ssim_values': ssim_values,\n",
    "      'losses_L1': losses_L1,\n",
    "      'losses_L2': losses_L2,\n",
    "      'losses_gan': losses_gan,\n",
    "      'discriminator_losses': discriminator_losses,\n",
    "      'generator_losses': generator_losses,\n",
    "      'multi_scale_losses': multi_scale_losses,\n",
    "      'avg_generator_losses': avg_generator_losses,\n",
    "      'avg_discriminator_losses': avg_discriminator_losses,\n",
    "      'avg_multi_scale_losses': avg_multi_scale_losses,\n",
    "    }\n",
    "    torch.save(checkpoint_state, os.path.join(checkpoint_dir1, f\"checkpoint_{epoch}.pth\"))\n",
    "\n",
    "    \n",
    "\n",
    "    # Print the absolute values of three losses to screen:\n",
    "    print('[%d/30] Training absolute losses: L1 %.7f ; L2 %.7f BCE %.7f; Average PSNR: %.2f; Average SSIM: %.4f' % ((epoch + 1), loss_L1/m_train, loss_L2/m_train, loss_gan/m_train, avg_psnr, avg_ssim, ))\n",
    "\n",
    "    # Print the PSNR and SSIM on each epoch\n",
    "    #print('[%d/30] Average PSNR: %.2f, Average SSIM: %.4f' % (epoch + 1, avg_psnr, avg_ssim))\n",
    "\n",
    "    # Save the inputs, outputs, and ground truth frontals to files:\n",
    "    vutils.save_image(profile.data, 'FFRAD_CAS_output/%03d_input.jpg' % epoch, normalize=True)\n",
    "    vutils.save_image(real.data, 'FFRAD_CAS_output/%03d_real.jpg' % epoch, normalize=True)\n",
    "    vutils.save_image(generated.data, 'FFRAD_CAS_output/%03d_generated.jpg' % epoch, normalize=True)\n",
    "\n",
    "    \n",
    "\n",
    "    # Save the pre-trained Generator as well\n",
    "    torch.save(netG,'FFRAD_CAS_output/netG_%d.pt' % epoch)"
   ]
  },
  {
   "cell_type": "code",
   "execution_count": null,
   "id": "2941df63-c61c-4bda-8205-e61e339a58b2",
   "metadata": {},
   "outputs": [],
   "source": []
  },
  {
   "cell_type": "code",
   "execution_count": 20,
   "id": "03ff702a-76d0-4e60-a9e7-b6693b420f56",
   "metadata": {},
   "outputs": [
    {
     "data": {
      "image/png": "[encoded data removed]",
      "text/plain": [
       "<Figure size 1000x500 with 1 Axes>"
      ]
     },
     "metadata": {},
     "output_type": "display_data"
    }
   ],
   "source": [
    "# Plotting the losses\n",
    "import matplotlib.pyplot as plt\n",
    "plt.figure(figsize=(10, 5))\n",
    "plt.plot(generator_losses)\n",
    "#plt.plot(discriminator_losses, label='Discriminator Loss')\n",
    "#plt.plot(multi_scale_losses, label='Multi-Scale Pixel-wise Loss')\n",
    "plt.xlabel('Iterations')\n",
    "plt.ylabel('Loss')\n",
    "plt.title('Generator  Loss ')\n",
    "#plt.legend()\n",
    "plt.show()"
   ]
  },
  {
   "cell_type": "code",
   "execution_count": 21,
   "id": "71e9e976-18ab-400b-9da9-e9ce7ffdffd3",
   "metadata": {},
   "outputs": [
    {
     "data": {
      "image/png": "[encoded data removed]",
      "text/plain": [
       "<Figure size 1000x500 with 1 Axes>"
      ]
     },
     "metadata": {},
     "output_type": "display_data"
    }
   ],
   "source": [
    "# Plotting the losses\n",
    "import matplotlib.pyplot as plt\n",
    "plt.figure(figsize=(10, 5))\n",
    "#plt.plot(generator_losses)\n",
    "plt.plot(discriminator_losses, label='Discriminator Loss')\n",
    "#plt.plot(multi_scale_losses, label='Multi-Scale Pixel-wise Loss')\n",
    "plt.xlabel('Iterations')\n",
    "plt.ylabel('Loss')\n",
    "plt.title('Generator  Loss ')\n",
    "#plt.legend()\n",
    "plt.show()"
   ]
  },
  {
   "cell_type": "code",
   "execution_count": 27,
   "id": "ebf01304-cff8-49be-86fb-1660a0b8ffca",
   "metadata": {},
   "outputs": [
    {
     "name": "stderr",
     "output_type": "stream",
     "text": [
      "Epoch 0: 100%|██████████████████████████████████████████████████████████████████████| 39/39 [3:00:33<00:00, 277.78s/it]\n"
     ]
    },
    {
     "name": "stdout",
     "output_type": "stream",
     "text": [
      "First training epoch completed in  22960.797956466675  seconds\n",
      "[1/40] Training absolute losses: L1 0.0020342 ; L2 0.0004042 BCE 0.0053799; Average PSNR: 12.86; Average SSIM: 0.5396\n"
     ]
    },
    {
     "name": "stderr",
     "output_type": "stream",
     "text": [
      "Epoch 1:  15%|███████████▍                                                              | 6/39 [05:19<29:17, 53.27s/it]\n"
     ]
    },
    {
     "ename": "KeyboardInterrupt",
     "evalue": "",
     "output_type": "error",
     "traceback": [
      "\u001b[1;31m---------------------------------------------------------------------------\u001b[0m",
      "\u001b[1;31mKeyboardInterrupt\u001b[0m                         Traceback (most recent call last)",
      "Cell \u001b[1;32mIn[27], line 12\u001b[0m\n\u001b[0;32m      8\u001b[0m total_ssim \u001b[38;5;241m=\u001b[39m \u001b[38;5;241m0\u001b[39m\n\u001b[0;32m     11\u001b[0m \u001b[38;5;28;01mwith\u001b[39;00m tqdm(total\u001b[38;5;241m=\u001b[39m\u001b[38;5;28mlen\u001b[39m(train_pipe_loader), desc\u001b[38;5;241m=\u001b[39m\u001b[38;5;124mf\u001b[39m\u001b[38;5;124m\"\u001b[39m\u001b[38;5;124mEpoch \u001b[39m\u001b[38;5;132;01m{\u001b[39;00mepoch\u001b[38;5;132;01m}\u001b[39;00m\u001b[38;5;124m\"\u001b[39m) \u001b[38;5;28;01mas\u001b[39;00m pbar:\n\u001b[1;32m---> 12\u001b[0m \u001b[43m    \u001b[49m\u001b[38;5;28;43;01mfor\u001b[39;49;00m\u001b[43m \u001b[49m\u001b[43mi\u001b[49m\u001b[43m,\u001b[49m\u001b[43m \u001b[49m\u001b[43mdata\u001b[49m\u001b[43m \u001b[49m\u001b[38;5;129;43;01min\u001b[39;49;00m\u001b[43m \u001b[49m\u001b[38;5;28;43menumerate\u001b[39;49m\u001b[43m(\u001b[49m\u001b[43mtrain_pipe_loader\u001b[49m\u001b[43m,\u001b[49m\u001b[43m \u001b[49m\u001b[38;5;241;43m0\u001b[39;49m\u001b[43m)\u001b[49m\u001b[43m:\u001b[49m\n\u001b[0;32m     13\u001b[0m \u001b[43m        \u001b[49m\u001b[43mprofile\u001b[49m\u001b[43m \u001b[49m\u001b[38;5;241;43m=\u001b[39;49m\u001b[43m \u001b[49m\u001b[43mdata\u001b[49m\u001b[43m[\u001b[49m\u001b[38;5;241;43m0\u001b[39;49m\u001b[43m]\u001b[49m\u001b[38;5;241;43m.\u001b[39;49m\u001b[43mview\u001b[49m\u001b[43m(\u001b[49m\u001b[38;5;241;43m128\u001b[39;49m\u001b[43m,\u001b[49m\u001b[43m \u001b[49m\u001b[38;5;241;43m1\u001b[39;49m\u001b[43m,\u001b[49m\u001b[43m \u001b[49m\u001b[38;5;241;43m128\u001b[39;49m\u001b[43m,\u001b[49m\u001b[43m \u001b[49m\u001b[38;5;241;43m128\u001b[39;49m\u001b[43m)\u001b[49m\u001b[38;5;241;43m.\u001b[39;49m\u001b[43mto\u001b[49m\u001b[43m(\u001b[49m\u001b[43mdevice\u001b[49m\u001b[43m)\u001b[49m\u001b[43m  \u001b[49m\u001b[38;5;66;43;03m# Reshape and move to device\u001b[39;49;00m\n\u001b[0;32m     14\u001b[0m \u001b[43m        \u001b[49m\u001b[43mfrontal\u001b[49m\u001b[43m \u001b[49m\u001b[38;5;241;43m=\u001b[39;49m\u001b[43m \u001b[49m\u001b[43mdata\u001b[49m\u001b[43m[\u001b[49m\u001b[38;5;241;43m1\u001b[39;49m\u001b[43m]\u001b[49m\u001b[38;5;241;43m.\u001b[39;49m\u001b[43mview\u001b[49m\u001b[43m(\u001b[49m\u001b[38;5;241;43m128\u001b[39;49m\u001b[43m,\u001b[49m\u001b[43m \u001b[49m\u001b[38;5;241;43m1\u001b[39;49m\u001b[43m,\u001b[49m\u001b[43m \u001b[49m\u001b[38;5;241;43m128\u001b[39;49m\u001b[43m,\u001b[49m\u001b[43m \u001b[49m\u001b[38;5;241;43m128\u001b[39;49m\u001b[43m)\u001b[49m\u001b[38;5;241;43m.\u001b[39;49m\u001b[43mto\u001b[49m\u001b[43m(\u001b[49m\u001b[43mdevice\u001b[49m\u001b[43m)\u001b[49m\u001b[43m  \u001b[49m\u001b[38;5;66;43;03m# Reshape and move to device\u001b[39;49;00m\n",
      "File \u001b[1;32m~\\.conda\\envs\\tor\\Lib\\site-packages\\torch\\utils\\data\\dataloader.py:630\u001b[0m, in \u001b[0;36m_BaseDataLoaderIter.__next__\u001b[1;34m(self)\u001b[0m\n\u001b[0;32m    627\u001b[0m \u001b[38;5;28;01mif\u001b[39;00m \u001b[38;5;28mself\u001b[39m\u001b[38;5;241m.\u001b[39m_sampler_iter \u001b[38;5;129;01mis\u001b[39;00m \u001b[38;5;28;01mNone\u001b[39;00m:\n\u001b[0;32m    628\u001b[0m     \u001b[38;5;66;03m# TODO(https://github.com/pytorch/pytorch/issues/76750)\u001b[39;00m\n\u001b[0;32m    629\u001b[0m     \u001b[38;5;28mself\u001b[39m\u001b[38;5;241m.\u001b[39m_reset()  \u001b[38;5;66;03m# type: ignore[call-arg]\u001b[39;00m\n\u001b[1;32m--> 630\u001b[0m data \u001b[38;5;241m=\u001b[39m \u001b[38;5;28;43mself\u001b[39;49m\u001b[38;5;241;43m.\u001b[39;49m\u001b[43m_next_data\u001b[49m\u001b[43m(\u001b[49m\u001b[43m)\u001b[49m\n\u001b[0;32m    631\u001b[0m \u001b[38;5;28mself\u001b[39m\u001b[38;5;241m.\u001b[39m_num_yielded \u001b[38;5;241m+\u001b[39m\u001b[38;5;241m=\u001b[39m \u001b[38;5;241m1\u001b[39m\n\u001b[0;32m    632\u001b[0m \u001b[38;5;28;01mif\u001b[39;00m \u001b[38;5;28mself\u001b[39m\u001b[38;5;241m.\u001b[39m_dataset_kind \u001b[38;5;241m==\u001b[39m _DatasetKind\u001b[38;5;241m.\u001b[39mIterable \u001b[38;5;129;01mand\u001b[39;00m \\\n\u001b[0;32m    633\u001b[0m         \u001b[38;5;28mself\u001b[39m\u001b[38;5;241m.\u001b[39m_IterableDataset_len_called \u001b[38;5;129;01mis\u001b[39;00m \u001b[38;5;129;01mnot\u001b[39;00m \u001b[38;5;28;01mNone\u001b[39;00m \u001b[38;5;129;01mand\u001b[39;00m \\\n\u001b[0;32m    634\u001b[0m         \u001b[38;5;28mself\u001b[39m\u001b[38;5;241m.\u001b[39m_num_yielded \u001b[38;5;241m>\u001b[39m \u001b[38;5;28mself\u001b[39m\u001b[38;5;241m.\u001b[39m_IterableDataset_len_called:\n",
      "File \u001b[1;32m~\\.conda\\envs\\tor\\Lib\\site-packages\\torch\\utils\\data\\dataloader.py:674\u001b[0m, in \u001b[0;36m_SingleProcessDataLoaderIter._next_data\u001b[1;34m(self)\u001b[0m\n\u001b[0;32m    672\u001b[0m \u001b[38;5;28;01mdef\u001b[39;00m \u001b[38;5;21m_next_data\u001b[39m(\u001b[38;5;28mself\u001b[39m):\n\u001b[0;32m    673\u001b[0m     index \u001b[38;5;241m=\u001b[39m \u001b[38;5;28mself\u001b[39m\u001b[38;5;241m.\u001b[39m_next_index()  \u001b[38;5;66;03m# may raise StopIteration\u001b[39;00m\n\u001b[1;32m--> 674\u001b[0m     data \u001b[38;5;241m=\u001b[39m \u001b[38;5;28;43mself\u001b[39;49m\u001b[38;5;241;43m.\u001b[39;49m\u001b[43m_dataset_fetcher\u001b[49m\u001b[38;5;241;43m.\u001b[39;49m\u001b[43mfetch\u001b[49m\u001b[43m(\u001b[49m\u001b[43mindex\u001b[49m\u001b[43m)\u001b[49m  \u001b[38;5;66;03m# may raise StopIteration\u001b[39;00m\n\u001b[0;32m    675\u001b[0m     \u001b[38;5;28;01mif\u001b[39;00m \u001b[38;5;28mself\u001b[39m\u001b[38;5;241m.\u001b[39m_pin_memory:\n\u001b[0;32m    676\u001b[0m         data \u001b[38;5;241m=\u001b[39m _utils\u001b[38;5;241m.\u001b[39mpin_memory\u001b[38;5;241m.\u001b[39mpin_memory(data, \u001b[38;5;28mself\u001b[39m\u001b[38;5;241m.\u001b[39m_pin_memory_device)\n",
      "File \u001b[1;32m~\\.conda\\envs\\tor\\Lib\\site-packages\\torch\\utils\\data\\_utils\\fetch.py:51\u001b[0m, in \u001b[0;36m_MapDatasetFetcher.fetch\u001b[1;34m(self, possibly_batched_index)\u001b[0m\n\u001b[0;32m     49\u001b[0m         data \u001b[38;5;241m=\u001b[39m \u001b[38;5;28mself\u001b[39m\u001b[38;5;241m.\u001b[39mdataset\u001b[38;5;241m.\u001b[39m__getitems__(possibly_batched_index)\n\u001b[0;32m     50\u001b[0m     \u001b[38;5;28;01melse\u001b[39;00m:\n\u001b[1;32m---> 51\u001b[0m         data \u001b[38;5;241m=\u001b[39m \u001b[43m[\u001b[49m\u001b[38;5;28;43mself\u001b[39;49m\u001b[38;5;241;43m.\u001b[39;49m\u001b[43mdataset\u001b[49m\u001b[43m[\u001b[49m\u001b[43midx\u001b[49m\u001b[43m]\u001b[49m\u001b[43m \u001b[49m\u001b[38;5;28;43;01mfor\u001b[39;49;00m\u001b[43m \u001b[49m\u001b[43midx\u001b[49m\u001b[43m \u001b[49m\u001b[38;5;129;43;01min\u001b[39;49;00m\u001b[43m \u001b[49m\u001b[43mpossibly_batched_index\u001b[49m\u001b[43m]\u001b[49m\n\u001b[0;32m     52\u001b[0m \u001b[38;5;28;01melse\u001b[39;00m:\n\u001b[0;32m     53\u001b[0m     data \u001b[38;5;241m=\u001b[39m \u001b[38;5;28mself\u001b[39m\u001b[38;5;241m.\u001b[39mdataset[possibly_batched_index]\n",
      "File \u001b[1;32m~\\.conda\\envs\\tor\\Lib\\site-packages\\torch\\utils\\data\\_utils\\fetch.py:51\u001b[0m, in \u001b[0;36m<listcomp>\u001b[1;34m(.0)\u001b[0m\n\u001b[0;32m     49\u001b[0m         data \u001b[38;5;241m=\u001b[39m \u001b[38;5;28mself\u001b[39m\u001b[38;5;241m.\u001b[39mdataset\u001b[38;5;241m.\u001b[39m__getitems__(possibly_batched_index)\n\u001b[0;32m     50\u001b[0m     \u001b[38;5;28;01melse\u001b[39;00m:\n\u001b[1;32m---> 51\u001b[0m         data \u001b[38;5;241m=\u001b[39m [\u001b[38;5;28;43mself\u001b[39;49m\u001b[38;5;241;43m.\u001b[39;49m\u001b[43mdataset\u001b[49m\u001b[43m[\u001b[49m\u001b[43midx\u001b[49m\u001b[43m]\u001b[49m \u001b[38;5;28;01mfor\u001b[39;00m idx \u001b[38;5;129;01min\u001b[39;00m possibly_batched_index]\n\u001b[0;32m     52\u001b[0m \u001b[38;5;28;01melse\u001b[39;00m:\n\u001b[0;32m     53\u001b[0m     data \u001b[38;5;241m=\u001b[39m \u001b[38;5;28mself\u001b[39m\u001b[38;5;241m.\u001b[39mdataset[possibly_batched_index]\n",
      "Cell \u001b[1;32mIn[14], line 120\u001b[0m, in \u001b[0;36mImagePipeline.__getitem__\u001b[1;34m(self, index)\u001b[0m\n\u001b[0;32m    117\u001b[0m \u001b[38;5;28;01mdef\u001b[39;00m \u001b[38;5;21m__getitem__\u001b[39m(\u001b[38;5;28mself\u001b[39m, index):\n\u001b[0;32m    118\u001b[0m     \u001b[38;5;66;03m# Advance the iterator to the desired index\u001b[39;00m\n\u001b[0;32m    119\u001b[0m     \u001b[38;5;28;01mfor\u001b[39;00m _ \u001b[38;5;129;01min\u001b[39;00m \u001b[38;5;28mrange\u001b[39m(index):\n\u001b[1;32m--> 120\u001b[0m         \u001b[38;5;28mnext\u001b[39m(\u001b[38;5;28mself\u001b[39m\u001b[38;5;241m.\u001b[39miterator)\n\u001b[0;32m    122\u001b[0m     \u001b[38;5;66;03m# Return the next batch\u001b[39;00m\n\u001b[0;32m    123\u001b[0m     \u001b[38;5;28;01mreturn\u001b[39;00m \u001b[38;5;28mnext\u001b[39m(\u001b[38;5;28mself\u001b[39m)\n",
      "Cell \u001b[1;32mIn[14], line 56\u001b[0m, in \u001b[0;36mExternalInputIterator.__next__\u001b[1;34m(self)\u001b[0m\n\u001b[0;32m     54\u001b[0m \u001b[38;5;28;01mtry\u001b[39;00m:\n\u001b[0;32m     55\u001b[0m     \u001b[38;5;28;01mwith\u001b[39;00m Image\u001b[38;5;241m.\u001b[39mopen(profile_filename) \u001b[38;5;28;01mas\u001b[39;00m profile_img:\n\u001b[1;32m---> 56\u001b[0m         profiles\u001b[38;5;241m.\u001b[39mappend(np\u001b[38;5;241m.\u001b[39marray(profile_img))\n\u001b[0;32m     57\u001b[0m \u001b[38;5;28;01mexcept\u001b[39;00m \u001b[38;5;167;01mFileNotFoundError\u001b[39;00m:\n\u001b[0;32m     58\u001b[0m     logging\u001b[38;5;241m.\u001b[39merror(\u001b[38;5;124mf\u001b[39m\u001b[38;5;124m'\u001b[39m\u001b[38;5;124mProfile image not found: \u001b[39m\u001b[38;5;132;01m{\u001b[39;00mprofile_filename\u001b[38;5;132;01m}\u001b[39;00m\u001b[38;5;124m'\u001b[39m)\n",
      "File \u001b[1;32m~\\.conda\\envs\\tor\\Lib\\site-packages\\PIL\\Image.py:673\u001b[0m, in \u001b[0;36mImage.__array_interface__\u001b[1;34m(self)\u001b[0m\n\u001b[0;32m    671\u001b[0m         new[\u001b[38;5;124m\"\u001b[39m\u001b[38;5;124mdata\u001b[39m\u001b[38;5;124m\"\u001b[39m] \u001b[38;5;241m=\u001b[39m \u001b[38;5;28mself\u001b[39m\u001b[38;5;241m.\u001b[39mtobytes(\u001b[38;5;124m\"\u001b[39m\u001b[38;5;124mraw\u001b[39m\u001b[38;5;124m\"\u001b[39m, \u001b[38;5;124m\"\u001b[39m\u001b[38;5;124mL\u001b[39m\u001b[38;5;124m\"\u001b[39m)\n\u001b[0;32m    672\u001b[0m     \u001b[38;5;28;01melse\u001b[39;00m:\n\u001b[1;32m--> 673\u001b[0m         new[\u001b[38;5;124m\"\u001b[39m\u001b[38;5;124mdata\u001b[39m\u001b[38;5;124m\"\u001b[39m] \u001b[38;5;241m=\u001b[39m \u001b[38;5;28;43mself\u001b[39;49m\u001b[38;5;241;43m.\u001b[39;49m\u001b[43mtobytes\u001b[49m\u001b[43m(\u001b[49m\u001b[43m)\u001b[49m\n\u001b[0;32m    674\u001b[0m \u001b[38;5;28;01mexcept\u001b[39;00m \u001b[38;5;167;01mException\u001b[39;00m \u001b[38;5;28;01mas\u001b[39;00m e:\n\u001b[0;32m    675\u001b[0m     \u001b[38;5;28;01mif\u001b[39;00m \u001b[38;5;129;01mnot\u001b[39;00m \u001b[38;5;28misinstance\u001b[39m(e, (\u001b[38;5;167;01mMemoryError\u001b[39;00m, \u001b[38;5;167;01mRecursionError\u001b[39;00m)):\n",
      "File \u001b[1;32m~\\.conda\\envs\\tor\\Lib\\site-packages\\PIL\\Image.py:732\u001b[0m, in \u001b[0;36mImage.tobytes\u001b[1;34m(self, encoder_name, *args)\u001b[0m\n\u001b[0;32m    729\u001b[0m \u001b[38;5;28;01mif\u001b[39;00m encoder_name \u001b[38;5;241m==\u001b[39m \u001b[38;5;124m\"\u001b[39m\u001b[38;5;124mraw\u001b[39m\u001b[38;5;124m\"\u001b[39m \u001b[38;5;129;01mand\u001b[39;00m args \u001b[38;5;241m==\u001b[39m ():\n\u001b[0;32m    730\u001b[0m     args \u001b[38;5;241m=\u001b[39m \u001b[38;5;28mself\u001b[39m\u001b[38;5;241m.\u001b[39mmode\n\u001b[1;32m--> 732\u001b[0m \u001b[38;5;28;43mself\u001b[39;49m\u001b[38;5;241;43m.\u001b[39;49m\u001b[43mload\u001b[49m\u001b[43m(\u001b[49m\u001b[43m)\u001b[49m\n\u001b[0;32m    734\u001b[0m \u001b[38;5;28;01mif\u001b[39;00m \u001b[38;5;28mself\u001b[39m\u001b[38;5;241m.\u001b[39mwidth \u001b[38;5;241m==\u001b[39m \u001b[38;5;241m0\u001b[39m \u001b[38;5;129;01mor\u001b[39;00m \u001b[38;5;28mself\u001b[39m\u001b[38;5;241m.\u001b[39mheight \u001b[38;5;241m==\u001b[39m \u001b[38;5;241m0\u001b[39m:\n\u001b[0;32m    735\u001b[0m     \u001b[38;5;28;01mreturn\u001b[39;00m \u001b[38;5;124mb\u001b[39m\u001b[38;5;124m\"\u001b[39m\u001b[38;5;124m\"\u001b[39m\n",
      "File \u001b[1;32m~\\.conda\\envs\\tor\\Lib\\site-packages\\PIL\\ImageFile.py:269\u001b[0m, in \u001b[0;36mImageFile.load\u001b[1;34m(self)\u001b[0m\n\u001b[0;32m    266\u001b[0m         \u001b[38;5;28;01mraise\u001b[39;00m \u001b[38;5;167;01mOSError\u001b[39;00m(msg)\n\u001b[0;32m    268\u001b[0m b \u001b[38;5;241m=\u001b[39m b \u001b[38;5;241m+\u001b[39m s\n\u001b[1;32m--> 269\u001b[0m n, err_code \u001b[38;5;241m=\u001b[39m \u001b[43mdecoder\u001b[49m\u001b[38;5;241;43m.\u001b[39;49m\u001b[43mdecode\u001b[49m\u001b[43m(\u001b[49m\u001b[43mb\u001b[49m\u001b[43m)\u001b[49m\n\u001b[0;32m    270\u001b[0m \u001b[38;5;28;01mif\u001b[39;00m n \u001b[38;5;241m<\u001b[39m \u001b[38;5;241m0\u001b[39m:\n\u001b[0;32m    271\u001b[0m     \u001b[38;5;28;01mbreak\u001b[39;00m\n",
      "\u001b[1;31mKeyboardInterrupt\u001b[0m: "
     ]
    }
   ],
   "source": [
    "\n",
    "for epoch in range(40):  # Assuming 3 epochs for demonstration\n",
    "    \n",
    "    # Track loss values for each epoch\n",
    "    loss_L1 = 0\n",
    "    loss_L2 = 0\n",
    "    loss_gan = 0\n",
    "    total_psnr = 0\n",
    "    total_ssim = 0\n",
    "    \n",
    "   \n",
    "    with tqdm(total=len(train_pipe_loader), desc=f\"Epoch {epoch}\") as pbar:\n",
    "        for i, data in enumerate(train_pipe_loader, 0):\n",
    "            profile = data[0].view(128, 1, 128, 128).to(device)  # Reshape and move to device\n",
    "            frontal = data[1].view(128, 1, 128, 128).to(device)  # Reshape and move to device\n",
    "\n",
    "            # TRAINING THE DISCRIMINATOR\n",
    "            netD.zero_grad()\n",
    "            optimizerD.zero_grad()\n",
    "\n",
    "            real = Variable(frontal).type('torch.FloatTensor').to(device)\n",
    "            target = Variable(torch.ones(real.size()[0])).to(device)\n",
    "            profile = Variable(profile).type('torch.FloatTensor').to(device)\n",
    "            \n",
    "            real_output = netD(real,real)  # Discriminator output for real images\n",
    "            generated = netG(profile)  # Generate images from profile\n",
    "            fake_output = netD(profile, generated.detach())  # Discriminator output for fake images\n",
    "\n",
    "            # Concatenate real and fake outputs along a new dimension\n",
    "            concatenated = torch.cat((real_output, fake_output), dim=0)\n",
    "\n",
    "            # Create labels for real and fake images\n",
    "            target_real = torch.ones_like(real_output)\n",
    "            target_fake = torch.zeros_like(fake_output)\n",
    "            targets = torch.cat((target_real, target_fake), dim=0)\n",
    "\n",
    "            # Calculate BCE loss for the concatenated outputs\n",
    "            #errD = F.binary_cross_entropy_with_logits(concatenated, targets)\n",
    "\n",
    "            errD = criterion(concatenated, targets.float())\n",
    "            errD.backward()\n",
    "            optimizerD.step()\n",
    "             # Accumulate discriminator loss\n",
    "            discriminator_losses.append(errD.item())\n",
    "\n",
    "            # TRAINING THE GENERATOR\n",
    "            netG.zero_grad()\n",
    "            optimizerG.zero_grad()\n",
    "            generated = netG(profile)\n",
    "            output = netD(profile, generated)\n",
    "\n",
    "            # G wants to have the synthetic images be accepted by D\n",
    "            errG_GAN = criterion(output, torch.ones_like(output).float())\n",
    "\n",
    "            # Calculate L1 and L2 loss between generated and real images\n",
    "            #errG_L1 = F.l1_loss(generated, frontal.float())\n",
    "            #errG_L2 = F.mse_loss(generated, frontal.float())\n",
    "            errG_L1 = multi_scale_pixelwise_loss(generated, real)  # Multi-scale pixel-wise loss\n",
    "           \n",
    "            #errG_L1 = torch.mean(torch.abs(real - generated))\n",
    "            errG_L2 = torch.mean(torch.pow((real - generated), 2))\n",
    "            \n",
    "            # Total generator loss\n",
    "            errG = GAN_factor * errG_GAN + L1_factor * errG_L1 + L2_factor * errG_L2\n",
    "            errG.backward()\n",
    "            optimizerG.step()\n",
    "\n",
    "             #Accumulate generator loss\n",
    "            generator_losses.append(errG.item())\n",
    "\n",
    "            #Accumulate multi-scale pixel-wise loss\n",
    "            multi_scale_losses.append(errG_L1.item())\n",
    "\n",
    "            # Update loss values\n",
    "            loss_L1 += errG_L1.item()\n",
    "            loss_L2 += errG_L2.item()\n",
    "            loss_gan += errG_GAN.item()\n",
    "\n",
    "            # Calculate PSNR for each generated image and accumulate\n",
    "            psnr = calculate_psnr(generated, frontal)\n",
    "            total_psnr += psnr\n",
    "\n",
    "            # Calculate SSIM for each generated image and accumulate\n",
    "            ssim_val = calculate_ssim(generated, frontal)\n",
    "            total_ssim += ssim_val\n",
    "\n",
    "            pbar.update(1)\n",
    "\n",
    "   # Append the average losses to the respective lists\n",
    "\n",
    "\n",
    "    avg_gen_loss = sum(generator_losses[epoch * len(train_pipe_loader):(epoch + 1) * len(train_pipe_loader)]) / len(train_pipe_loader)\n",
    "    avg_disc_loss = sum(discriminator_losses[epoch * len(train_pipe_loader):(epoch + 1) * len(train_pipe_loader)]) / len(train_pipe_loader)\n",
    "    avg_multi_loss = sum(multi_scale_losses[epoch * len(train_pipe_loader):(epoch + 1) * len(train_pipe_loader)]) / len(train_pipe_loader)\n",
    "\n",
    "    avg_generator_losses.append(avg_gen_loss)\n",
    "    avg_discriminator_losses.append(avg_disc_loss)\n",
    "    avg_multi_scale_losses.append(avg_multi_loss)\n",
    "    \n",
    "    \n",
    "    # Calculate average PSNR and SSIM for this epoch\n",
    "    avg_psnr = total_psnr / len(train_pipe_loader)\n",
    "    avg_ssim = total_ssim / len(train_pipe_loader)\n",
    "\n",
    "    # Append the average PSNR and SSIM for this epoch to the respective lists\n",
    "    psnr_values.append(avg_psnr)\n",
    "    ssim_values.append(avg_ssim)\n",
    "    \n",
    "    if epoch == 0:\n",
    "        print('First training epoch completed in ',(time.time() - start_time),' seconds')\n",
    "    #if epoch > 0:\n",
    "        #print(f\"Epoch: {epoch} is starting..\")\n",
    "    # reset the DALI iterator\n",
    "    #train_pipe_loader.reset()\n",
    "\n",
    "    losses_L1.append(loss_L1 / m_train)\n",
    "    losses_L2.append(loss_L2 / m_train)\n",
    "    losses_gan.append(loss_gan / m_train)\n",
    "\n",
    "     # Save checkpoint after each epoch\n",
    "    checkpoint_state = {\n",
    "      'epoch': epoch,\n",
    "      'netG_state_dict': netG.state_dict(),\n",
    "      'netD_state_dict': netD.state_dict(),\n",
    "      'optimizerG_state_dict': optimizerG.state_dict(),\n",
    "      'optimizerD_state_dict': optimizerD.state_dict(),\n",
    "      'loss_L1': loss_L1,\n",
    "      'loss_L2': loss_L2,\n",
    "      'loss_gan': loss_gan,\n",
    "      'psnr_values': psnr_values,\n",
    "      'ssim_values': ssim_values,\n",
    "      'losses_L1': losses_L1,\n",
    "      'losses_L2': losses_L2,\n",
    "      'losses_gan': losses_gan,\n",
    "      'discriminator_losses': discriminator_losses,\n",
    "      'generator_losses': generator_losses,\n",
    "      'multi_scale_losses': multi_scale_losses,\n",
    "      'avg_generator_losses': avg_generator_losses,\n",
    "      'avg_discriminator_losses': avg_discriminator_losses,\n",
    "      'avg_multi_scale_losses': avg_multi_scale_losses,\n",
    "    }\n",
    "    torch.save(checkpoint_state, os.path.join(checkpoint_dir1, f\"checkpoint_{epoch}.pth\"))\n",
    "\n",
    "    \n",
    "\n",
    "    # Print the absolute values of three losses to screen:\n",
    "    print('[%d/40] Training absolute losses: L1 %.7f ; L2 %.7f BCE %.7f; Average PSNR: %.2f; Average SSIM: %.4f' % ((epoch + 1), loss_L1/m_train, loss_L2/m_train, loss_gan/m_train, avg_psnr, avg_ssim, ))\n",
    "\n",
    "    # Print the PSNR and SSIM on each epoch\n",
    "    #print('[%d/30] Average PSNR: %.2f, Average SSIM: %.4f' % (epoch + 1, avg_psnr, avg_ssim))\n",
    "\n",
    "    # Save the inputs, outputs, and ground truth frontals to files:\n",
    "    vutils.save_image(profile.data, 'FFRAD_CAS_output/%03d_input.jpg' % epoch, normalize=True)\n",
    "    vutils.save_image(real.data, 'FFRAD_CAS_output/%03d_real.jpg' % epoch, normalize=True)\n",
    "    vutils.save_image(generated.data, 'FFRAD_CAS_output/%03d_generated.jpg' % epoch, normalize=True)\n",
    "\n",
    "    \n",
    "\n",
    "    # Save the pre-trained Generator as well\n",
    "    torch.save(netG,'FFRAD_CAS_output/netG_%d.pt' % epoch)"
   ]
  },
  {
   "cell_type": "code",
   "execution_count": 20,
   "id": "8946018b-2337-4daa-a51d-5a1c24a64c91",
   "metadata": {},
   "outputs": [],
   "source": [
    "latest_epoch = 30\n",
    "checkpoint_path = os.path.join(checkpoint_dir1, f\"checkpoint_{latest_epoch}.pth\")\n",
    "checkpoint = torch.load(checkpoint_path)\n",
    "\n",
    "# Load model and optimizer states\n",
    "netG.load_state_dict(checkpoint['netG_state_dict'])\n",
    "netD.load_state_dict(checkpoint['netD_state_dict'])\n",
    "optimizerG.load_state_dict(checkpoint['optimizerG_state_dict'])\n",
    "optimizerD.load_state_dict(checkpoint['optimizerD_state_dict'])\n",
    "\n",
    "# Load training progress\n",
    "loss_L1 = checkpoint['loss_L1']\n",
    "loss_L2 = checkpoint['loss_L2']\n",
    "loss_gan = checkpoint['loss_gan']\n",
    "psnr_values = checkpoint['psnr_values']\n",
    "ssim_values = checkpoint['ssim_values']\n",
    "losses_L1 = checkpoint['losses_L1']\n",
    "losses_L2 = checkpoint['losses_L2']\n",
    "losses_gan = checkpoint['losses_gan']\n",
    "discriminator_losses = checkpoint['discriminator_losses']\n",
    "generator_losses = checkpoint['generator_losses']\n",
    "multi_scale_losses = checkpoint['multi_scale_losses']\n",
    "avg_generator_losses = checkpoint['avg_generator_losses']\n",
    "avg_discriminator_losses = checkpoint['avg_discriminator_losses']\n",
    "avg_multi_scale_losses = checkpoint['avg_multi_scale_losses']\n",
    "\n",
    "# Start training from the loaded epoch\n",
    "start_epoch = checkpoint['epoch'] + 1"
   ]
  },
  {
   "cell_type": "code",
   "execution_count": null,
   "id": "cae3d1f5-673f-4014-ac31-0ccf345815d8",
   "metadata": {},
   "outputs": [
    {
     "name": "stderr",
     "output_type": "stream",
     "text": [
      "Epoch 1: 100%|██████████████████████████████████████████████████████████████████████| 39/39 [3:05:08<00:00, 284.83s/it]\n"
     ]
    },
    {
     "name": "stdout",
     "output_type": "stream",
     "text": [
      "[2/40] Training absolute losses: L1 0.0018189 ; L2 0.0003346 BCE 0.0054548; Average PSNR: 13.70; Average SSIM: 0.6004\n"
     ]
    },
    {
     "name": "stderr",
     "output_type": "stream",
     "text": [
      "Epoch 2: 100%|██████████████████████████████████████████████████████████████████████| 39/39 [3:02:53<00:00, 281.36s/it]\n"
     ]
    },
    {
     "name": "stdout",
     "output_type": "stream",
     "text": [
      "[3/40] Training absolute losses: L1 0.0016262 ; L2 0.0002760 BCE 0.0054760; Average PSNR: 14.54; Average SSIM: 0.6548\n"
     ]
    },
    {
     "name": "stderr",
     "output_type": "stream",
     "text": [
      "Epoch 3: 100%|██████████████████████████████████████████████████████████████████████| 39/39 [3:03:00<00:00, 281.56s/it]\n"
     ]
    },
    {
     "name": "stdout",
     "output_type": "stream",
     "text": [
      "[4/40] Training absolute losses: L1 0.0014816 ; L2 0.0002378 BCE 0.0054776; Average PSNR: 15.20; Average SSIM: 0.6943\n"
     ]
    },
    {
     "name": "stderr",
     "output_type": "stream",
     "text": [
      "Epoch 4: 100%|██████████████████████████████████████████████████████████████████████| 39/39 [3:02:23<00:00, 280.59s/it]\n"
     ]
    },
    {
     "name": "stdout",
     "output_type": "stream",
     "text": [
      "[5/40] Training absolute losses: L1 0.0013631 ; L2 0.0002037 BCE 0.0054893; Average PSNR: 15.86; Average SSIM: 0.7215\n"
     ]
    },
    {
     "name": "stderr",
     "output_type": "stream",
     "text": [
      "Epoch 5: 100%|██████████████████████████████████████████████████████████████████████| 39/39 [3:10:37<00:00, 293.27s/it]\n"
     ]
    },
    {
     "name": "stdout",
     "output_type": "stream",
     "text": [
      "[6/40] Training absolute losses: L1 0.0012299 ; L2 0.0001699 BCE 0.0054461; Average PSNR: 16.64; Average SSIM: 0.7574\n"
     ]
    },
    {
     "name": "stderr",
     "output_type": "stream",
     "text": [
      "Epoch 6: 100%|██████████████████████████████████████████████████████████████████████| 39/39 [3:03:23<00:00, 282.14s/it]\n"
     ]
    },
    {
     "name": "stdout",
     "output_type": "stream",
     "text": [
      "[7/40] Training absolute losses: L1 0.0010896 ; L2 0.0001361 BCE 0.0054975; Average PSNR: 17.59; Average SSIM: 0.7940\n"
     ]
    },
    {
     "name": "stderr",
     "output_type": "stream",
     "text": [
      "Epoch 7: 100%|██████████████████████████████████████████████████████████████████████| 39/39 [3:02:40<00:00, 281.03s/it]\n"
     ]
    },
    {
     "name": "stdout",
     "output_type": "stream",
     "text": [
      "[8/40] Training absolute losses: L1 0.0010124 ; L2 0.0001186 BCE 0.0054976; Average PSNR: 18.17; Average SSIM: 0.8148\n"
     ]
    },
    {
     "name": "stderr",
     "output_type": "stream",
     "text": [
      "Epoch 8: 100%|██████████████████████████████████████████████████████████████████████| 39/39 [3:01:49<00:00, 279.73s/it]\n"
     ]
    },
    {
     "name": "stdout",
     "output_type": "stream",
     "text": [
      "[9/40] Training absolute losses: L1 0.0009526 ; L2 0.0001064 BCE 0.0055020; Average PSNR: 18.64; Average SSIM: 0.8268\n"
     ]
    },
    {
     "name": "stderr",
     "output_type": "stream",
     "text": [
      "Epoch 9: 100%|██████████████████████████████████████████████████████████████████████| 39/39 [3:02:27<00:00, 280.70s/it]\n"
     ]
    },
    {
     "name": "stdout",
     "output_type": "stream",
     "text": [
      "[10/40] Training absolute losses: L1 0.0008863 ; L2 0.0000921 BCE 0.0054772; Average PSNR: 19.26; Average SSIM: 0.8449\n"
     ]
    },
    {
     "name": "stderr",
     "output_type": "stream",
     "text": [
      "Epoch 10: 100%|█████████████████████████████████████████████████████████████████████| 39/39 [3:03:08<00:00, 281.77s/it]\n"
     ]
    },
    {
     "name": "stdout",
     "output_type": "stream",
     "text": [
      "[11/40] Training absolute losses: L1 0.0008239 ; L2 0.0000811 BCE 0.0054883; Average PSNR: 19.80; Average SSIM: 0.8583\n"
     ]
    },
    {
     "name": "stderr",
     "output_type": "stream",
     "text": [
      "Epoch 11: 100%|█████████████████████████████████████████████████████████████████████| 39/39 [3:04:45<00:00, 284.26s/it]\n"
     ]
    },
    {
     "name": "stdout",
     "output_type": "stream",
     "text": [
      "[12/40] Training absolute losses: L1 0.0008160 ; L2 0.0000767 BCE 0.0054678; Average PSNR: 20.05; Average SSIM: 0.8637\n"
     ]
    },
    {
     "name": "stderr",
     "output_type": "stream",
     "text": [
      "Epoch 12: 100%|█████████████████████████████████████████████████████████████████████| 39/39 [3:02:38<00:00, 280.99s/it]\n"
     ]
    },
    {
     "name": "stdout",
     "output_type": "stream",
     "text": [
      "[13/40] Training absolute losses: L1 0.0007457 ; L2 0.0000674 BCE 0.0054781; Average PSNR: 20.60; Average SSIM: 0.8773\n"
     ]
    },
    {
     "name": "stderr",
     "output_type": "stream",
     "text": [
      "Epoch 13: 100%|█████████████████████████████████████████████████████████████████████| 39/39 [3:02:54<00:00, 281.39s/it]\n"
     ]
    },
    {
     "name": "stdout",
     "output_type": "stream",
     "text": [
      "[14/40] Training absolute losses: L1 0.0007256 ; L2 0.0000628 BCE 0.0054408; Average PSNR: 20.91; Average SSIM: 0.8848\n"
     ]
    },
    {
     "name": "stderr",
     "output_type": "stream",
     "text": [
      "Epoch 14: 100%|█████████████████████████████████████████████████████████████████████| 39/39 [3:04:18<00:00, 283.56s/it]\n"
     ]
    },
    {
     "name": "stdout",
     "output_type": "stream",
     "text": [
      "[15/40] Training absolute losses: L1 0.0006965 ; L2 0.0000588 BCE 0.0054612; Average PSNR: 21.20; Average SSIM: 0.8912\n"
     ]
    },
    {
     "name": "stderr",
     "output_type": "stream",
     "text": [
      "Epoch 15: 100%|█████████████████████████████████████████████████████████████████████| 39/39 [3:05:01<00:00, 284.65s/it]\n"
     ]
    },
    {
     "name": "stdout",
     "output_type": "stream",
     "text": [
      "[16/40] Training absolute losses: L1 0.0006679 ; L2 0.0000545 BCE 0.0054738; Average PSNR: 21.53; Average SSIM: 0.8965\n"
     ]
    },
    {
     "name": "stderr",
     "output_type": "stream",
     "text": [
      "Epoch 16: 100%|█████████████████████████████████████████████████████████████████████| 39/39 [3:05:00<00:00, 284.63s/it]\n"
     ]
    },
    {
     "name": "stdout",
     "output_type": "stream",
     "text": [
      "[17/40] Training absolute losses: L1 0.0006360 ; L2 0.0000504 BCE 0.0054934; Average PSNR: 21.86; Average SSIM: 0.9049\n"
     ]
    },
    {
     "name": "stderr",
     "output_type": "stream",
     "text": [
      "Epoch 17: 100%|█████████████████████████████████████████████████████████████████████| 39/39 [3:03:47<00:00, 282.75s/it]\n"
     ]
    },
    {
     "name": "stdout",
     "output_type": "stream",
     "text": [
      "[18/40] Training absolute losses: L1 0.0006163 ; L2 0.0000478 BCE 0.0054474; Average PSNR: 22.09; Average SSIM: 0.9094\n"
     ]
    },
    {
     "name": "stderr",
     "output_type": "stream",
     "text": [
      "Epoch 18: 100%|█████████████████████████████████████████████████████████████████████| 39/39 [3:05:27<00:00, 285.33s/it]\n"
     ]
    },
    {
     "name": "stdout",
     "output_type": "stream",
     "text": [
      "[19/40] Training absolute losses: L1 0.0006136 ; L2 0.0000457 BCE 0.0054640; Average PSNR: 22.28; Average SSIM: 0.9105\n"
     ]
    },
    {
     "name": "stderr",
     "output_type": "stream",
     "text": [
      "Epoch 19: 100%|█████████████████████████████████████████████████████████████████████| 39/39 [3:02:47<00:00, 281.22s/it]\n"
     ]
    },
    {
     "name": "stdout",
     "output_type": "stream",
     "text": [
      "[20/40] Training absolute losses: L1 0.0005905 ; L2 0.0000434 BCE 0.0054839; Average PSNR: 22.51; Average SSIM: 0.9138\n"
     ]
    },
    {
     "name": "stderr",
     "output_type": "stream",
     "text": [
      "Epoch 20: 100%|█████████████████████████████████████████████████████████████████████| 39/39 [3:02:24<00:00, 280.62s/it]\n"
     ]
    },
    {
     "name": "stdout",
     "output_type": "stream",
     "text": [
      "[21/40] Training absolute losses: L1 0.0005710 ; L2 0.0000414 BCE 0.0053709; Average PSNR: 22.71; Average SSIM: 0.9200\n"
     ]
    },
    {
     "name": "stderr",
     "output_type": "stream",
     "text": [
      "Epoch 21: 100%|█████████████████████████████████████████████████████████████████████| 39/39 [3:03:47<00:00, 282.76s/it]\n"
     ]
    },
    {
     "name": "stdout",
     "output_type": "stream",
     "text": [
      "[22/40] Training absolute losses: L1 0.0005433 ; L2 0.0000380 BCE 0.0053739; Average PSNR: 23.08; Average SSIM: 0.9257\n"
     ]
    },
    {
     "name": "stderr",
     "output_type": "stream",
     "text": [
      "Epoch 22: 100%|█████████████████████████████████████████████████████████████████████| 39/39 [3:03:33<00:00, 282.39s/it]\n"
     ]
    },
    {
     "name": "stdout",
     "output_type": "stream",
     "text": [
      "[23/40] Training absolute losses: L1 0.0005435 ; L2 0.0000376 BCE 0.0054659; Average PSNR: 23.13; Average SSIM: 0.9254\n"
     ]
    },
    {
     "name": "stderr",
     "output_type": "stream",
     "text": [
      "Epoch 23: 100%|█████████████████████████████████████████████████████████████████████| 39/39 [3:04:18<00:00, 283.55s/it]\n"
     ]
    },
    {
     "name": "stdout",
     "output_type": "stream",
     "text": [
      "[24/40] Training absolute losses: L1 0.0005201 ; L2 0.0000352 BCE 0.0054957; Average PSNR: 23.42; Average SSIM: 0.9319\n"
     ]
    },
    {
     "name": "stderr",
     "output_type": "stream",
     "text": [
      "Epoch 24: 100%|█████████████████████████████████████████████████████████████████████| 39/39 [3:06:32<00:00, 286.98s/it]\n"
     ]
    },
    {
     "name": "stdout",
     "output_type": "stream",
     "text": [
      "[25/40] Training absolute losses: L1 0.0005299 ; L2 0.0000350 BCE 0.0054711; Average PSNR: 23.44; Average SSIM: 0.9294\n"
     ]
    },
    {
     "name": "stderr",
     "output_type": "stream",
     "text": [
      "Epoch 25: 100%|█████████████████████████████████████████████████████████████████████| 39/39 [3:05:42<00:00, 285.69s/it]\n"
     ]
    },
    {
     "name": "stdout",
     "output_type": "stream",
     "text": [
      "[26/40] Training absolute losses: L1 0.0005185 ; L2 0.0000336 BCE 0.0054927; Average PSNR: 23.63; Average SSIM: 0.9310\n"
     ]
    },
    {
     "name": "stderr",
     "output_type": "stream",
     "text": [
      "Epoch 26: 100%|█████████████████████████████████████████████████████████████████████| 39/39 [3:09:27<00:00, 291.49s/it]\n"
     ]
    },
    {
     "name": "stdout",
     "output_type": "stream",
     "text": [
      "[27/40] Training absolute losses: L1 0.0004947 ; L2 0.0000320 BCE 0.0054790; Average PSNR: 23.83; Average SSIM: 0.9367\n"
     ]
    },
    {
     "name": "stderr",
     "output_type": "stream",
     "text": [
      "Epoch 27: 100%|█████████████████████████████████████████████████████████████████████| 39/39 [3:03:35<00:00, 282.45s/it]\n"
     ]
    },
    {
     "name": "stdout",
     "output_type": "stream",
     "text": [
      "[28/40] Training absolute losses: L1 0.0004926 ; L2 0.0000310 BCE 0.0054926; Average PSNR: 23.97; Average SSIM: 0.9375\n"
     ]
    },
    {
     "name": "stderr",
     "output_type": "stream",
     "text": [
      "Epoch 28: 100%|█████████████████████████████████████████████████████████████████████| 39/39 [3:10:45<00:00, 293.47s/it]\n"
     ]
    },
    {
     "name": "stdout",
     "output_type": "stream",
     "text": [
      "[29/40] Training absolute losses: L1 0.0004931 ; L2 0.0000310 BCE 0.0054941; Average PSNR: 23.98; Average SSIM: 0.9383\n"
     ]
    },
    {
     "name": "stderr",
     "output_type": "stream",
     "text": [
      "Epoch 29: 100%|█████████████████████████████████████████████████████████████████████| 39/39 [3:24:25<00:00, 314.51s/it]\n"
     ]
    },
    {
     "name": "stdout",
     "output_type": "stream",
     "text": [
      "[30/40] Training absolute losses: L1 0.0004695 ; L2 0.0000289 BCE 0.0053932; Average PSNR: 24.27; Average SSIM: 0.9435\n"
     ]
    },
    {
     "name": "stderr",
     "output_type": "stream",
     "text": [
      "Epoch 30: 100%|█████████████████████████████████████████████████████████████████████| 39/39 [3:04:32<00:00, 283.91s/it]\n"
     ]
    },
    {
     "name": "stdout",
     "output_type": "stream",
     "text": [
      "[31/40] Training absolute losses: L1 0.0004548 ; L2 0.0000274 BCE 0.0054837; Average PSNR: 24.50; Average SSIM: 0.9428\n"
     ]
    },
    {
     "name": "stderr",
     "output_type": "stream",
     "text": [
      "Epoch 31:  69%|██████████████████████████████████████████████▍                    | 27/39 [1:30:57<1:09:04, 345.36s/it]"
     ]
    }
   ],
   "source": [
    "\n",
    "for epoch in range(start_epoch,40):  # Assuming 3 epochs for demonstration\n",
    "    \n",
    "    # Track loss values for each epoch\n",
    "    loss_L1 = 0\n",
    "    loss_L2 = 0\n",
    "    loss_gan = 0\n",
    "    total_psnr = 0\n",
    "    total_ssim = 0\n",
    "    \n",
    "   \n",
    "    with tqdm(total=len(train_pipe_loader), desc=f\"Epoch {epoch}\") as pbar:\n",
    "        for i, data in enumerate(train_pipe_loader, 0):\n",
    "            profile = data[0].view(128, 1, 128, 128).to(device)  # Reshape and move to device\n",
    "            frontal = data[1].view(128, 1, 128, 128).to(device)  # Reshape and move to device\n",
    "\n",
    "            # TRAINING THE DISCRIMINATOR\n",
    "            netD.zero_grad()\n",
    "            optimizerD.zero_grad()\n",
    "\n",
    "            real = Variable(frontal).type('torch.FloatTensor').to(device)\n",
    "            target = Variable(torch.ones(real.size()[0])).to(device)\n",
    "            profile = Variable(profile).type('torch.FloatTensor').to(device)\n",
    "            \n",
    "            real_output = netD(real,real)  # Discriminator output for real images\n",
    "            generated = netG(profile)  # Generate images from profile\n",
    "            fake_output = netD(profile, generated.detach())  # Discriminator output for fake images\n",
    "\n",
    "            # Concatenate real and fake outputs along a new dimension\n",
    "            concatenated = torch.cat((real_output, fake_output), dim=0)\n",
    "\n",
    "            # Create labels for real and fake images\n",
    "            target_real = torch.ones_like(real_output)\n",
    "            target_fake = torch.zeros_like(fake_output)\n",
    "            targets = torch.cat((target_real, target_fake), dim=0)\n",
    "\n",
    "            # Calculate BCE loss for the concatenated outputs\n",
    "            #errD = F.binary_cross_entropy_with_logits(concatenated, targets)\n",
    "\n",
    "            errD = criterion(concatenated, targets.float())\n",
    "            errD.backward()\n",
    "            optimizerD.step()\n",
    "             # Accumulate discriminator loss\n",
    "            discriminator_losses.append(errD.item())\n",
    "\n",
    "            # TRAINING THE GENERATOR\n",
    "            netG.zero_grad()\n",
    "            optimizerG.zero_grad()\n",
    "            generated = netG(profile)\n",
    "            output = netD(profile, generated)\n",
    "\n",
    "            # G wants to have the synthetic images be accepted by D\n",
    "            errG_GAN = criterion(output, torch.ones_like(output).float())\n",
    "\n",
    "            # Calculate L1 and L2 loss between generated and real images\n",
    "            #errG_L1 = F.l1_loss(generated, frontal.float())\n",
    "            #errG_L2 = F.mse_loss(generated, frontal.float())\n",
    "            errG_L1 = multi_scale_pixelwise_loss(generated, real)  # Multi-scale pixel-wise loss\n",
    "           \n",
    "            #errG_L1 = torch.mean(torch.abs(real - generated))\n",
    "            errG_L2 = torch.mean(torch.pow((real - generated), 2))\n",
    "            \n",
    "            # Total generator loss\n",
    "            errG = GAN_factor * errG_GAN + L1_factor * errG_L1 + L2_factor * errG_L2\n",
    "            errG.backward()\n",
    "            optimizerG.step()\n",
    "\n",
    "             #Accumulate generator loss\n",
    "            generator_losses.append(errG.item())\n",
    "\n",
    "            #Accumulate multi-scale pixel-wise loss\n",
    "            multi_scale_losses.append(errG_L1.item())\n",
    "\n",
    "            # Update loss values\n",
    "            loss_L1 += errG_L1.item()\n",
    "            loss_L2 += errG_L2.item()\n",
    "            loss_gan += errG_GAN.item()\n",
    "\n",
    "            # Calculate PSNR for each generated image and accumulate\n",
    "            psnr = calculate_psnr(generated, frontal)\n",
    "            total_psnr += psnr\n",
    "\n",
    "            # Calculate SSIM for each generated image and accumulate\n",
    "            ssim_val = calculate_ssim(generated, frontal)\n",
    "            total_ssim += ssim_val\n",
    "\n",
    "            pbar.update(1)\n",
    "\n",
    "   # Append the average losses to the respective lists\n",
    "\n",
    "\n",
    "    avg_gen_loss = sum(generator_losses[epoch * len(train_pipe_loader):(epoch + 1) * len(train_pipe_loader)]) / len(train_pipe_loader)\n",
    "    avg_disc_loss = sum(discriminator_losses[epoch * len(train_pipe_loader):(epoch + 1) * len(train_pipe_loader)]) / len(train_pipe_loader)\n",
    "    avg_multi_loss = sum(multi_scale_losses[epoch * len(train_pipe_loader):(epoch + 1) * len(train_pipe_loader)]) / len(train_pipe_loader)\n",
    "\n",
    "    avg_generator_losses.append(avg_gen_loss)\n",
    "    avg_discriminator_losses.append(avg_disc_loss)\n",
    "    avg_multi_scale_losses.append(avg_multi_loss)\n",
    "    \n",
    "    \n",
    "    # Calculate average PSNR and SSIM for this epoch\n",
    "    avg_psnr = total_psnr / len(train_pipe_loader)\n",
    "    avg_ssim = total_ssim / len(train_pipe_loader)\n",
    "\n",
    "    # Append the average PSNR and SSIM for this epoch to the respective lists\n",
    "    psnr_values.append(avg_psnr)\n",
    "    ssim_values.append(avg_ssim)\n",
    "    \n",
    "    if epoch == 0:\n",
    "        print('First training epoch completed in ',(time.time() - start_time),' seconds')\n",
    "    #if epoch > 0:\n",
    "        #print(f\"Epoch: {epoch} is starting..\")\n",
    "    # reset the DALI iterator\n",
    "    #train_pipe_loader.reset()\n",
    "\n",
    "    losses_L1.append(loss_L1 / m_train)\n",
    "    losses_L2.append(loss_L2 / m_train)\n",
    "    losses_gan.append(loss_gan / m_train)\n",
    "\n",
    "     # Save checkpoint after each epoch\n",
    "    checkpoint_state = {\n",
    "      'epoch': epoch,\n",
    "      'netG_state_dict': netG.state_dict(),\n",
    "      'netD_state_dict': netD.state_dict(),\n",
    "      'optimizerG_state_dict': optimizerG.state_dict(),\n",
    "      'optimizerD_state_dict': optimizerD.state_dict(),\n",
    "      'loss_L1': loss_L1,\n",
    "      'loss_L2': loss_L2,\n",
    "      'loss_gan': loss_gan,\n",
    "      'psnr_values': psnr_values,\n",
    "      'ssim_values': ssim_values,\n",
    "      'losses_L1': losses_L1,\n",
    "      'losses_L2': losses_L2,\n",
    "      'losses_gan': losses_gan,\n",
    "      'discriminator_losses': discriminator_losses,\n",
    "      'generator_losses': generator_losses,\n",
    "      'multi_scale_losses': multi_scale_losses,\n",
    "      'avg_generator_losses': avg_generator_losses,\n",
    "      'avg_discriminator_losses': avg_discriminator_losses,\n",
    "      'avg_multi_scale_losses': avg_multi_scale_losses,\n",
    "    }\n",
    "    torch.save(checkpoint_state, os.path.join(checkpoint_dir1, f\"checkpoint_{epoch}.pth\"))\n",
    "\n",
    "    \n",
    "\n",
    "    # Print the absolute values of three losses to screen:\n",
    "    print('[%d/40] Training absolute losses: L1 %.7f ; L2 %.7f BCE %.7f; Average PSNR: %.2f; Average SSIM: %.4f' % ((epoch + 1), loss_L1/m_train, loss_L2/m_train, loss_gan/m_train, avg_psnr, avg_ssim, ))\n",
    "\n",
    "    # Print the PSNR and SSIM on each epoch\n",
    "    #print('[%d/30] Average PSNR: %.2f, Average SSIM: %.4f' % (epoch + 1, avg_psnr, avg_ssim))\n",
    "\n",
    "    # Save the inputs, outputs, and ground truth frontals to files:\n",
    "    vutils.save_image(profile.data, 'FFRAD_CAS_output/%03d_input.jpg' % epoch, normalize=True)\n",
    "    vutils.save_image(real.data, 'FFRAD_CAS_output/%03d_real.jpg' % epoch, normalize=True)\n",
    "    vutils.save_image(generated.data, 'FFRAD_CAS_output/%03d_generated.jpg' % epoch, normalize=True)\n",
    "\n",
    "    \n",
    "\n",
    "    # Save the pre-trained Generator as well\n",
    "    torch.save(netG,'FFRAD_CAS_output/netG_%d.pt' % epoch)"
   ]
  },
  {
   "cell_type": "code",
   "execution_count": null,
   "id": "dda1a535-ea0a-4f35-a83f-f8d017cda548",
   "metadata": {},
   "outputs": [],
   "source": []
  },
  {
   "cell_type": "code",
   "execution_count": null,
   "id": "2aa82673-44c8-47ce-b4ff-239a6df7fb9a",
   "metadata": {},
   "outputs": [
    {
     "name": "stderr",
     "output_type": "stream",
     "text": [
      "Epoch 31: 100%|█████████████████████████████████████████████████████████████████████| 39/39 [2:54:27<00:00, 268.39s/it]\n"
     ]
    },
    {
     "name": "stdout",
     "output_type": "stream",
     "text": [
      "[32/40] Training absolute losses: L1 0.0005859 ; L2 0.0000458 BCE 0.0054510; Average PSNR: 22.50; Average SSIM: 0.9208\n"
     ]
    },
    {
     "name": "stderr",
     "output_type": "stream",
     "text": [
      "Epoch 32: 100%|█████████████████████████████████████████████████████████████████████| 39/39 [2:51:26<00:00, 263.76s/it]\n"
     ]
    },
    {
     "name": "stdout",
     "output_type": "stream",
     "text": [
      "[33/40] Training absolute losses: L1 0.0005185 ; L2 0.0000353 BCE 0.0054886; Average PSNR: 23.50; Average SSIM: 0.9357\n"
     ]
    },
    {
     "name": "stderr",
     "output_type": "stream",
     "text": [
      "Epoch 33: 100%|█████████████████████████████████████████████████████████████████████| 39/39 [3:25:00<00:00, 315.39s/it]\n"
     ]
    },
    {
     "name": "stdout",
     "output_type": "stream",
     "text": [
      "[34/40] Training absolute losses: L1 0.0005383 ; L2 0.0000375 BCE 0.0054895; Average PSNR: 23.29; Average SSIM: 0.9318\n"
     ]
    },
    {
     "name": "stderr",
     "output_type": "stream",
     "text": [
      "Epoch 34: 100%|█████████████████████████████████████████████████████████████████████| 39/39 [2:52:37<00:00, 265.57s/it]\n"
     ]
    },
    {
     "name": "stdout",
     "output_type": "stream",
     "text": [
      "[35/40] Training absolute losses: L1 0.0004855 ; L2 0.0000322 BCE 0.0054034; Average PSNR: 23.88; Average SSIM: 0.9415\n"
     ]
    },
    {
     "name": "stderr",
     "output_type": "stream",
     "text": [
      "Epoch 35: 100%|█████████████████████████████████████████████████████████████████████| 39/39 [2:52:48<00:00, 265.86s/it]\n"
     ]
    },
    {
     "name": "stdout",
     "output_type": "stream",
     "text": [
      "[36/40] Training absolute losses: L1 0.0004716 ; L2 0.0000295 BCE 0.0054798; Average PSNR: 24.24; Average SSIM: 0.9455\n"
     ]
    },
    {
     "name": "stderr",
     "output_type": "stream",
     "text": [
      "Epoch 36: 100%|█████████████████████████████████████████████████████████████████████| 39/39 [2:52:41<00:00, 265.67s/it]\n"
     ]
    },
    {
     "name": "stdout",
     "output_type": "stream",
     "text": [
      "[37/40] Training absolute losses: L1 0.0004349 ; L2 0.0000252 BCE 0.0054435; Average PSNR: 24.87; Average SSIM: 0.9504\n"
     ]
    },
    {
     "name": "stderr",
     "output_type": "stream",
     "text": [
      "Epoch 37: 100%|█████████████████████████████████████████████████████████████████████| 39/39 [2:50:34<00:00, 262.42s/it]\n"
     ]
    },
    {
     "name": "stdout",
     "output_type": "stream",
     "text": [
      "[38/40] Training absolute losses: L1 0.0004374 ; L2 0.0000248 BCE 0.0054806; Average PSNR: 24.94; Average SSIM: 0.9501\n"
     ]
    },
    {
     "name": "stderr",
     "output_type": "stream",
     "text": [
      "Epoch 38:  56%|██████████████████████████████████████▉                              | 22/39 [54:44<1:13:44, 260.27s/it]"
     ]
    }
   ],
   "source": [
    "\n",
    "for epoch in range(start_epoch,40):  # Assuming 3 epochs for demonstration\n",
    "    \n",
    "    # Track loss values for each epoch\n",
    "    loss_L1 = 0\n",
    "    loss_L2 = 0\n",
    "    loss_gan = 0\n",
    "    total_psnr = 0\n",
    "    total_ssim = 0\n",
    "    \n",
    "   \n",
    "    with tqdm(total=len(train_pipe_loader), desc=f\"Epoch {epoch}\") as pbar:\n",
    "        for i, data in enumerate(train_pipe_loader, 0):\n",
    "            profile = data[0].view(128, 1, 128, 128).to(device)  # Reshape and move to device\n",
    "            frontal = data[1].view(128, 1, 128, 128).to(device)  # Reshape and move to device\n",
    "\n",
    "            # TRAINING THE DISCRIMINATOR\n",
    "            netD.zero_grad()\n",
    "            optimizerD.zero_grad()\n",
    "\n",
    "            real = Variable(frontal).type('torch.FloatTensor').to(device)\n",
    "            target = Variable(torch.ones(real.size()[0])).to(device)\n",
    "            profile = Variable(profile).type('torch.FloatTensor').to(device)\n",
    "            \n",
    "            real_output = netD(real,real)  # Discriminator output for real images\n",
    "            generated = netG(profile)  # Generate images from profile\n",
    "            fake_output = netD(profile, generated.detach())  # Discriminator output for fake images\n",
    "\n",
    "            # Concatenate real and fake outputs along a new dimension\n",
    "            concatenated = torch.cat((real_output, fake_output), dim=0)\n",
    "\n",
    "            # Create labels for real and fake images\n",
    "            target_real = torch.ones_like(real_output)\n",
    "            target_fake = torch.zeros_like(fake_output)\n",
    "            targets = torch.cat((target_real, target_fake), dim=0)\n",
    "\n",
    "            # Calculate BCE loss for the concatenated outputs\n",
    "            #errD = F.binary_cross_entropy_with_logits(concatenated, targets)\n",
    "\n",
    "            errD = criterion(concatenated, targets.float())\n",
    "            errD.backward()\n",
    "            optimizerD.step()\n",
    "             # Accumulate discriminator loss\n",
    "            discriminator_losses.append(errD.item())\n",
    "\n",
    "            # TRAINING THE GENERATOR\n",
    "            netG.zero_grad()\n",
    "            optimizerG.zero_grad()\n",
    "            generated = netG(profile)\n",
    "            output = netD(profile, generated)\n",
    "\n",
    "            # G wants to have the synthetic images be accepted by D\n",
    "            errG_GAN = criterion(output, torch.ones_like(output).float())\n",
    "\n",
    "            # Calculate L1 and L2 loss between generated and real images\n",
    "            #errG_L1 = F.l1_loss(generated, frontal.float())\n",
    "            #errG_L2 = F.mse_loss(generated, frontal.float())\n",
    "            errG_L1 = multi_scale_pixelwise_loss(generated, real)  # Multi-scale pixel-wise loss\n",
    "           \n",
    "            #errG_L1 = torch.mean(torch.abs(real - generated))\n",
    "            errG_L2 = torch.mean(torch.pow((real - generated), 2))\n",
    "            \n",
    "            # Total generator loss\n",
    "            errG = GAN_factor * errG_GAN + L1_factor * errG_L1 + L2_factor * errG_L2\n",
    "            errG.backward()\n",
    "            optimizerG.step()\n",
    "\n",
    "             #Accumulate generator loss\n",
    "            generator_losses.append(errG.item())\n",
    "\n",
    "            #Accumulate multi-scale pixel-wise loss\n",
    "            multi_scale_losses.append(errG_L1.item())\n",
    "\n",
    "            # Update loss values\n",
    "            loss_L1 += errG_L1.item()\n",
    "            loss_L2 += errG_L2.item()\n",
    "            loss_gan += errG_GAN.item()\n",
    "\n",
    "            # Calculate PSNR for each generated image and accumulate\n",
    "            psnr = calculate_psnr(generated, frontal)\n",
    "            total_psnr += psnr\n",
    "\n",
    "            # Calculate SSIM for each generated image and accumulate\n",
    "            ssim_val = calculate_ssim(generated, frontal)\n",
    "            total_ssim += ssim_val\n",
    "\n",
    "            pbar.update(1)\n",
    "\n",
    "   # Append the average losses to the respective lists\n",
    "\n",
    "\n",
    "    avg_gen_loss = sum(generator_losses[epoch * len(train_pipe_loader):(epoch + 1) * len(train_pipe_loader)]) / len(train_pipe_loader)\n",
    "    avg_disc_loss = sum(discriminator_losses[epoch * len(train_pipe_loader):(epoch + 1) * len(train_pipe_loader)]) / len(train_pipe_loader)\n",
    "    avg_multi_loss = sum(multi_scale_losses[epoch * len(train_pipe_loader):(epoch + 1) * len(train_pipe_loader)]) / len(train_pipe_loader)\n",
    "\n",
    "    avg_generator_losses.append(avg_gen_loss)\n",
    "    avg_discriminator_losses.append(avg_disc_loss)\n",
    "    avg_multi_scale_losses.append(avg_multi_loss)\n",
    "    \n",
    "    \n",
    "    # Calculate average PSNR and SSIM for this epoch\n",
    "    avg_psnr = total_psnr / len(train_pipe_loader)\n",
    "    avg_ssim = total_ssim / len(train_pipe_loader)\n",
    "\n",
    "    # Append the average PSNR and SSIM for this epoch to the respective lists\n",
    "    psnr_values.append(avg_psnr)\n",
    "    ssim_values.append(avg_ssim)\n",
    "    \n",
    "    if epoch == 0:\n",
    "        print('First training epoch completed in ',(time.time() - start_time),' seconds')\n",
    "    #if epoch > 0:\n",
    "        #print(f\"Epoch: {epoch} is starting..\")\n",
    "    # reset the DALI iterator\n",
    "    #train_pipe_loader.reset()\n",
    "\n",
    "    losses_L1.append(loss_L1 / m_train)\n",
    "    losses_L2.append(loss_L2 / m_train)\n",
    "    losses_gan.append(loss_gan / m_train)\n",
    "\n",
    "     # Save checkpoint after each epoch\n",
    "    checkpoint_state = {\n",
    "      'epoch': epoch,\n",
    "      'netG_state_dict': netG.state_dict(),\n",
    "      'netD_state_dict': netD.state_dict(),\n",
    "      'optimizerG_state_dict': optimizerG.state_dict(),\n",
    "      'optimizerD_state_dict': optimizerD.state_dict(),\n",
    "      'loss_L1': loss_L1,\n",
    "      'loss_L2': loss_L2,\n",
    "      'loss_gan': loss_gan,\n",
    "      'psnr_values': psnr_values,\n",
    "      'ssim_values': ssim_values,\n",
    "      'losses_L1': losses_L1,\n",
    "      'losses_L2': losses_L2,\n",
    "      'losses_gan': losses_gan,\n",
    "      'discriminator_losses': discriminator_losses,\n",
    "      'generator_losses': generator_losses,\n",
    "      'multi_scale_losses': multi_scale_losses,\n",
    "      'avg_generator_losses': avg_generator_losses,\n",
    "      'avg_discriminator_losses': avg_discriminator_losses,\n",
    "      'avg_multi_scale_losses': avg_multi_scale_losses,\n",
    "    }\n",
    "    torch.save(checkpoint_state, os.path.join(checkpoint_dir1, f\"checkpoint_{epoch}.pth\"))\n",
    "\n",
    "    \n",
    "\n",
    "    # Print the absolute values of three losses to screen:\n",
    "    print('[%d/40] Training absolute losses: L1 %.7f ; L2 %.7f BCE %.7f; Average PSNR: %.2f; Average SSIM: %.4f' % ((epoch + 1), loss_L1/m_train, loss_L2/m_train, loss_gan/m_train, avg_psnr, avg_ssim, ))\n",
    "\n",
    "    # Print the PSNR and SSIM on each epoch\n",
    "    #print('[%d/30] Average PSNR: %.2f, Average SSIM: %.4f' % (epoch + 1, avg_psnr, avg_ssim))\n",
    "\n",
    "    # Save the inputs, outputs, and ground truth frontals to files:\n",
    "    vutils.save_image(profile.data, 'FFRAD_CAS_output/%03d_input.jpg' % epoch, normalize=True)\n",
    "    vutils.save_image(real.data, 'FFRAD_CAS_output/%03d_real.jpg' % epoch, normalize=True)\n",
    "    vutils.save_image(generated.data, 'FFRAD_CAS_output/%03d_generated.jpg' % epoch, normalize=True)\n",
    "\n",
    "    \n",
    "\n",
    "    # Save the pre-trained Generator as well\n",
    "    torch.save(netG,'FFRAD_CAS_output/netG_%d.pt' % epoch)"
   ]
  },
  {
   "cell_type": "code",
   "execution_count": null,
   "id": "5bd0e781-06e7-4b1f-892b-74320131edf8",
   "metadata": {},
   "outputs": [],
   "source": []
  },
  {
   "cell_type": "code",
   "execution_count": null,
   "id": "59ea6f83-d9d8-40c0-9e16-353be1a918ff",
   "metadata": {},
   "outputs": [],
   "source": []
  }
 ],
 "metadata": {
  "kernelspec": {
   "display_name": "Python 3 (ipykernel)",
   "language": "python",
   "name": "python3"
  },
  "language_info": {
   "codemirror_mode": {
    "name": "ipython",
    "version": 3
   },
   "file_extension": ".py",
   "mimetype": "text/x-python",
   "name": "python",
   "nbconvert_exporter": "python",
   "pygments_lexer": "ipython3",
   "version": "3.11.7"
  }
 },
 "nbformat": 4,
 "nbformat_minor": 5
}
